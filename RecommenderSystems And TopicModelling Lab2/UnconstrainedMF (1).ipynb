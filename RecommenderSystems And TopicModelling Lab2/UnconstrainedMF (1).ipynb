{
 "cells": [
  {
   "cell_type": "code",
   "execution_count": 19,
   "metadata": {
    "colab": {},
    "colab_type": "code",
    "id": "tplcN1k28nhK"
   },
   "outputs": [],
   "source": [
    "import matplotlib.pyplot as plt\n",
    "import csv\n",
    "import pandas as pd\n",
    "import operator\n",
    "from statistics import mean,pstdev\n",
    "import numpy as np\n",
    "import random\n",
    "import copy\n",
    "from math import sqrt\n",
    "from numpy import linalg as LA"
   ]
  },
  {
   "cell_type": "code",
   "execution_count": 3,
   "metadata": {
    "colab": {
     "base_uri": "https://localhost:8080/",
     "height": 35
    },
    "colab_type": "code",
    "id": "Vc0qaDRQ8oj5",
    "outputId": "e891e817-a7a9-4844-a472-16396bc721d1"
   },
   "outputs": [],
   "source": [
    "# from google.colab import drive\n",
    "# drive.mount('/content/drive',force_remount=True)"
   ]
  },
  {
   "cell_type": "code",
   "execution_count": 4,
   "metadata": {
    "colab": {
     "base_uri": "https://localhost:8080/",
     "height": 928
    },
    "colab_type": "code",
    "id": "GWMNxN6Td1lb",
    "outputId": "d73f26c2-33fc-4c20-9864-fe13cde514e7"
   },
   "outputs": [],
   "source": [
    "# cd .."
   ]
  },
  {
   "cell_type": "code",
   "execution_count": 5,
   "metadata": {
    "colab": {
     "base_uri": "https://localhost:8080/",
     "height": 769
    },
    "colab_type": "code",
    "id": "YgBNQ0cldVLQ",
    "outputId": "6d177054-c3fc-4e9b-cc18-2fe2425fc6e7"
   },
   "outputs": [],
   "source": [
    "#drive.unmount()"
   ]
  },
  {
   "cell_type": "code",
   "execution_count": 6,
   "metadata": {
    "colab": {
     "base_uri": "https://localhost:8080/",
     "height": 928
    },
    "colab_type": "code",
    "id": "W6Pittbh8-yt",
    "outputId": "c1fa1709-b1b9-4d64-a15b-0fa7354dfadb"
   },
   "outputs": [],
   "source": [
    "#cd drive/My Drive/RecommenderSystems And TopicModelling Lab2"
   ]
  },
  {
   "cell_type": "code",
   "execution_count": 9,
   "metadata": {
    "colab": {},
    "colab_type": "code",
    "id": "xDJFLNNq8nhP"
   },
   "outputs": [],
   "source": [
    "path=\"data/ml-latest-small/\"\n",
    "path_preloaded=\"data/\"\n",
    "ratings_path=path+\"ratings.csv\"\n",
    "movies_path=path+\"movies.csv\""
   ]
  },
  {
   "cell_type": "code",
   "execution_count": 10,
   "metadata": {
    "colab": {
     "base_uri": "https://localhost:8080/",
     "height": 202
    },
    "colab_type": "code",
    "id": "RxSIyzf_8nhT",
    "outputId": "0a35af8d-d35f-437b-e44f-10a9a9141251"
   },
   "outputs": [
    {
     "data": {
      "text/html": [
       "<div>\n",
       "<style scoped>\n",
       "    .dataframe tbody tr th:only-of-type {\n",
       "        vertical-align: middle;\n",
       "    }\n",
       "\n",
       "    .dataframe tbody tr th {\n",
       "        vertical-align: top;\n",
       "    }\n",
       "\n",
       "    .dataframe thead th {\n",
       "        text-align: right;\n",
       "    }\n",
       "</style>\n",
       "<table border=\"1\" class=\"dataframe\">\n",
       "  <thead>\n",
       "    <tr style=\"text-align: right;\">\n",
       "      <th></th>\n",
       "      <th>userId</th>\n",
       "      <th>movieId</th>\n",
       "      <th>rating</th>\n",
       "      <th>timestamp</th>\n",
       "    </tr>\n",
       "  </thead>\n",
       "  <tbody>\n",
       "    <tr>\n",
       "      <th>0</th>\n",
       "      <td>1</td>\n",
       "      <td>1</td>\n",
       "      <td>4.0</td>\n",
       "      <td>964982703</td>\n",
       "    </tr>\n",
       "    <tr>\n",
       "      <th>1</th>\n",
       "      <td>1</td>\n",
       "      <td>3</td>\n",
       "      <td>4.0</td>\n",
       "      <td>964981247</td>\n",
       "    </tr>\n",
       "    <tr>\n",
       "      <th>2</th>\n",
       "      <td>1</td>\n",
       "      <td>6</td>\n",
       "      <td>4.0</td>\n",
       "      <td>964982224</td>\n",
       "    </tr>\n",
       "    <tr>\n",
       "      <th>3</th>\n",
       "      <td>1</td>\n",
       "      <td>47</td>\n",
       "      <td>5.0</td>\n",
       "      <td>964983815</td>\n",
       "    </tr>\n",
       "    <tr>\n",
       "      <th>4</th>\n",
       "      <td>1</td>\n",
       "      <td>50</td>\n",
       "      <td>5.0</td>\n",
       "      <td>964982931</td>\n",
       "    </tr>\n",
       "  </tbody>\n",
       "</table>\n",
       "</div>"
      ],
      "text/plain": [
       "   userId  movieId  rating  timestamp\n",
       "0       1        1     4.0  964982703\n",
       "1       1        3     4.0  964981247\n",
       "2       1        6     4.0  964982224\n",
       "3       1       47     5.0  964983815\n",
       "4       1       50     5.0  964982931"
      ]
     },
     "execution_count": 10,
     "metadata": {},
     "output_type": "execute_result"
    }
   ],
   "source": [
    "ratings_df=pd.read_csv(ratings_path)\n",
    "ratings_df.head()"
   ]
  },
  {
   "cell_type": "code",
   "execution_count": 11,
   "metadata": {
    "colab": {
     "base_uri": "https://localhost:8080/",
     "height": 981
    },
    "colab_type": "code",
    "id": "4wBOV77r8nhX",
    "outputId": "40e53061-5737-4d98-d782-7be9fac46ae2"
   },
   "outputs": [
    {
     "data": {
      "text/html": [
       "<div>\n",
       "<style scoped>\n",
       "    .dataframe tbody tr th:only-of-type {\n",
       "        vertical-align: middle;\n",
       "    }\n",
       "\n",
       "    .dataframe tbody tr th {\n",
       "        vertical-align: top;\n",
       "    }\n",
       "\n",
       "    .dataframe thead th {\n",
       "        text-align: right;\n",
       "    }\n",
       "</style>\n",
       "<table border=\"1\" class=\"dataframe\">\n",
       "  <thead>\n",
       "    <tr style=\"text-align: right;\">\n",
       "      <th></th>\n",
       "      <th>movieId</th>\n",
       "      <th>title</th>\n",
       "      <th>genres</th>\n",
       "    </tr>\n",
       "  </thead>\n",
       "  <tbody>\n",
       "    <tr>\n",
       "      <th>0</th>\n",
       "      <td>1</td>\n",
       "      <td>Toy Story (1995)</td>\n",
       "      <td>Adventure|Animation|Children|Comedy|Fantasy</td>\n",
       "    </tr>\n",
       "    <tr>\n",
       "      <th>1</th>\n",
       "      <td>2</td>\n",
       "      <td>Jumanji (1995)</td>\n",
       "      <td>Adventure|Children|Fantasy</td>\n",
       "    </tr>\n",
       "    <tr>\n",
       "      <th>2</th>\n",
       "      <td>3</td>\n",
       "      <td>Grumpier Old Men (1995)</td>\n",
       "      <td>Comedy|Romance</td>\n",
       "    </tr>\n",
       "    <tr>\n",
       "      <th>3</th>\n",
       "      <td>4</td>\n",
       "      <td>Waiting to Exhale (1995)</td>\n",
       "      <td>Comedy|Drama|Romance</td>\n",
       "    </tr>\n",
       "    <tr>\n",
       "      <th>4</th>\n",
       "      <td>5</td>\n",
       "      <td>Father of the Bride Part II (1995)</td>\n",
       "      <td>Comedy</td>\n",
       "    </tr>\n",
       "  </tbody>\n",
       "</table>\n",
       "</div>"
      ],
      "text/plain": [
       "   movieId                               title  \\\n",
       "0        1                    Toy Story (1995)   \n",
       "1        2                      Jumanji (1995)   \n",
       "2        3             Grumpier Old Men (1995)   \n",
       "3        4            Waiting to Exhale (1995)   \n",
       "4        5  Father of the Bride Part II (1995)   \n",
       "\n",
       "                                        genres  \n",
       "0  Adventure|Animation|Children|Comedy|Fantasy  \n",
       "1                   Adventure|Children|Fantasy  \n",
       "2                               Comedy|Romance  \n",
       "3                         Comedy|Drama|Romance  \n",
       "4                                       Comedy  "
      ]
     },
     "execution_count": 11,
     "metadata": {},
     "output_type": "execute_result"
    }
   ],
   "source": [
    "movie_indices=[]\n",
    "inverse_movie_map={}\n",
    "movies_df=pd.read_csv(movies_path)\n",
    "movies_df.head()"
   ]
  },
  {
   "cell_type": "code",
   "execution_count": 12,
   "metadata": {
    "colab": {},
    "colab_type": "code",
    "id": "PC-Zm0la8nha"
   },
   "outputs": [],
   "source": [
    "#np.save(path_preloaded+'user_sim_matrix_cosine',user_sim_matrix_cosine)\n",
    "#np.save(path_preloaded+'user_sim_matrix_pearson',user_sim_matrix_pearson)\n",
    "ratings_matrix_train=np.load(path_preloaded+'ratings_matrix_train.npy')\n",
    "train_nos=np.load(path_preloaded+'train_nos.npy')\n",
    "test_nos=np.load(path_preloaded+'test_nos.npy')\n"
   ]
  },
  {
   "cell_type": "code",
   "execution_count": null,
   "metadata": {},
   "outputs": [],
   "source": []
  },
  {
   "cell_type": "code",
   "execution_count": 13,
   "metadata": {
    "colab": {},
    "colab_type": "code",
    "id": "5LTYNZXG8nhe"
   },
   "outputs": [],
   "source": [
    "correct_predictions=[]\n",
    "for i in test_nos:\n",
    "    correct_predictions.append(ratings_df['rating'][i])"
   ]
  },
  {
   "cell_type": "code",
   "execution_count": 14,
   "metadata": {
    "colab": {},
    "colab_type": "code",
    "id": "TnISDBbU8nhi"
   },
   "outputs": [],
   "source": [
    "def mean_with_nan(list_a):\n",
    "    count=0\n",
    "    sum=0.0\n",
    "    for i in list_a:\n",
    "        if not np.isnan(i):\n",
    "            #print(i)\n",
    "            count+=1\n",
    "            sum+=i\n",
    "    #print(sum) \n",
    "    if(count==0):\n",
    "        return 0\n",
    "    return sum/count     "
   ]
  },
  {
   "cell_type": "code",
   "execution_count": 15,
   "metadata": {
    "colab": {},
    "colab_type": "code",
    "id": "et4DDny08nhk"
   },
   "outputs": [],
   "source": [
    "for i in range(len(movies_df)):\n",
    "    movie_indices.append(movies_df['movieId'][i])\n",
    "    inverse_movie_map[movies_df['movieId'][i]]=i\n",
    "number_of_items=len(movie_indices)"
   ]
  },
  {
   "cell_type": "code",
   "execution_count": 16,
   "metadata": {
    "colab": {},
    "colab_type": "code",
    "id": "Qv8OCasx8nhn"
   },
   "outputs": [],
   "source": [
    "number_of_users={}\n",
    "for i in range(len(ratings_df)):\n",
    "    number_of_users[ratings_df['userId'][i]]=1\n",
    "number_of_users=len(number_of_users)"
   ]
  },
  {
   "cell_type": "code",
   "execution_count": 17,
   "metadata": {},
   "outputs": [],
   "source": [
    "obs_entries=[]\n",
    "for i in range(number_of_users):\n",
    "    for j in range(number_of_items):\n",
    "        if not(np.isnan(ratings_matrix_train[i][j])):\n",
    "            obs_entries.append((i,j))"
   ]
  },
  {
   "cell_type": "code",
   "execution_count": 18,
   "metadata": {},
   "outputs": [],
   "source": [
    "np.save(path+'obs_entries',obs_entries)"
   ]
  },
  {
   "cell_type": "code",
   "execution_count": 15,
   "metadata": {
    "colab": {},
    "colab_type": "code",
    "id": "ezifxsVN9mjZ"
   },
   "outputs": [],
   "source": [
    "ratings_matrix_filled=copy.deepcopy(ratings_matrix_train)"
   ]
  },
  {
   "cell_type": "code",
   "execution_count": 16,
   "metadata": {
    "colab": {},
    "colab_type": "code",
    "id": "BlDaoujl8nhp"
   },
   "outputs": [],
   "source": [
    "for i in range (number_of_users):\n",
    "  mean_user=mean_with_nan(ratings_matrix_train[i])\n",
    "  for j in range (number_of_items):\n",
    "    if(np.isnan(ratings_matrix_filled[i][j])):\n",
    "      ratings_matrix_filled[i][j]=mean_user"
   ]
  },
  {
   "cell_type": "code",
   "execution_count": 16,
   "metadata": {
    "colab": {},
    "colab_type": "code",
    "id": "hCJ9qKJp964C"
   },
   "outputs": [],
   "source": [
    "u,w,v=LA.svd(ratings_matrix_filled)"
   ]
  },
  {
   "cell_type": "code",
   "execution_count": 26,
   "metadata": {
    "colab": {
     "base_uri": "https://localhost:8080/",
     "height": 1000
    },
    "colab_type": "code",
    "id": "1OEWRRb_-G3j",
    "outputId": "2038049a-b2d5-492b-ce91-e7036509fce5"
   },
   "outputs": [
    {
     "data": {
      "text/plain": [
       "array([9.00899042e+03, 5.09910303e+01, 3.68548596e+01, 3.46277166e+01,\n",
       "       3.23077166e+01, 3.11627111e+01, 3.02597519e+01, 2.92557407e+01,\n",
       "       2.80957246e+01, 2.76934011e+01, 2.72936441e+01, 2.70381836e+01,\n",
       "       2.63816556e+01, 2.55977758e+01, 2.55690623e+01, 2.48103934e+01,\n",
       "       2.44354871e+01, 2.41866135e+01, 2.37509526e+01, 2.35433677e+01,\n",
       "       2.31455902e+01, 2.28093020e+01, 2.24619118e+01, 2.23838926e+01,\n",
       "       2.21618795e+01, 2.18469602e+01, 2.16231278e+01, 2.14186470e+01,\n",
       "       2.10878582e+01, 2.06940180e+01, 2.05850659e+01, 2.02712025e+01,\n",
       "       2.01967898e+01, 2.00980616e+01, 1.99804288e+01, 1.97648277e+01,\n",
       "       1.95990246e+01, 1.94422200e+01, 1.91529330e+01, 1.89366547e+01,\n",
       "       1.88675299e+01, 1.88298839e+01, 1.85656888e+01, 1.82560512e+01,\n",
       "       1.81343361e+01, 1.79157175e+01, 1.78910949e+01, 1.77178196e+01,\n",
       "       1.76171474e+01, 1.75940089e+01, 1.74154826e+01, 1.73281239e+01,\n",
       "       1.71892734e+01, 1.71218184e+01, 1.69617044e+01, 1.68580492e+01,\n",
       "       1.67651179e+01, 1.66976595e+01, 1.65902053e+01, 1.65044858e+01,\n",
       "       1.63336336e+01, 1.59852637e+01, 1.59154079e+01, 1.58320279e+01,\n",
       "       1.57902702e+01, 1.57366828e+01, 1.56119381e+01, 1.55487014e+01,\n",
       "       1.54471810e+01, 1.53589620e+01, 1.52424022e+01, 1.51539473e+01,\n",
       "       1.50396999e+01, 1.49705447e+01, 1.49477687e+01, 1.47212104e+01,\n",
       "       1.46792953e+01, 1.46155436e+01, 1.45331452e+01, 1.45024217e+01,\n",
       "       1.43895501e+01, 1.43122916e+01, 1.41942037e+01, 1.40833030e+01,\n",
       "       1.40417043e+01, 1.39765708e+01, 1.38391696e+01, 1.38158161e+01,\n",
       "       1.37106113e+01, 1.36868051e+01, 1.36603407e+01, 1.35266704e+01,\n",
       "       1.34469850e+01, 1.33890517e+01, 1.33261679e+01, 1.32539033e+01,\n",
       "       1.31783631e+01, 1.30516979e+01, 1.30204649e+01, 1.29751072e+01,\n",
       "       1.29386508e+01, 1.28189467e+01, 1.27602633e+01, 1.26977513e+01,\n",
       "       1.26606050e+01, 1.25870705e+01, 1.25684715e+01, 1.25000269e+01,\n",
       "       1.24804589e+01, 1.24059527e+01, 1.23472090e+01, 1.23046122e+01,\n",
       "       1.21852432e+01, 1.21445597e+01, 1.20777741e+01, 1.20144121e+01,\n",
       "       1.19446410e+01, 1.19201915e+01, 1.18727912e+01, 1.18094350e+01,\n",
       "       1.17502269e+01, 1.16761605e+01, 1.15874154e+01, 1.15449071e+01,\n",
       "       1.15235065e+01, 1.14824651e+01, 1.14327027e+01, 1.13961845e+01,\n",
       "       1.13783097e+01, 1.12805590e+01, 1.11895404e+01, 1.11436700e+01,\n",
       "       1.10980566e+01, 1.10423327e+01, 1.09880058e+01, 1.09336716e+01,\n",
       "       1.09285352e+01, 1.08777469e+01, 1.07843425e+01, 1.07527856e+01,\n",
       "       1.06764591e+01, 1.06566424e+01, 1.06410665e+01, 1.05786330e+01,\n",
       "       1.05430214e+01, 1.05298791e+01, 1.04785260e+01, 1.04265573e+01,\n",
       "       1.03919757e+01, 1.03617623e+01, 1.03433652e+01, 1.03077155e+01,\n",
       "       1.02572213e+01, 1.01819582e+01, 1.01607298e+01, 1.01182632e+01,\n",
       "       1.00897579e+01, 1.00337390e+01, 9.98279670e+00, 9.93637693e+00,\n",
       "       9.89464089e+00, 9.88358303e+00, 9.83214225e+00, 9.80009911e+00,\n",
       "       9.75522546e+00, 9.73667288e+00, 9.70577179e+00, 9.68150817e+00,\n",
       "       9.61173476e+00, 9.55377160e+00, 9.53018594e+00, 9.50774924e+00,\n",
       "       9.44924049e+00, 9.40360657e+00, 9.36872024e+00, 9.35294314e+00,\n",
       "       9.30709071e+00, 9.24194674e+00, 9.22348206e+00, 9.20489809e+00,\n",
       "       9.16490894e+00, 9.12499092e+00, 9.06313420e+00, 9.03615332e+00,\n",
       "       8.98704445e+00, 8.95196082e+00, 8.93196019e+00, 8.92028346e+00,\n",
       "       8.88630728e+00, 8.85430752e+00, 8.80263614e+00, 8.75590556e+00,\n",
       "       8.74888919e+00, 8.69953057e+00, 8.68953868e+00, 8.62921055e+00,\n",
       "       8.60526743e+00, 8.56008171e+00, 8.54731735e+00, 8.50409231e+00,\n",
       "       8.46198777e+00, 8.43445458e+00, 8.39096519e+00, 8.38668463e+00,\n",
       "       8.34505722e+00, 8.33294532e+00, 8.29449938e+00, 8.28236323e+00,\n",
       "       8.26300442e+00, 8.21178631e+00, 8.16217193e+00, 8.13091018e+00,\n",
       "       8.11171790e+00, 8.10397247e+00, 8.07137980e+00, 8.04347039e+00,\n",
       "       7.99111614e+00, 7.92528037e+00, 7.90860497e+00, 7.89239715e+00,\n",
       "       7.85922557e+00, 7.84013566e+00, 7.80579827e+00, 7.76841894e+00,\n",
       "       7.72637423e+00, 7.69672462e+00, 7.66235563e+00, 7.63118105e+00,\n",
       "       7.62226694e+00, 7.58588340e+00, 7.55881655e+00, 7.53826331e+00,\n",
       "       7.50190607e+00, 7.47578849e+00, 7.45864936e+00, 7.42691782e+00,\n",
       "       7.37277336e+00, 7.34599180e+00, 7.33343179e+00, 7.30768452e+00,\n",
       "       7.28567123e+00, 7.25158960e+00, 7.24586470e+00, 7.19859648e+00,\n",
       "       7.19106125e+00, 7.14337048e+00, 7.10838636e+00, 7.09654460e+00,\n",
       "       7.09349800e+00, 7.03828870e+00, 7.01415368e+00, 6.99696036e+00,\n",
       "       6.95381572e+00, 6.94215864e+00, 6.92769321e+00, 6.91428181e+00,\n",
       "       6.90875965e+00, 6.84852779e+00, 6.82719910e+00, 6.81713268e+00,\n",
       "       6.80178177e+00, 6.77531187e+00, 6.75028469e+00, 6.73713384e+00,\n",
       "       6.72013276e+00, 6.69938168e+00, 6.65658842e+00, 6.63224371e+00,\n",
       "       6.62338182e+00, 6.58758598e+00, 6.57271601e+00, 6.51484837e+00,\n",
       "       6.49959421e+00, 6.49364895e+00, 6.47670658e+00, 6.45707026e+00,\n",
       "       6.43013828e+00, 6.40446265e+00, 6.39174897e+00, 6.36138713e+00,\n",
       "       6.34961841e+00, 6.33422577e+00, 6.30826713e+00, 6.28388442e+00,\n",
       "       6.25628180e+00, 6.24390411e+00, 6.22498125e+00, 6.21160334e+00,\n",
       "       6.16141251e+00, 6.15889671e+00, 6.14519868e+00, 6.13444205e+00,\n",
       "       6.11120272e+00, 6.08522587e+00, 6.05127288e+00, 6.02678661e+00,\n",
       "       6.00118794e+00, 5.97299402e+00, 5.95272027e+00, 5.93803087e+00,\n",
       "       5.90672686e+00, 5.88372274e+00, 5.85927524e+00, 5.85642280e+00,\n",
       "       5.84433827e+00, 5.81552944e+00, 5.79763913e+00, 5.77953753e+00,\n",
       "       5.75537398e+00, 5.70378779e+00, 5.69707815e+00, 5.67396764e+00,\n",
       "       5.65059507e+00, 5.60930161e+00, 5.59195008e+00, 5.58681531e+00,\n",
       "       5.56666643e+00, 5.56371971e+00, 5.53440218e+00, 5.52784597e+00,\n",
       "       5.51448891e+00, 5.50235400e+00, 5.46619226e+00, 5.43730452e+00,\n",
       "       5.42614215e+00, 5.39125853e+00, 5.37308849e+00, 5.36121600e+00,\n",
       "       5.32096865e+00, 5.30660247e+00, 5.29426038e+00, 5.26832455e+00,\n",
       "       5.26503714e+00, 5.23503895e+00, 5.22744455e+00, 5.19450540e+00,\n",
       "       5.16924191e+00, 5.16293820e+00, 5.14426187e+00, 5.11541466e+00,\n",
       "       5.10153050e+00, 5.08458295e+00, 5.07496995e+00, 5.06729524e+00,\n",
       "       5.03995920e+00, 5.02240089e+00, 4.99318223e+00, 4.98717442e+00,\n",
       "       4.95559864e+00, 4.95130381e+00, 4.90903392e+00, 4.89936688e+00,\n",
       "       4.89001206e+00, 4.86923085e+00, 4.85657582e+00, 4.82738886e+00,\n",
       "       4.81841394e+00, 4.80735077e+00, 4.77758209e+00, 4.77121516e+00,\n",
       "       4.76043649e+00, 4.72471248e+00, 4.70749363e+00, 4.69117501e+00,\n",
       "       4.67541818e+00, 4.65980046e+00, 4.64362199e+00, 4.62922364e+00,\n",
       "       4.61851886e+00, 4.60049329e+00, 4.58333334e+00, 4.56526779e+00,\n",
       "       4.55323958e+00, 4.52669680e+00, 4.50806224e+00, 4.50130596e+00,\n",
       "       4.48713894e+00, 4.46775123e+00, 4.44452534e+00, 4.42528450e+00,\n",
       "       4.40578621e+00, 4.40246593e+00, 4.38033457e+00, 4.37704078e+00,\n",
       "       4.35785051e+00, 4.34001295e+00, 4.33155155e+00, 4.32572816e+00,\n",
       "       4.29957467e+00, 4.26959764e+00, 4.24132629e+00, 4.23606705e+00,\n",
       "       4.23035343e+00, 4.20348891e+00, 4.19758267e+00, 4.16633077e+00,\n",
       "       4.14768869e+00, 4.13174132e+00, 4.12765966e+00, 4.10670163e+00,\n",
       "       4.09839705e+00, 4.08067987e+00, 4.06348610e+00, 4.04939468e+00,\n",
       "       4.03070133e+00, 4.01950890e+00, 4.00689853e+00, 3.99642348e+00,\n",
       "       3.98042625e+00, 3.97120049e+00, 3.95437862e+00, 3.94221671e+00,\n",
       "       3.92409595e+00, 3.90539776e+00, 3.88614296e+00, 3.88429490e+00,\n",
       "       3.84513720e+00, 3.83298895e+00, 3.82698070e+00, 3.81340866e+00,\n",
       "       3.81181909e+00, 3.78124068e+00, 3.77777618e+00, 3.76999097e+00,\n",
       "       3.76535109e+00, 3.73481891e+00, 3.72400251e+00, 3.71478987e+00,\n",
       "       3.69902939e+00, 3.68561487e+00, 3.65778421e+00, 3.64779350e+00,\n",
       "       3.64357058e+00, 3.63016254e+00, 3.62169138e+00, 3.61547450e+00,\n",
       "       3.60058681e+00, 3.58306426e+00, 3.55876946e+00, 3.54171299e+00,\n",
       "       3.53132819e+00, 3.51089458e+00, 3.50970014e+00, 3.50500804e+00,\n",
       "       3.48362832e+00, 3.46010842e+00, 3.45525155e+00, 3.42819420e+00,\n",
       "       3.42194573e+00, 3.40468263e+00, 3.39592561e+00, 3.38412281e+00,\n",
       "       3.37748153e+00, 3.37179522e+00, 3.34837273e+00, 3.34218683e+00,\n",
       "       3.32974208e+00, 3.31200955e+00, 3.30441753e+00, 3.29474961e+00,\n",
       "       3.28072921e+00, 3.27170556e+00, 3.25824488e+00, 3.22498113e+00,\n",
       "       3.21608048e+00, 3.20584782e+00, 3.18982156e+00, 3.17473086e+00,\n",
       "       3.17066690e+00, 3.16280786e+00, 3.15396765e+00, 3.13994592e+00,\n",
       "       3.13286434e+00, 3.12567151e+00, 3.10339983e+00, 3.09926435e+00,\n",
       "       3.08984186e+00, 3.06247520e+00, 3.05835649e+00, 3.05011247e+00,\n",
       "       3.03860865e+00, 3.01102472e+00, 3.00616055e+00, 2.98867607e+00,\n",
       "       2.95507001e+00, 2.95451090e+00, 2.94732139e+00, 2.94286345e+00,\n",
       "       2.92495830e+00, 2.90754844e+00, 2.89781934e+00, 2.88388888e+00,\n",
       "       2.87446709e+00, 2.86411035e+00, 2.85495294e+00, 2.83257027e+00,\n",
       "       2.82886332e+00, 2.80772412e+00, 2.79639514e+00, 2.77819669e+00,\n",
       "       2.77636854e+00, 2.75811782e+00, 2.74835155e+00, 2.73910999e+00,\n",
       "       2.69985773e+00, 2.69690010e+00, 2.67590308e+00, 2.67192167e+00,\n",
       "       2.66463091e+00, 2.63808493e+00, 2.61759972e+00, 2.60481288e+00,\n",
       "       2.58586168e+00, 2.57862727e+00, 2.57195631e+00, 2.55623699e+00,\n",
       "       2.52815139e+00, 2.52053570e+00, 2.49958030e+00, 2.48576833e+00,\n",
       "       2.46810627e+00, 2.44485920e+00, 2.43202011e+00, 2.42218489e+00,\n",
       "       2.41520847e+00, 2.39191652e+00, 2.37838227e+00, 2.36911018e+00,\n",
       "       2.35203762e+00, 2.32150934e+00, 2.31560668e+00, 2.29107758e+00,\n",
       "       2.27935279e+00, 2.26822039e+00, 2.25783939e+00, 2.24945235e+00,\n",
       "       2.23314189e+00, 2.22261770e+00, 2.21290270e+00, 2.18091208e+00,\n",
       "       2.16463659e+00, 2.15148179e+00, 2.13323889e+00, 2.12241587e+00,\n",
       "       2.11399952e+00, 2.11095214e+00, 2.09363053e+00, 2.07238972e+00,\n",
       "       2.04861578e+00, 2.04622987e+00, 2.04112859e+00, 2.02103367e+00,\n",
       "       2.01312105e+00, 2.00374661e+00, 1.97988090e+00, 1.96312271e+00,\n",
       "       1.94868570e+00, 1.93394631e+00, 1.90274085e+00, 1.88701726e+00,\n",
       "       1.87781549e+00, 1.85336065e+00, 1.84374784e+00, 1.82950956e+00,\n",
       "       1.81314259e+00, 1.80117297e+00, 1.78310528e+00, 1.76348627e+00,\n",
       "       1.75807609e+00, 1.72652887e+00, 1.71848982e+00, 1.69932326e+00,\n",
       "       1.69717496e+00, 1.66373937e+00, 1.65714937e+00, 1.64134319e+00,\n",
       "       1.63809386e+00, 1.60158751e+00, 1.57199912e+00, 1.55414970e+00,\n",
       "       1.53633775e+00, 1.52854835e+00, 1.46976941e+00, 1.43269537e+00,\n",
       "       1.42264360e+00, 1.40342161e+00, 1.38591964e+00, 1.34926816e+00,\n",
       "       1.33739769e+00, 1.29359989e+00, 1.27628176e+00, 1.25456667e+00,\n",
       "       1.20070689e+00, 1.17090220e+00, 1.12086023e+00, 1.09910654e+00,\n",
       "       1.06060583e+00, 1.01059511e+00, 9.30054203e-01, 9.05209450e-01,\n",
       "       8.74849336e-01, 8.65293112e-01, 8.35637613e-01, 7.72771530e-01,\n",
       "       7.38533775e-01, 7.03879695e-01, 6.81498317e-01, 6.14210572e-01,\n",
       "       5.87503556e-01, 2.01822915e-01])"
      ]
     },
     "execution_count": 26,
     "metadata": {
      "tags": []
     },
     "output_type": "execute_result"
    }
   ],
   "source": [
    "w"
   ]
  },
  {
   "cell_type": "code",
   "execution_count": 0,
   "metadata": {
    "colab": {},
    "colab_type": "code",
    "id": "31q04aYMpETB"
   },
   "outputs": [],
   "source": [
    "#count_w=0"
   ]
  },
  {
   "cell_type": "code",
   "execution_count": 17,
   "metadata": {
    "colab": {
     "base_uri": "https://localhost:8080/",
     "height": 35
    },
    "colab_type": "code",
    "id": "-0JIfXJ80djR",
    "outputId": "c2b94d04-7c18-4cc4-d46e-dbde76add06a",
    "scrolled": true
   },
   "outputs": [
    {
     "name": "stdout",
     "output_type": "stream",
     "text": [
      "346\n"
     ]
    }
   ],
   "source": [
    "count_w=0\n",
    "for i in w:\n",
    "  if i>5:\n",
    "    count_w+=1\n",
    "print(count_w)    "
   ]
  },
  {
   "cell_type": "code",
   "execution_count": 18,
   "metadata": {
    "colab": {},
    "colab_type": "code",
    "id": "FsCghhGq0jA3"
   },
   "outputs": [],
   "source": [
    "k=count_w"
   ]
  },
  {
   "cell_type": "code",
   "execution_count": 25,
   "metadata": {},
   "outputs": [],
   "source": [
    "k=346"
   ]
  },
  {
   "cell_type": "code",
   "execution_count": 26,
   "metadata": {
    "colab": {},
    "colab_type": "code",
    "id": "lby4cvfytad5"
   },
   "outputs": [],
   "source": [
    "def rmse_error(a,b):\n",
    "    error_sum=0.0\n",
    "    for i in range(len(a)):\n",
    "        error_sum+=(a[i]-b[i])*(a[i]-b[i])\n",
    "    error_sum/=len(a)\n",
    "    return np.sqrt(error_sum)       "
   ]
  },
  {
   "cell_type": "code",
   "execution_count": 30,
   "metadata": {
    "colab": {},
    "colab_type": "code",
    "id": "p60lCutetyFx"
   },
   "outputs": [],
   "source": [
    "def GradientDescent(R,k,lr,epochs):\n",
    "    number_of_items=len(R[0])\n",
    "    number_of_users=len(R[:,0])\n",
    "    U=np.random.rand(number_of_users,k)\n",
    "    V=np.random.rand(number_of_items,k)\n",
    "    error_mat=np.zeros(shape=(number_of_users,number_of_items))\n",
    "    num_iters=0\n",
    "    while(num_iters<epochs):\n",
    "        num_iters+=1\n",
    "        \n",
    "        predicted_matrix=np.dot(U,np.transpose(V))\n",
    "\n",
    "\n",
    "        predicted_matrix=np.dot(U,np.transpose(V))\n",
    "        error_mat=R-predicted_matrix\n",
    "        error=0\n",
    "        for tups in obs_entries:\n",
    "            x=tups[0]\n",
    "            y=tups[1]\n",
    "            error+=(R[x][y]-predicted_matrix[x][y])*(R[x][y]-predicted_matrix[x][y])\n",
    "        error=sqrt(error) \n",
    "        if(num_iters%100==0):\n",
    "            error=0\n",
    "            for tups in obs_entries:\n",
    "                x=tups[0]\n",
    "                y=tups[1]\n",
    "                error+=(R[x][y]-predicted_matrix[x][y])*(R[x][y]-predicted_matrix[x][y])\n",
    "            error=sqrt(error)            \n",
    "            result_gd_batch=[]\n",
    "            for i in test_nos:\n",
    "\n",
    "\n",
    "                movie_no=inverse_movie_map[ratings_df['movieId'][i]]\n",
    "                user_no=ratings_df['userId'][i]-1\n",
    "                result_gd_batch.append(predicted_matrix[user_no][movie_no])\n",
    "            print(\"Number of iterations: \"+str(num_iters)+\" Frob Error: \"+str(error)+\" RMS Error: \"+str(rmse_error(correct_predictions,result_gd_batch)))\n",
    "        #      print(\"Error is \" +str(error) )\n",
    "        U_add=np.zeros(shape=(number_of_users,k))\n",
    "        V_add=np.zeros(shape=(number_of_items,k))\n",
    "        for tups in obs_entries:\n",
    "            x=tups[0]\n",
    "            y=tups[1]\n",
    "            for q_ind in range(k):\n",
    "                U_add[x][q_ind]+=error_mat[x][y]*V[y][q_ind]\n",
    "                V_add[y][q_ind]+=error_mat[x][y]*U[x][q_ind]\n",
    "                 \n",
    "        U=U+lr*(U_add)\n",
    "        V=V+lr*(V_add)\n",
    "#   predicted_matrix=np.dot(U,np.transpose(V))\n",
    "#   return predicted_matrix\n",
    "    return U,V\n",
    "  "
   ]
  },
  {
   "cell_type": "code",
   "execution_count": 31,
   "metadata": {
    "colab": {
     "base_uri": "https://localhost:8080/",
     "height": 1000
    },
    "colab_type": "code",
    "id": "G-EZB4anuFmn",
    "outputId": "0a6e085d-fca7-462f-8b8b-6ea7f6dc980b"
   },
   "outputs": [
    {
     "ename": "KeyboardInterrupt",
     "evalue": "",
     "output_type": "error",
     "traceback": [
      "\u001b[0;31m---------------------------------------------------------------------------\u001b[0m",
      "\u001b[0;31mKeyboardInterrupt\u001b[0m                         Traceback (most recent call last)",
      "\u001b[0;32m<ipython-input-31-9286f9e981a2>\u001b[0m in \u001b[0;36m<module>\u001b[0;34m\u001b[0m\n\u001b[0;32m----> 1\u001b[0;31m \u001b[0mU_k\u001b[0m\u001b[0;34m,\u001b[0m\u001b[0mV_k\u001b[0m\u001b[0;34m=\u001b[0m\u001b[0mGradientDescent\u001b[0m\u001b[0;34m(\u001b[0m\u001b[0mratings_matrix_train\u001b[0m\u001b[0;34m,\u001b[0m\u001b[0;36m346\u001b[0m\u001b[0;34m,\u001b[0m\u001b[0;36m1.5e-6\u001b[0m\u001b[0;34m,\u001b[0m\u001b[0;36m10000\u001b[0m\u001b[0;34m)\u001b[0m\u001b[0;34m\u001b[0m\u001b[0;34m\u001b[0m\u001b[0m\n\u001b[0m",
      "\u001b[0;32m<ipython-input-30-d3722c664471>\u001b[0m in \u001b[0;36mGradientDescent\u001b[0;34m(R, k, lr, epochs)\u001b[0m\n\u001b[1;32m     43\u001b[0m             \u001b[0;32mfor\u001b[0m \u001b[0mq_ind\u001b[0m \u001b[0;32min\u001b[0m \u001b[0mrange\u001b[0m\u001b[0;34m(\u001b[0m\u001b[0mk\u001b[0m\u001b[0;34m)\u001b[0m\u001b[0;34m:\u001b[0m\u001b[0;34m\u001b[0m\u001b[0;34m\u001b[0m\u001b[0m\n\u001b[1;32m     44\u001b[0m                 \u001b[0mU_add\u001b[0m\u001b[0;34m[\u001b[0m\u001b[0mx\u001b[0m\u001b[0;34m]\u001b[0m\u001b[0;34m[\u001b[0m\u001b[0mq_ind\u001b[0m\u001b[0;34m]\u001b[0m\u001b[0;34m+=\u001b[0m\u001b[0merror_mat\u001b[0m\u001b[0;34m[\u001b[0m\u001b[0mx\u001b[0m\u001b[0;34m]\u001b[0m\u001b[0;34m[\u001b[0m\u001b[0my\u001b[0m\u001b[0;34m]\u001b[0m\u001b[0;34m*\u001b[0m\u001b[0mV\u001b[0m\u001b[0;34m[\u001b[0m\u001b[0my\u001b[0m\u001b[0;34m]\u001b[0m\u001b[0;34m[\u001b[0m\u001b[0mq_ind\u001b[0m\u001b[0;34m]\u001b[0m\u001b[0;34m\u001b[0m\u001b[0;34m\u001b[0m\u001b[0m\n\u001b[0;32m---> 45\u001b[0;31m                 \u001b[0mV_add\u001b[0m\u001b[0;34m[\u001b[0m\u001b[0my\u001b[0m\u001b[0;34m]\u001b[0m\u001b[0;34m[\u001b[0m\u001b[0mq_ind\u001b[0m\u001b[0;34m]\u001b[0m\u001b[0;34m+=\u001b[0m\u001b[0merror_mat\u001b[0m\u001b[0;34m[\u001b[0m\u001b[0mx\u001b[0m\u001b[0;34m]\u001b[0m\u001b[0;34m[\u001b[0m\u001b[0my\u001b[0m\u001b[0;34m]\u001b[0m\u001b[0;34m*\u001b[0m\u001b[0mU\u001b[0m\u001b[0;34m[\u001b[0m\u001b[0mx\u001b[0m\u001b[0;34m]\u001b[0m\u001b[0;34m[\u001b[0m\u001b[0mq_ind\u001b[0m\u001b[0;34m]\u001b[0m\u001b[0;34m\u001b[0m\u001b[0;34m\u001b[0m\u001b[0m\n\u001b[0m\u001b[1;32m     46\u001b[0m \u001b[0;34m\u001b[0m\u001b[0m\n\u001b[1;32m     47\u001b[0m         \u001b[0mU\u001b[0m\u001b[0;34m=\u001b[0m\u001b[0mU\u001b[0m\u001b[0;34m+\u001b[0m\u001b[0mlr\u001b[0m\u001b[0;34m*\u001b[0m\u001b[0;34m(\u001b[0m\u001b[0mU_add\u001b[0m\u001b[0;34m)\u001b[0m\u001b[0;34m\u001b[0m\u001b[0;34m\u001b[0m\u001b[0m\n",
      "\u001b[0;31mKeyboardInterrupt\u001b[0m: "
     ]
    }
   ],
   "source": [
    "U_k,V_k=GradientDescent(ratings_matrix_train,346,1.5e-6,10000)"
   ]
  },
  {
   "cell_type": "code",
   "execution_count": 23,
   "metadata": {
    "colab": {},
    "colab_type": "code",
    "id": "O3zqYL-8EwjZ"
   },
   "outputs": [],
   "source": [
    "result_gd_batch=[]\n",
    "predicted_matrix=np.dot(U_k,np.transpose(V_k))\n",
    "for i in test_nos:\n",
    "  \n",
    "\n",
    "  movie_no=inverse_movie_map[ratings_df['movieId'][i]]\n",
    "  user_no=ratings_df['userId'][i]-1\n",
    "  result_gd_batch.append(predicted_matrix[user_no][movie_no])\n",
    "  "
   ]
  },
  {
   "cell_type": "code",
   "execution_count": 24,
   "metadata": {
    "colab": {
     "base_uri": "https://localhost:8080/",
     "height": 35
    },
    "colab_type": "code",
    "id": "lMmm9-FtFBKp",
    "outputId": "bc26d89c-b834-4e97-ca2c-82711f7455bb"
   },
   "outputs": [
    {
     "data": {
      "text/plain": [
       "0.9633212134618514"
      ]
     },
     "execution_count": 24,
     "metadata": {},
     "output_type": "execute_result"
    }
   ],
   "source": [
    "rmse_error(correct_predictions,result_gd_batch)"
   ]
  },
  {
   "cell_type": "code",
   "execution_count": 25,
   "metadata": {
    "colab": {
     "base_uri": "https://localhost:8080/",
     "height": 805
    },
    "colab_type": "code",
    "id": "jB7unFr3MaLJ",
    "outputId": "cde0c896-ba9e-4fb6-f671-29f495fd7dd8"
   },
   "outputs": [],
   "source": [
    "np.save(path+'U_k',U_k)\n",
    "np.save(path+'V_k',V_k)"
   ]
  },
  {
   "cell_type": "code",
   "execution_count": 106,
   "metadata": {
    "colab": {
     "base_uri": "https://localhost:8080/",
     "height": 35
    },
    "colab_type": "code",
    "id": "PzSVxZY_PBVC",
    "outputId": "fd4ce4a5-ab26-4c7d-cd6d-e306368a7d96"
   },
   "outputs": [
    {
     "data": {
      "text/plain": [
       "'data/ml-latest-small/'"
      ]
     },
     "execution_count": 106,
     "metadata": {
      "tags": []
     },
     "output_type": "execute_result"
    }
   ],
   "source": [
    "path"
   ]
  },
  {
   "cell_type": "code",
   "execution_count": 24,
   "metadata": {
    "colab": {
     "base_uri": "https://localhost:8080/",
     "height": 981
    },
    "colab_type": "code",
    "id": "z4ujue04YSKz",
    "outputId": "72e5f369-4962-4052-ee8c-8c05b37c713a"
   },
   "outputs": [],
   "source": [
    "def sgd(R,k,lr,epochs):\n",
    "    number_of_items=len(R[0])\n",
    "    number_of_users=len(R[:,0])\n",
    "    U=np.random.rand(number_of_users,k)\n",
    "    U_temp=np.random.rand(number_of_users,k)\n",
    "    V=np.random.rand(number_of_items,k)\n",
    "    V_temp=np.random.rand(number_of_items,k)\n",
    "    error_mat=np.zeros(shape=(number_of_users,number_of_items))\n",
    "    num_iters=0\n",
    "    while(num_iters<epochs):\n",
    "        num_iters+=1\n",
    "        for i in range(number_of_users):\n",
    "            for j in range(number_of_items):\n",
    "                error_mat[i][j]=R[i][j]-np.dot(U,np.transpose(V))[i][j]\n",
    "                for q in range(k):\n",
    "                    U_temp[i][q]=U[i][q]+lr*error_mat[i][j]*V[j][q]\n",
    "                for q in range(k):\n",
    "                    V_temp[i][q]=V[i][q]+lr*error_mat[i][j]*U[i][q]\n",
    "                for q in range(k):\n",
    "                    U[i][q]=U_temp[i][q]\n",
    "                    V[i][q]=V_temp[i][q]\n",
    "        print(\"Iteration Number: \"+ str(num_iters)+\" Frob Error: \"+ str(LA.norm(error_mat,'fro')))\n",
    "                \n",
    "        \n",
    "\n",
    "#   predicted_matrix=np.dot(U,np.transpose(V))\n",
    "#   return predicted_matrix\n",
    "    return U,V\n",
    "    "
   ]
  },
  {
   "cell_type": "code",
   "execution_count": 25,
   "metadata": {
    "colab": {
     "base_uri": "https://localhost:8080/",
     "height": 35
    },
    "colab_type": "code",
    "id": "msBbCKwdYYFu",
    "outputId": "6f738623-b445-4151-b6aa-3f2ca650efd1"
   },
   "outputs": [
    {
     "ename": "KeyboardInterrupt",
     "evalue": "",
     "output_type": "error",
     "traceback": [
      "\u001b[0;31m---------------------------------------------------------------------------\u001b[0m",
      "\u001b[0;31mKeyboardInterrupt\u001b[0m                         Traceback (most recent call last)",
      "\u001b[0;32m<ipython-input-25-147828152089>\u001b[0m in \u001b[0;36m<module>\u001b[0;34m\u001b[0m\n\u001b[0;32m----> 1\u001b[0;31m \u001b[0mU_k1\u001b[0m\u001b[0;34m,\u001b[0m\u001b[0mV_k1\u001b[0m\u001b[0;34m=\u001b[0m\u001b[0msgd\u001b[0m\u001b[0;34m(\u001b[0m\u001b[0mratings_matrix_filled\u001b[0m\u001b[0;34m,\u001b[0m\u001b[0mk\u001b[0m\u001b[0;34m,\u001b[0m\u001b[0;36m1.5e-5\u001b[0m\u001b[0;34m,\u001b[0m\u001b[0;36m10000\u001b[0m\u001b[0;34m)\u001b[0m\u001b[0;34m\u001b[0m\u001b[0;34m\u001b[0m\u001b[0m\n\u001b[0m",
      "\u001b[0;32m<ipython-input-24-02c137fbd1e4>\u001b[0m in \u001b[0;36msgd\u001b[0;34m(R, k, lr, epochs)\u001b[0m\n\u001b[1;32m     12\u001b[0m         \u001b[0;32mfor\u001b[0m \u001b[0mi\u001b[0m \u001b[0;32min\u001b[0m \u001b[0mrange\u001b[0m\u001b[0;34m(\u001b[0m\u001b[0mnumber_of_users\u001b[0m\u001b[0;34m)\u001b[0m\u001b[0;34m:\u001b[0m\u001b[0;34m\u001b[0m\u001b[0;34m\u001b[0m\u001b[0m\n\u001b[1;32m     13\u001b[0m             \u001b[0;32mfor\u001b[0m \u001b[0mj\u001b[0m \u001b[0;32min\u001b[0m \u001b[0mrange\u001b[0m\u001b[0;34m(\u001b[0m\u001b[0mnumber_of_items\u001b[0m\u001b[0;34m)\u001b[0m\u001b[0;34m:\u001b[0m\u001b[0;34m\u001b[0m\u001b[0;34m\u001b[0m\u001b[0m\n\u001b[0;32m---> 14\u001b[0;31m                 \u001b[0merror_mat\u001b[0m\u001b[0;34m[\u001b[0m\u001b[0mi\u001b[0m\u001b[0;34m]\u001b[0m\u001b[0;34m[\u001b[0m\u001b[0mj\u001b[0m\u001b[0;34m]\u001b[0m\u001b[0;34m=\u001b[0m\u001b[0mR\u001b[0m\u001b[0;34m[\u001b[0m\u001b[0mi\u001b[0m\u001b[0;34m]\u001b[0m\u001b[0;34m[\u001b[0m\u001b[0mj\u001b[0m\u001b[0;34m]\u001b[0m\u001b[0;34m-\u001b[0m\u001b[0mnp\u001b[0m\u001b[0;34m.\u001b[0m\u001b[0mdot\u001b[0m\u001b[0;34m(\u001b[0m\u001b[0mU\u001b[0m\u001b[0;34m,\u001b[0m\u001b[0mnp\u001b[0m\u001b[0;34m.\u001b[0m\u001b[0mtranspose\u001b[0m\u001b[0;34m(\u001b[0m\u001b[0mV\u001b[0m\u001b[0;34m)\u001b[0m\u001b[0;34m)\u001b[0m\u001b[0;34m[\u001b[0m\u001b[0mi\u001b[0m\u001b[0;34m]\u001b[0m\u001b[0;34m[\u001b[0m\u001b[0mj\u001b[0m\u001b[0;34m]\u001b[0m\u001b[0;34m\u001b[0m\u001b[0;34m\u001b[0m\u001b[0m\n\u001b[0m\u001b[1;32m     15\u001b[0m                 \u001b[0;32mfor\u001b[0m \u001b[0mq\u001b[0m \u001b[0;32min\u001b[0m \u001b[0mrange\u001b[0m\u001b[0;34m(\u001b[0m\u001b[0mk\u001b[0m\u001b[0;34m)\u001b[0m\u001b[0;34m:\u001b[0m\u001b[0;34m\u001b[0m\u001b[0;34m\u001b[0m\u001b[0m\n\u001b[1;32m     16\u001b[0m                     \u001b[0mU_temp\u001b[0m\u001b[0;34m[\u001b[0m\u001b[0mi\u001b[0m\u001b[0;34m]\u001b[0m\u001b[0;34m[\u001b[0m\u001b[0mq\u001b[0m\u001b[0;34m]\u001b[0m\u001b[0;34m=\u001b[0m\u001b[0mU\u001b[0m\u001b[0;34m[\u001b[0m\u001b[0mi\u001b[0m\u001b[0;34m]\u001b[0m\u001b[0;34m[\u001b[0m\u001b[0mq\u001b[0m\u001b[0;34m]\u001b[0m\u001b[0;34m+\u001b[0m\u001b[0mlr\u001b[0m\u001b[0;34m*\u001b[0m\u001b[0merror_mat\u001b[0m\u001b[0;34m[\u001b[0m\u001b[0mi\u001b[0m\u001b[0;34m]\u001b[0m\u001b[0;34m[\u001b[0m\u001b[0mj\u001b[0m\u001b[0;34m]\u001b[0m\u001b[0;34m*\u001b[0m\u001b[0mV\u001b[0m\u001b[0;34m[\u001b[0m\u001b[0mj\u001b[0m\u001b[0;34m]\u001b[0m\u001b[0;34m[\u001b[0m\u001b[0mq\u001b[0m\u001b[0;34m]\u001b[0m\u001b[0;34m\u001b[0m\u001b[0;34m\u001b[0m\u001b[0m\n",
      "\u001b[0;31mKeyboardInterrupt\u001b[0m: "
     ]
    }
   ],
   "source": [
    "U_k1,V_k1=sgd(ratings_matrix_filled,k,1.5e-5,10000)"
   ]
  },
  {
   "cell_type": "code",
   "execution_count": null,
   "metadata": {},
   "outputs": [],
   "source": []
  }
 ],
 "metadata": {
  "accelerator": "GPU",
  "colab": {
   "collapsed_sections": [],
   "name": "UnconstrainedMF.ipynb",
   "provenance": []
  },
  "kernelspec": {
   "display_name": "Python 3",
   "language": "python",
   "name": "python3"
  },
  "language_info": {
   "codemirror_mode": {
    "name": "ipython",
    "version": 3
   },
   "file_extension": ".py",
   "mimetype": "text/x-python",
   "name": "python",
   "nbconvert_exporter": "python",
   "pygments_lexer": "ipython3",
   "version": "3.6.8"
  }
 },
 "nbformat": 4,
 "nbformat_minor": 1
}

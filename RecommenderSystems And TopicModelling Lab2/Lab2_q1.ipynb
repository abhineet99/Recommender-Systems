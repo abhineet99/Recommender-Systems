{
 "cells": [
  {
   "cell_type": "code",
   "execution_count": null,
   "metadata": {},
   "outputs": [],
   "source": [
    "import csv\n",
    "import math\n",
    "moviemap={}\n",
    "moviemap_inv={}\n",
    "with open('./movies_dataset/ratings.csv','rt')as f:\n",
    "    data = csv.reader(f)\n",
    "    i=0\n",
    "    cnt=0\n",
    "    for row in data:\n",
    "        if i!=0:\n",
    "            x=int(row[1])\n",
    "            if x in moviemap.keys():\n",
    "                print(\"present\"+str(x))\n",
    "            else:\n",
    "                moviemap[int(row[1])]=cnt\n",
    "                moviemap_inv[cnt]=int(row[1])\n",
    "                cnt=cnt+1\n",
    "        i=i+1\n",
    "print(cnt)\n",
    "rows=611\n",
    "cols=9725\n",
    "rating_mat=[[0 for i in range(cols)] for j in range(rows)]\n",
    "test_mat=[[0 for i in range(cols)] for j in range(rows)]\n",
    "with open('./movies_dataset/ratings.csv','rt')as f:\n",
    "    data = csv.reader(f)\n",
    "    i=0\n",
    "    for row in data:\n",
    "        if i!=0:\n",
    "            if i%5==0:\n",
    "                test_mat[int(row[0])][moviemap[int(row[1])]]=float(row[2])\n",
    "            else:\n",
    "                rating_mat[int(row[0])][moviemap[int(row[1])]]=float(row[2])\n",
    "        i=i+1"
   ]
  },
  {
   "cell_type": "code",
   "execution_count": 2,
   "metadata": {},
   "outputs": [
    {
     "name": "stdout",
     "output_type": "stream",
     "text": [
      "user0 hasn't rated any movie\n"
     ]
    }
   ],
   "source": [
    "#filling missing entries with mean value\n",
    "import numpy as np\n",
    "r_m = np.array(rating_mat)\n",
    "t_m = np.array(test_mat)\n",
    "for i in range(rows):\n",
    "    s=0\n",
    "    cnt=0\n",
    "    for j in range(cols):\n",
    "        s += r_m[i][j]\n",
    "        if r_m[i][j]>0:\n",
    "            cnt=cnt+1\n",
    "    if cnt==0:\n",
    "        print(\"user\"+str(i)+\" hasn't rated any movie\")\n",
    "    else:\n",
    "        s = s/cnt\n",
    "    for j in range(cols):\n",
    "        if r_m[i][j]==0:\n",
    "            r_m[i][j]=s"
   ]
  },
  {
   "cell_type": "code",
   "execution_count": null,
   "metadata": {},
   "outputs": [],
   "source": [
    "row_to_be_added = np.zeros(9725)\n",
    "r_m_appended=r_m\n",
    "for i in range(611,9725):\n",
    "    r_m_appended = np.vstack((r_m_appended, row_to_be_added))\n",
    "    if i%100==0:\n",
    "        print(np.shape(r_m_appended))"
   ]
  },
  {
   "cell_type": "code",
   "execution_count": 23,
   "metadata": {},
   "outputs": [
    {
     "name": "stdout",
     "output_type": "stream",
     "text": [
      "(9725, 9725)\n"
     ]
    }
   ],
   "source": [
    "print(np.shape(r_m_appended))"
   ]
  },
  {
   "cell_type": "code",
   "execution_count": 24,
   "metadata": {},
   "outputs": [],
   "source": [
    "np.save('r_m_appended.txt',r_m_appended)"
   ]
  },
  {
   "cell_type": "code",
   "execution_count": 4,
   "metadata": {},
   "outputs": [],
   "source": [
    "import numpy as np\n",
    "r_m_appended = np.load('r_m_appended.txt.npy')"
   ]
  },
  {
   "cell_type": "code",
   "execution_count": 17,
   "metadata": {},
   "outputs": [
    {
     "data": {
      "text/plain": [
       "(612, 9725)"
      ]
     },
     "execution_count": 17,
     "metadata": {},
     "output_type": "execute_result"
    }
   ],
   "source": [
    "np.shape(r_m_appended)"
   ]
  },
  {
   "cell_type": "code",
   "execution_count": 5,
   "metadata": {},
   "outputs": [],
   "source": [
    "w,v = np.linalg.eig(r_m_appended)"
   ]
  },
  {
   "cell_type": "code",
   "execution_count": 9,
   "metadata": {},
   "outputs": [],
   "source": [
    "eig1 = np.absolute(w)"
   ]
  },
  {
   "cell_type": "code",
   "execution_count": 10,
   "metadata": {},
   "outputs": [],
   "source": [
    "eig2 = np.sort(eig1)"
   ]
  },
  {
   "cell_type": "code",
   "execution_count": 14,
   "metadata": {},
   "outputs": [],
   "source": [
    "eig3 = eig2[::-1]"
   ]
  },
  {
   "cell_type": "code",
   "execution_count": 15,
   "metadata": {},
   "outputs": [
    {
     "data": {
      "text/plain": [
       "(9725,)"
      ]
     },
     "execution_count": 15,
     "metadata": {},
     "output_type": "execute_result"
    }
   ],
   "source": [
    "eig3.shape"
   ]
  },
  {
   "cell_type": "code",
   "execution_count": 16,
   "metadata": {},
   "outputs": [],
   "source": [
    "x = np.mean(eig3)"
   ]
  },
  {
   "cell_type": "code",
   "execution_count": 17,
   "metadata": {},
   "outputs": [
    {
     "name": "stdout",
     "output_type": "stream",
     "text": [
      "0.3605416621759813\n"
     ]
    }
   ],
   "source": [
    "print(x)"
   ]
  },
  {
   "cell_type": "code",
   "execution_count": 18,
   "metadata": {},
   "outputs": [
    {
     "name": "stdout",
     "output_type": "stream",
     "text": [
      "496\n"
     ]
    }
   ],
   "source": [
    "cnt=0\n",
    "for i in range(cols):\n",
    "    if eig3[i]>=0.36:\n",
    "        cnt=cnt+1\n",
    "print(cnt)"
   ]
  },
  {
   "cell_type": "code",
   "execution_count": 6,
   "metadata": {},
   "outputs": [],
   "source": [
    "k=496"
   ]
  },
  {
   "cell_type": "code",
   "execution_count": 21,
   "metadata": {},
   "outputs": [],
   "source": [
    "np.save('w',w)"
   ]
  },
  {
   "cell_type": "code",
   "execution_count": 3,
   "metadata": {},
   "outputs": [],
   "source": [
    "iterations = 10000000\n",
    "alpha = 1e-7"
   ]
  },
  {
   "cell_type": "code",
   "execution_count": 68,
   "metadata": {},
   "outputs": [
    {
     "name": "stdout",
     "output_type": "stream",
     "text": [
      "num of iterations: 0\n",
      "-120.22777589439825\n",
      "num of iterations: 10\n",
      "-33.796812877970005\n",
      "num of iterations: 20\n",
      "-10.048182307278873\n",
      "num of iterations: 30\n",
      "-3.003138167189613\n",
      "num of iterations: 40\n",
      "-0.8970293186013354\n",
      "num of iterations: 50\n",
      "-0.26677441485578296\n",
      "num of iterations: 60\n",
      "-0.0781352342355448\n",
      "num of iterations: 70\n",
      "-0.02167210768506915\n",
      "num of iterations: 80\n",
      "-0.004771766828637084\n",
      "num of iterations: 90\n",
      "0.0002864903262688113\n",
      "num of iterations: 100\n",
      "0.0018001128936994983\n"
     ]
    },
    {
     "ename": "KeyboardInterrupt",
     "evalue": "",
     "output_type": "error",
     "traceback": [
      "\u001b[0;31m---------------------------------------------------------------------------\u001b[0m",
      "\u001b[0;31mKeyboardInterrupt\u001b[0m                         Traceback (most recent call last)",
      "\u001b[0;32m<ipython-input-68-6a8dfe71eca2>\u001b[0m in \u001b[0;36m<module>\u001b[0;34m\u001b[0m\n\u001b[1;32m      9\u001b[0m         \u001b[0mprint\u001b[0m\u001b[0;34m(\u001b[0m\u001b[0mnp\u001b[0m\u001b[0;34m.\u001b[0m\u001b[0msum\u001b[0m\u001b[0;34m(\u001b[0m\u001b[0me_mat1\u001b[0m\u001b[0;34m)\u001b[0m\u001b[0;34m/\u001b[0m\u001b[0;34m(\u001b[0m\u001b[0mrows\u001b[0m\u001b[0;34m*\u001b[0m\u001b[0mcols\u001b[0m\u001b[0;34m)\u001b[0m\u001b[0;34m)\u001b[0m\u001b[0;34m\u001b[0m\u001b[0;34m\u001b[0m\u001b[0m\n\u001b[1;32m     10\u001b[0m     \u001b[0mu_mat1\u001b[0m \u001b[0;34m=\u001b[0m \u001b[0mu_mat1\u001b[0m \u001b[0;34m+\u001b[0m \u001b[0malpha\u001b[0m\u001b[0;34m*\u001b[0m\u001b[0;34m(\u001b[0m\u001b[0mnp\u001b[0m\u001b[0;34m.\u001b[0m\u001b[0mdot\u001b[0m\u001b[0;34m(\u001b[0m\u001b[0me_mat1\u001b[0m\u001b[0;34m,\u001b[0m\u001b[0mv_mat1\u001b[0m\u001b[0;34m)\u001b[0m\u001b[0;34m)\u001b[0m\u001b[0;34m\u001b[0m\u001b[0;34m\u001b[0m\u001b[0m\n\u001b[0;32m---> 11\u001b[0;31m     \u001b[0mv_mat1\u001b[0m \u001b[0;34m=\u001b[0m \u001b[0mv_mat1\u001b[0m \u001b[0;34m+\u001b[0m \u001b[0malpha\u001b[0m\u001b[0;34m*\u001b[0m\u001b[0;34m(\u001b[0m\u001b[0mnp\u001b[0m\u001b[0;34m.\u001b[0m\u001b[0mdot\u001b[0m\u001b[0;34m(\u001b[0m\u001b[0mnp\u001b[0m\u001b[0;34m.\u001b[0m\u001b[0mtranspose\u001b[0m\u001b[0;34m(\u001b[0m\u001b[0me_mat1\u001b[0m\u001b[0;34m)\u001b[0m\u001b[0;34m,\u001b[0m\u001b[0mu_mat1\u001b[0m\u001b[0;34m)\u001b[0m\u001b[0;34m)\u001b[0m\u001b[0;34m\u001b[0m\u001b[0;34m\u001b[0m\u001b[0m\n\u001b[0m",
      "\u001b[0;31mKeyboardInterrupt\u001b[0m: "
     ]
    }
   ],
   "source": [
    "#gradient descent\n",
    "u_mat1 = np.random.rand(rows,k)\n",
    "v_mat1 = np.random.rand(cols,k)\n",
    "e_mat1 = np.zeros((rows,cols))\n",
    "for i in range(iterations):\n",
    "    e_mat1 = r_m - np.dot(u_mat1,np.transpose(v_mat1))\n",
    "    if i%10==0:\n",
    "        print(\"num of iterations: \"+str(i))\n",
    "        print(np.sum(e_mat1)/(rows*cols))\n",
    "    u_mat1 = u_mat1 + alpha*(np.dot(e_mat1,v_mat1))\n",
    "    v_mat1 = v_mat1 + alpha*(np.dot(np.transpose(e_mat1),u_mat1))"
   ]
  },
  {
   "cell_type": "code",
   "execution_count": 65,
   "metadata": {},
   "outputs": [
    {
     "name": "stdout",
     "output_type": "stream",
     "text": [
      "-120.3262652433591\n",
      "_iter: 0\n",
      "-63.2085786142647\n",
      "_iter: 5\n",
      "-33.275000286699694\n",
      "_iter: 10\n",
      "-17.527102655435225\n",
      "_iter: 15\n",
      "-9.233228490508877\n",
      "_iter: 20\n",
      "-4.863737567173378\n",
      "_iter: 25\n",
      "-2.561515599899504\n",
      "_iter: 30\n",
      "-1.3484679694502202\n",
      "_iter: 35\n",
      "-0.7093018792474992\n",
      "_iter: 40\n",
      "-0.37251770632720344\n",
      "_iter: 45\n",
      "-0.1950617866358719\n",
      "_iter: 50\n",
      "-0.10155790363844984\n",
      "_iter: 55\n",
      "-0.05228945982590338\n",
      "_iter: 60\n",
      "-0.026329270896452418\n",
      "_iter: 65\n",
      "-0.012650522562381823\n",
      "_iter: 70\n",
      "-0.005443035262957589\n",
      "_iter: 75\n",
      "-0.0016453450457470727\n",
      "_iter: 80\n",
      "0.0003556759109135029\n",
      "_iter: 85\n"
     ]
    },
    {
     "ename": "KeyboardInterrupt",
     "evalue": "",
     "output_type": "error",
     "traceback": [
      "\u001b[0;31m---------------------------------------------------------------------------\u001b[0m",
      "\u001b[0;31mKeyboardInterrupt\u001b[0m                         Traceback (most recent call last)",
      "\u001b[0;32m<ipython-input-65-24ba2594e9a7>\u001b[0m in \u001b[0;36m<module>\u001b[0;34m\u001b[0m\n\u001b[1;32m     14\u001b[0m     \u001b[0;32mfor\u001b[0m \u001b[0mi\u001b[0m \u001b[0;32min\u001b[0m \u001b[0mrange\u001b[0m\u001b[0;34m(\u001b[0m\u001b[0mrows\u001b[0m\u001b[0;34m)\u001b[0m\u001b[0;34m:\u001b[0m\u001b[0;34m\u001b[0m\u001b[0;34m\u001b[0m\u001b[0m\n\u001b[1;32m     15\u001b[0m         \u001b[0;32mfor\u001b[0m \u001b[0mq\u001b[0m \u001b[0;32min\u001b[0m \u001b[0mrange\u001b[0m\u001b[0;34m(\u001b[0m\u001b[0mk\u001b[0m\u001b[0;34m)\u001b[0m\u001b[0;34m:\u001b[0m\u001b[0;34m\u001b[0m\u001b[0;34m\u001b[0m\u001b[0m\n\u001b[0;32m---> 16\u001b[0;31m             \u001b[0mu_mat\u001b[0m\u001b[0;34m[\u001b[0m\u001b[0mi\u001b[0m\u001b[0;34m]\u001b[0m\u001b[0;34m[\u001b[0m\u001b[0mq\u001b[0m\u001b[0;34m]\u001b[0m \u001b[0;34m=\u001b[0m \u001b[0mu_mat\u001b[0m\u001b[0;34m[\u001b[0m\u001b[0mi\u001b[0m\u001b[0;34m]\u001b[0m\u001b[0;34m[\u001b[0m\u001b[0mq\u001b[0m\u001b[0;34m]\u001b[0m\u001b[0;34m+\u001b[0m\u001b[0malpha\u001b[0m\u001b[0;34m*\u001b[0m\u001b[0mnp\u001b[0m\u001b[0;34m.\u001b[0m\u001b[0mdot\u001b[0m\u001b[0;34m(\u001b[0m\u001b[0me_mat\u001b[0m\u001b[0;34m[\u001b[0m\u001b[0mi\u001b[0m\u001b[0;34m]\u001b[0m\u001b[0;34m,\u001b[0m\u001b[0mnp\u001b[0m\u001b[0;34m.\u001b[0m\u001b[0mtranspose\u001b[0m\u001b[0;34m(\u001b[0m\u001b[0mnp\u001b[0m\u001b[0;34m.\u001b[0m\u001b[0mtranspose\u001b[0m\u001b[0;34m(\u001b[0m\u001b[0mv_mat\u001b[0m\u001b[0;34m)\u001b[0m\u001b[0;34m[\u001b[0m\u001b[0mq\u001b[0m\u001b[0;34m]\u001b[0m\u001b[0;34m)\u001b[0m\u001b[0;34m)\u001b[0m\u001b[0;34m\u001b[0m\u001b[0;34m\u001b[0m\u001b[0m\n\u001b[0m\u001b[1;32m     17\u001b[0m             \u001b[0mv_mat\u001b[0m\u001b[0;34m[\u001b[0m\u001b[0mi\u001b[0m\u001b[0;34m]\u001b[0m\u001b[0;34m[\u001b[0m\u001b[0mq\u001b[0m\u001b[0;34m]\u001b[0m \u001b[0;34m=\u001b[0m \u001b[0mv_mat\u001b[0m\u001b[0;34m[\u001b[0m\u001b[0mi\u001b[0m\u001b[0;34m]\u001b[0m\u001b[0;34m[\u001b[0m\u001b[0mq\u001b[0m\u001b[0;34m]\u001b[0m\u001b[0;34m+\u001b[0m\u001b[0malpha\u001b[0m\u001b[0;34m*\u001b[0m\u001b[0mnp\u001b[0m\u001b[0;34m.\u001b[0m\u001b[0mdot\u001b[0m\u001b[0;34m(\u001b[0m\u001b[0mnp\u001b[0m\u001b[0;34m.\u001b[0m\u001b[0mtranspose\u001b[0m\u001b[0;34m(\u001b[0m\u001b[0me_mat\u001b[0m\u001b[0;34m)\u001b[0m\u001b[0;34m[\u001b[0m\u001b[0mi\u001b[0m\u001b[0;34m]\u001b[0m\u001b[0;34m,\u001b[0m\u001b[0mnp\u001b[0m\u001b[0;34m.\u001b[0m\u001b[0mtranspose\u001b[0m\u001b[0;34m(\u001b[0m\u001b[0mnp\u001b[0m\u001b[0;34m.\u001b[0m\u001b[0mtranspose\u001b[0m\u001b[0;34m(\u001b[0m\u001b[0mu_mat\u001b[0m\u001b[0;34m)\u001b[0m\u001b[0;34m[\u001b[0m\u001b[0mq\u001b[0m\u001b[0;34m]\u001b[0m\u001b[0;34m)\u001b[0m\u001b[0;34m)\u001b[0m\u001b[0;34m\u001b[0m\u001b[0;34m\u001b[0m\u001b[0m\n\u001b[1;32m     18\u001b[0m \u001b[0;34m\u001b[0m\u001b[0m\n",
      "\u001b[0;31mKeyboardInterrupt\u001b[0m: "
     ]
    }
   ],
   "source": [
    "#stochastic gradient descent\n",
    "u_mat = np.random.rand(rows,k)\n",
    "v_mat = np.random.rand(cols,k)\n",
    "e_mat = np.zeros((rows,cols))\n",
    "u_mat[np.isnan(u_mat)] = np.random.randn(len(u_mat[np.isnan(u_mat)]))\n",
    "v_mat[np.isnan(v_mat)] = np.random.randn(len(v_mat[np.isnan(v_mat)]))\n",
    "for _iter in range(iterations):\n",
    "    for i in range(rows):\n",
    "        for j in range(cols):\n",
    "            e_mat[i][j]=r_m[i][j]-np.dot(u_mat[i],np.transpose(v_mat[j]))\n",
    "    if _iter%5==0:\n",
    "        print(np.sum(e_mat)/(rows*cols))\n",
    "        print(\"_iter: \"+str(_iter))\n",
    "    for i in range(rows):\n",
    "        for q in range(k):\n",
    "            u_mat[i][q] = u_mat[i][q]+alpha*np.dot(e_mat[i],np.transpose(np.transpose(v_mat)[q]))\n",
    "            v_mat[i][q] = v_mat[i][q]+alpha*np.dot(np.transpose(e_mat)[i],np.transpose(np.transpose(u_mat)[q]))\n",
    "            "
   ]
  },
  {
   "cell_type": "code",
   "execution_count": 66,
   "metadata": {},
   "outputs": [],
   "source": [
    "np.save('u_mat',u_mat)#stochastic u"
   ]
  },
  {
   "cell_type": "code",
   "execution_count": 67,
   "metadata": {},
   "outputs": [],
   "source": [
    "np.save('v_mat',v_mat)#stochastic v"
   ]
  },
  {
   "cell_type": "code",
   "execution_count": 69,
   "metadata": {},
   "outputs": [],
   "source": [
    "np.save('u_mat1',u_mat1)#batch u"
   ]
  },
  {
   "cell_type": "code",
   "execution_count": 70,
   "metadata": {},
   "outputs": [],
   "source": [
    "np.save('v_mat1',v_mat1)#batch v"
   ]
  },
  {
   "cell_type": "markdown",
   "metadata": {},
   "source": [
    "Results:\n",
    "    Batch: converges after 100 iterations\n",
    "    stochastic: converges after 80 iterations\n",
    "    Best alpha: 1e-7"
   ]
  },
  {
   "cell_type": "code",
   "execution_count": 81,
   "metadata": {},
   "outputs": [],
   "source": [
    "#finding rmse error case a\n",
    "import math\n",
    "s=0\n",
    "cnt=0\n",
    "for i in range(rows):\n",
    "    for j in range(cols):\n",
    "        if test_mat[i][j]>0:\n",
    "            x = np.dot(u_mat1[i],np.transpose(v_mat1[j]))\n",
    "            y = test_mat[i][j]-x\n",
    "            y = y*y\n",
    "            s = s+y\n",
    "            cnt=cnt+1\n",
    "s=s/cnt\n",
    "s = math.sqrt(s)"
   ]
  },
  {
   "cell_type": "code",
   "execution_count": 82,
   "metadata": {},
   "outputs": [
    {
     "name": "stdout",
     "output_type": "stream",
     "text": [
      "2.066041585180731\n"
     ]
    }
   ],
   "source": [
    "print(s)"
   ]
  },
  {
   "cell_type": "code",
   "execution_count": 83,
   "metadata": {},
   "outputs": [],
   "source": [
    "#finding rmse error case b\n",
    "import math\n",
    "s=0\n",
    "cnt=0\n",
    "for i in range(rows):\n",
    "    for j in range(cols):\n",
    "        if test_mat[i][j]>0:\n",
    "            x = np.dot(u_mat[i],np.transpose(v_mat[j]))\n",
    "            y = test_mat[i][j]-x\n",
    "            y = y*y\n",
    "            s = s+y\n",
    "            cnt=cnt+1\n",
    "s=s/cnt\n",
    "s = math.sqrt(s)\n",
    "s1=s1/cnt"
   ]
  },
  {
   "cell_type": "code",
   "execution_count": 84,
   "metadata": {},
   "outputs": [
    {
     "name": "stdout",
     "output_type": "stream",
     "text": [
      "2.066862105341271\n"
     ]
    }
   ],
   "source": [
    "print(s)"
   ]
  },
  {
   "cell_type": "markdown",
   "metadata": {},
   "source": [
    "Results:\n",
    "    rmse:\n",
    "        batch: 2.066041585180731\n",
    "        stochastic: 2.066862105341271"
   ]
  },
  {
   "cell_type": "code",
   "execution_count": 48,
   "metadata": {},
   "outputs": [],
   "source": [
    "_lambda = 10"
   ]
  },
  {
   "cell_type": "code",
   "execution_count": 49,
   "metadata": {},
   "outputs": [
    {
     "name": "stdout",
     "output_type": "stream",
     "text": [
      "user0 hasn't rated any movie\n"
     ]
    }
   ],
   "source": [
    "#case1: %5=0 is the test set\n",
    "r_m2=np.zeros((rows,cols))\n",
    "for i in range(rows):\n",
    "    for j in range(cols):\n",
    "        if j%5!=0:\n",
    "            r_m2[i][j]=r_m[i][j]\n",
    "for i in range(rows):\n",
    "    s=0\n",
    "    cnt=0\n",
    "    for j in range(cols):\n",
    "        s += r_m2[i][j]\n",
    "        if r_m2[i][j]>0:\n",
    "            cnt=cnt+1\n",
    "    if cnt==0:\n",
    "        print(\"user\"+str(i)+\" hasn't rated any movie\")\n",
    "    else:\n",
    "        s = s/cnt\n",
    "    for j in range(cols):\n",
    "        if r_m2[i][j]==0:\n",
    "            r_m2[i][j]=s"
   ]
  },
  {
   "cell_type": "code",
   "execution_count": 50,
   "metadata": {},
   "outputs": [
    {
     "name": "stdout",
     "output_type": "stream",
     "text": [
      "num of iterations: 0\n",
      "-150.40853704538486\n",
      "num of iterations: 10\n",
      "-42.26343582558997\n",
      "num of iterations: 20\n",
      "-12.561301063537982\n",
      "num of iterations: 30\n",
      "-3.753068596792137\n",
      "num of iterations: 40\n",
      "-1.120656054573315\n",
      "num of iterations: 50\n",
      "-0.33312356774475926\n",
      "num of iterations: 60\n",
      "-0.09746985602850065\n",
      "num of iterations: 70\n",
      "-0.026950494963246394\n",
      "num of iterations: 80\n",
      "-0.005847191576436379\n",
      "num of iterations: 90\n",
      "0.00046785182653265463\n"
     ]
    },
    {
     "ename": "KeyboardInterrupt",
     "evalue": "",
     "output_type": "error",
     "traceback": [
      "\u001b[0;31m---------------------------------------------------------------------------\u001b[0m",
      "\u001b[0;31mKeyboardInterrupt\u001b[0m                         Traceback (most recent call last)",
      "\u001b[0;32m<ipython-input-50-197561410faa>\u001b[0m in \u001b[0;36m<module>\u001b[0;34m\u001b[0m\n\u001b[1;32m      9\u001b[0m         \u001b[0mprint\u001b[0m\u001b[0;34m(\u001b[0m\u001b[0mnp\u001b[0m\u001b[0;34m.\u001b[0m\u001b[0msum\u001b[0m\u001b[0;34m(\u001b[0m\u001b[0me_mat2\u001b[0m\u001b[0;34m)\u001b[0m\u001b[0;34m/\u001b[0m\u001b[0;34m(\u001b[0m\u001b[0;36m0.8\u001b[0m\u001b[0;34m*\u001b[0m\u001b[0mrows\u001b[0m\u001b[0;34m*\u001b[0m\u001b[0mcols\u001b[0m\u001b[0;34m)\u001b[0m\u001b[0;34m)\u001b[0m\u001b[0;34m\u001b[0m\u001b[0;34m\u001b[0m\u001b[0m\n\u001b[1;32m     10\u001b[0m     \u001b[0mu_mat2\u001b[0m \u001b[0;34m=\u001b[0m \u001b[0mu_mat2\u001b[0m\u001b[0;34m*\u001b[0m\u001b[0;34m(\u001b[0m\u001b[0;36m1\u001b[0m\u001b[0;34m-\u001b[0m\u001b[0malpha\u001b[0m\u001b[0;34m*\u001b[0m\u001b[0m_lambda\u001b[0m\u001b[0;34m)\u001b[0m \u001b[0;34m+\u001b[0m \u001b[0malpha\u001b[0m\u001b[0;34m*\u001b[0m\u001b[0;34m(\u001b[0m\u001b[0mnp\u001b[0m\u001b[0;34m.\u001b[0m\u001b[0mdot\u001b[0m\u001b[0;34m(\u001b[0m\u001b[0me_mat2\u001b[0m\u001b[0;34m,\u001b[0m\u001b[0mv_mat2\u001b[0m\u001b[0;34m)\u001b[0m\u001b[0;34m)\u001b[0m\u001b[0;34m\u001b[0m\u001b[0;34m\u001b[0m\u001b[0m\n\u001b[0;32m---> 11\u001b[0;31m     \u001b[0mv_mat2\u001b[0m \u001b[0;34m=\u001b[0m \u001b[0mv_mat2\u001b[0m\u001b[0;34m*\u001b[0m\u001b[0;34m(\u001b[0m\u001b[0;36m1\u001b[0m\u001b[0;34m-\u001b[0m\u001b[0malpha\u001b[0m\u001b[0;34m*\u001b[0m\u001b[0m_lambda\u001b[0m\u001b[0;34m)\u001b[0m \u001b[0;34m+\u001b[0m \u001b[0malpha\u001b[0m\u001b[0;34m*\u001b[0m\u001b[0;34m(\u001b[0m\u001b[0mnp\u001b[0m\u001b[0;34m.\u001b[0m\u001b[0mdot\u001b[0m\u001b[0;34m(\u001b[0m\u001b[0mnp\u001b[0m\u001b[0;34m.\u001b[0m\u001b[0mtranspose\u001b[0m\u001b[0;34m(\u001b[0m\u001b[0me_mat2\u001b[0m\u001b[0;34m)\u001b[0m\u001b[0;34m,\u001b[0m\u001b[0mu_mat2\u001b[0m\u001b[0;34m)\u001b[0m\u001b[0;34m)\u001b[0m\u001b[0;34m\u001b[0m\u001b[0;34m\u001b[0m\u001b[0m\n\u001b[0m",
      "\u001b[0;31mKeyboardInterrupt\u001b[0m: "
     ]
    }
   ],
   "source": [
    "#case1 \n",
    "u_mat2 = np.random.rand(rows,k)\n",
    "v_mat2 = np.random.rand(cols,k)\n",
    "e_mat2 = np.zeros((rows,cols))\n",
    "for i in range(iterations):\n",
    "    e_mat2 = r_m2 - np.dot(u_mat2,np.transpose(v_mat2))\n",
    "    if i%10==0:\n",
    "        print(\"num of iterations: \"+str(i))\n",
    "        print(np.sum(e_mat2)/(0.8*rows*cols))\n",
    "    u_mat2 = u_mat2*(1-alpha*_lambda) + alpha*(np.dot(e_mat2,v_mat2))\n",
    "    v_mat2 = v_mat2*(1-alpha*_lambda) + alpha*(np.dot(np.transpose(e_mat2),u_mat2))"
   ]
  },
  {
   "cell_type": "code",
   "execution_count": 51,
   "metadata": {},
   "outputs": [],
   "source": [
    "#finding the error in case1\n",
    "import math\n",
    "cnt=0\n",
    "s=0\n",
    "for i in range(rows):\n",
    "    for j in range(cols):\n",
    "        if j%5==0:\n",
    "            x = np.dot(u_mat2[i],np.transpose(v_mat2[j]))\n",
    "            y = x-r_m[i][j]\n",
    "            y = y*y\n",
    "            s=s+y\n",
    "            cnt=cnt+1\n",
    "error1 = math.sqrt(s/cnt)"
   ]
  },
  {
   "cell_type": "code",
   "execution_count": 52,
   "metadata": {},
   "outputs": [
    {
     "name": "stdout",
     "output_type": "stream",
     "text": [
      "1.8432890179206305\n"
     ]
    }
   ],
   "source": [
    "print(error1)"
   ]
  },
  {
   "cell_type": "code",
   "execution_count": 53,
   "metadata": {},
   "outputs": [
    {
     "name": "stdout",
     "output_type": "stream",
     "text": [
      "user0 hasn't rated any movie\n"
     ]
    }
   ],
   "source": [
    "#case2: %5=1 is the test set\n",
    "r_m2=np.zeros((rows,cols))\n",
    "for i in range(rows):\n",
    "    for j in range(cols):\n",
    "        if j%5!=1:\n",
    "            r_m2[i][j]=r_m[i][j]\n",
    "for i in range(rows):\n",
    "    s=0\n",
    "    cnt=0\n",
    "    for j in range(cols):\n",
    "        s += r_m2[i][j]\n",
    "        if r_m2[i][j]>0:\n",
    "            cnt=cnt+1\n",
    "    if cnt==0:\n",
    "        print(\"user\"+str(i)+\" hasn't rated any movie\")\n",
    "    else:\n",
    "        s = s/cnt\n",
    "    for j in range(cols):\n",
    "        if r_m2[i][j]==0:\n",
    "            r_m2[i][j]=s"
   ]
  },
  {
   "cell_type": "code",
   "execution_count": 54,
   "metadata": {},
   "outputs": [
    {
     "name": "stdout",
     "output_type": "stream",
     "text": [
      "num of iterations: 0\n",
      "-150.672468414522\n",
      "num of iterations: 5\n",
      "-78.53471854044322\n",
      "num of iterations: 10\n",
      "-42.32354582793858\n",
      "num of iterations: 15\n",
      "-23.036011238605163\n",
      "num of iterations: 20\n",
      "-12.57715018472425\n",
      "num of iterations: 25\n",
      "-6.873536719540991\n",
      "num of iterations: 30\n",
      "-3.75728144772142\n",
      "num of iterations: 35\n",
      "-2.053527005549217\n",
      "num of iterations: 40\n",
      "-1.121787605297491\n",
      "num of iterations: 45\n",
      "-0.6121855447515312\n",
      "num of iterations: 50\n",
      "-0.33345035269660406\n",
      "num of iterations: 55\n",
      "-0.18098704091362672\n",
      "num of iterations: 60\n",
      "-0.09759079002394729\n",
      "num of iterations: 65\n",
      "-0.05197318857303967\n",
      "num of iterations: 70\n",
      "-0.027020283271564003\n",
      "num of iterations: 75\n",
      "-0.013370976618673943\n",
      "num of iterations: 80\n",
      "-0.005904801320587456\n",
      "num of iterations: 85\n",
      "-0.0018208602551369397\n",
      "num of iterations: 90\n",
      "0.0004129516930178323\n"
     ]
    },
    {
     "ename": "KeyboardInterrupt",
     "evalue": "",
     "output_type": "error",
     "traceback": [
      "\u001b[0;31m---------------------------------------------------------------------------\u001b[0m",
      "\u001b[0;31mKeyboardInterrupt\u001b[0m                         Traceback (most recent call last)",
      "\u001b[0;32m<ipython-input-54-5edb58cd6fac>\u001b[0m in \u001b[0;36m<module>\u001b[0;34m\u001b[0m\n\u001b[1;32m      4\u001b[0m \u001b[0me_mat2\u001b[0m \u001b[0;34m=\u001b[0m \u001b[0mnp\u001b[0m\u001b[0;34m.\u001b[0m\u001b[0mzeros\u001b[0m\u001b[0;34m(\u001b[0m\u001b[0;34m(\u001b[0m\u001b[0mrows\u001b[0m\u001b[0;34m,\u001b[0m\u001b[0mcols\u001b[0m\u001b[0;34m)\u001b[0m\u001b[0;34m)\u001b[0m\u001b[0;34m\u001b[0m\u001b[0;34m\u001b[0m\u001b[0m\n\u001b[1;32m      5\u001b[0m \u001b[0;32mfor\u001b[0m \u001b[0mi\u001b[0m \u001b[0;32min\u001b[0m \u001b[0mrange\u001b[0m\u001b[0;34m(\u001b[0m\u001b[0miterations\u001b[0m\u001b[0;34m)\u001b[0m\u001b[0;34m:\u001b[0m\u001b[0;34m\u001b[0m\u001b[0;34m\u001b[0m\u001b[0m\n\u001b[0;32m----> 6\u001b[0;31m     \u001b[0me_mat2\u001b[0m \u001b[0;34m=\u001b[0m \u001b[0mr_m2\u001b[0m \u001b[0;34m-\u001b[0m \u001b[0mnp\u001b[0m\u001b[0;34m.\u001b[0m\u001b[0mdot\u001b[0m\u001b[0;34m(\u001b[0m\u001b[0mu_mat2\u001b[0m\u001b[0;34m,\u001b[0m\u001b[0mnp\u001b[0m\u001b[0;34m.\u001b[0m\u001b[0mtranspose\u001b[0m\u001b[0;34m(\u001b[0m\u001b[0mv_mat2\u001b[0m\u001b[0;34m)\u001b[0m\u001b[0;34m)\u001b[0m\u001b[0;34m\u001b[0m\u001b[0;34m\u001b[0m\u001b[0m\n\u001b[0m\u001b[1;32m      7\u001b[0m     \u001b[0;32mif\u001b[0m \u001b[0mi\u001b[0m\u001b[0;34m%\u001b[0m\u001b[0;36m5\u001b[0m\u001b[0;34m==\u001b[0m\u001b[0;36m0\u001b[0m\u001b[0;34m:\u001b[0m\u001b[0;34m\u001b[0m\u001b[0;34m\u001b[0m\u001b[0m\n\u001b[1;32m      8\u001b[0m         \u001b[0mprint\u001b[0m\u001b[0;34m(\u001b[0m\u001b[0;34m\"num of iterations: \"\u001b[0m\u001b[0;34m+\u001b[0m\u001b[0mstr\u001b[0m\u001b[0;34m(\u001b[0m\u001b[0mi\u001b[0m\u001b[0;34m)\u001b[0m\u001b[0;34m)\u001b[0m\u001b[0;34m\u001b[0m\u001b[0;34m\u001b[0m\u001b[0m\n",
      "\u001b[0;31mKeyboardInterrupt\u001b[0m: "
     ]
    }
   ],
   "source": [
    "#case2:\n",
    "u_mat2 = np.random.rand(rows,k)\n",
    "v_mat2 = np.random.rand(cols,k)\n",
    "e_mat2 = np.zeros((rows,cols))\n",
    "for i in range(iterations):\n",
    "    e_mat2 = r_m2 - np.dot(u_mat2,np.transpose(v_mat2))\n",
    "    if i%5==0:\n",
    "        print(\"num of iterations: \"+str(i))\n",
    "        print(np.sum(e_mat2)/(0.8*rows*cols))\n",
    "    u_mat2 = u_mat2*(1-alpha*_lambda) + alpha*(np.dot(e_mat2,v_mat2))\n",
    "    v_mat2 = v_mat2*(1-alpha*_lambda) + alpha*(np.dot(np.transpose(e_mat2),u_mat2))"
   ]
  },
  {
   "cell_type": "code",
   "execution_count": 55,
   "metadata": {},
   "outputs": [
    {
     "name": "stdout",
     "output_type": "stream",
     "text": [
      "1.8417449985970267\n"
     ]
    }
   ],
   "source": [
    "#finding the error in case2\n",
    "import math\n",
    "cnt=0\n",
    "s=0\n",
    "for i in range(rows):\n",
    "    for j in range(cols):\n",
    "        if j%5==1:\n",
    "            x = np.dot(u_mat2[i],np.transpose(v_mat2[j]))\n",
    "            y = x-r_m[i][j]\n",
    "            y = y*y\n",
    "            s=s+y\n",
    "            cnt=cnt+1\n",
    "error2 = math.sqrt(s/cnt)\n",
    "print(error2)"
   ]
  },
  {
   "cell_type": "code",
   "execution_count": 56,
   "metadata": {},
   "outputs": [
    {
     "name": "stdout",
     "output_type": "stream",
     "text": [
      "user0 hasn't rated any movie\n",
      "num of iterations: 0\n",
      "-150.4767339689179\n",
      "num of iterations: 5\n",
      "-78.47991535167287\n",
      "num of iterations: 10\n",
      "-42.31690788356277\n",
      "num of iterations: 15\n",
      "-23.04470009814338\n",
      "num of iterations: 20\n",
      "-12.58862134180223\n",
      "num of iterations: 25\n",
      "-6.883488603735531\n",
      "num of iterations: 30\n",
      "-3.764734289160881\n",
      "num of iterations: 35\n",
      "-2.058697952230846\n",
      "num of iterations: 40\n",
      "-1.1252089686973057\n",
      "num of iterations: 45\n",
      "-0.6143752850416307\n",
      "num of iterations: 50\n",
      "-0.33481604837366474\n",
      "num of iterations: 55\n",
      "-0.18181968116091826\n",
      "num of iterations: 60\n",
      "-0.098086798473893\n",
      "num of iterations: 65\n",
      "-0.05226040139109074\n",
      "num of iterations: 70\n",
      "-0.027179789173023966\n",
      "num of iterations: 75\n",
      "-0.013453240943860412\n",
      "num of iterations: 80\n",
      "-0.005940772841604251\n",
      "num of iterations: 85\n",
      "-0.001829298429712067\n",
      "num of iterations: 90\n",
      "0.00042078351352126966\n"
     ]
    },
    {
     "ename": "KeyboardInterrupt",
     "evalue": "",
     "output_type": "error",
     "traceback": [
      "\u001b[0;31m---------------------------------------------------------------------------\u001b[0m",
      "\u001b[0;31mKeyboardInterrupt\u001b[0m                         Traceback (most recent call last)",
      "\u001b[0;32m<ipython-input-56-b22ca8670b6e>\u001b[0m in \u001b[0;36m<module>\u001b[0;34m\u001b[0m\n\u001b[1;32m     23\u001b[0m \u001b[0me_mat2\u001b[0m \u001b[0;34m=\u001b[0m \u001b[0mnp\u001b[0m\u001b[0;34m.\u001b[0m\u001b[0mzeros\u001b[0m\u001b[0;34m(\u001b[0m\u001b[0;34m(\u001b[0m\u001b[0mrows\u001b[0m\u001b[0;34m,\u001b[0m\u001b[0mcols\u001b[0m\u001b[0;34m)\u001b[0m\u001b[0;34m)\u001b[0m\u001b[0;34m\u001b[0m\u001b[0;34m\u001b[0m\u001b[0m\n\u001b[1;32m     24\u001b[0m \u001b[0;32mfor\u001b[0m \u001b[0mi\u001b[0m \u001b[0;32min\u001b[0m \u001b[0mrange\u001b[0m\u001b[0;34m(\u001b[0m\u001b[0miterations\u001b[0m\u001b[0;34m)\u001b[0m\u001b[0;34m:\u001b[0m\u001b[0;34m\u001b[0m\u001b[0;34m\u001b[0m\u001b[0m\n\u001b[0;32m---> 25\u001b[0;31m     \u001b[0me_mat2\u001b[0m \u001b[0;34m=\u001b[0m \u001b[0mr_m2\u001b[0m \u001b[0;34m-\u001b[0m \u001b[0mnp\u001b[0m\u001b[0;34m.\u001b[0m\u001b[0mdot\u001b[0m\u001b[0;34m(\u001b[0m\u001b[0mu_mat2\u001b[0m\u001b[0;34m,\u001b[0m\u001b[0mnp\u001b[0m\u001b[0;34m.\u001b[0m\u001b[0mtranspose\u001b[0m\u001b[0;34m(\u001b[0m\u001b[0mv_mat2\u001b[0m\u001b[0;34m)\u001b[0m\u001b[0;34m)\u001b[0m\u001b[0;34m\u001b[0m\u001b[0;34m\u001b[0m\u001b[0m\n\u001b[0m\u001b[1;32m     26\u001b[0m     \u001b[0;32mif\u001b[0m \u001b[0mi\u001b[0m\u001b[0;34m%\u001b[0m\u001b[0;36m5\u001b[0m\u001b[0;34m==\u001b[0m\u001b[0;36m0\u001b[0m\u001b[0;34m:\u001b[0m\u001b[0;34m\u001b[0m\u001b[0;34m\u001b[0m\u001b[0m\n\u001b[1;32m     27\u001b[0m         \u001b[0mprint\u001b[0m\u001b[0;34m(\u001b[0m\u001b[0;34m\"num of iterations: \"\u001b[0m\u001b[0;34m+\u001b[0m\u001b[0mstr\u001b[0m\u001b[0;34m(\u001b[0m\u001b[0mi\u001b[0m\u001b[0;34m)\u001b[0m\u001b[0;34m)\u001b[0m\u001b[0;34m\u001b[0m\u001b[0;34m\u001b[0m\u001b[0m\n",
      "\u001b[0;31mKeyboardInterrupt\u001b[0m: "
     ]
    }
   ],
   "source": [
    "#case3: %5=2 is the test set\n",
    "r_m2=np.zeros((rows,cols))\n",
    "for i in range(rows):\n",
    "    for j in range(cols):\n",
    "        if j%5!=2:\n",
    "            r_m2[i][j]=r_m[i][j]\n",
    "for i in range(rows):\n",
    "    s=0\n",
    "    cnt=0\n",
    "    for j in range(cols):\n",
    "        s += r_m2[i][j]\n",
    "        if r_m2[i][j]>0:\n",
    "            cnt=cnt+1\n",
    "    if cnt==0:\n",
    "        print(\"user\"+str(i)+\" hasn't rated any movie\")\n",
    "    else:\n",
    "        s = s/cnt\n",
    "    for j in range(cols):\n",
    "        if r_m2[i][j]==0:\n",
    "            r_m2[i][j]=s\n",
    "u_mat2 = np.random.rand(rows,k)\n",
    "v_mat2 = np.random.rand(cols,k)\n",
    "e_mat2 = np.zeros((rows,cols))\n",
    "for i in range(iterations):\n",
    "    e_mat2 = r_m2 - np.dot(u_mat2,np.transpose(v_mat2))\n",
    "    if i%5==0:\n",
    "        print(\"num of iterations: \"+str(i))\n",
    "        print(np.sum(e_mat2)/(0.8*rows*cols))\n",
    "    u_mat2 = u_mat2*(1-alpha*_lambda) + alpha*(np.dot(e_mat2,v_mat2))\n",
    "    v_mat2 = v_mat2*(1-alpha*_lambda) + alpha*(np.dot(np.transpose(e_mat2),u_mat2))"
   ]
  },
  {
   "cell_type": "code",
   "execution_count": 41,
   "metadata": {},
   "outputs": [
    {
     "name": "stdout",
     "output_type": "stream",
     "text": [
      "1.8437396195499816\n"
     ]
    }
   ],
   "source": [
    "#finding the error in case3\n",
    "import math\n",
    "cnt=0\n",
    "s=0\n",
    "for i in range(rows):\n",
    "    for j in range(cols):\n",
    "        if j%5==2:\n",
    "            x = np.dot(u_mat2[i],np.transpose(v_mat2[j]))\n",
    "            y = x-r_m[i][j]\n",
    "            y = y*y\n",
    "            s=s+y\n",
    "            cnt=cnt+1\n",
    "error3 = math.sqrt(s/cnt)\n",
    "print(error3)"
   ]
  },
  {
   "cell_type": "code",
   "execution_count": 42,
   "metadata": {},
   "outputs": [
    {
     "name": "stdout",
     "output_type": "stream",
     "text": [
      "user0 hasn't rated any movie\n",
      "num of iterations: 0\n",
      "-150.2225510139485\n",
      "num of iterations: 5\n",
      "-78.35414854844424\n",
      "num of iterations: 10\n",
      "-42.248213697698226\n",
      "num of iterations: 15\n",
      "-23.006052007894187\n",
      "num of iterations: 20\n",
      "-12.566684628432121\n",
      "num of iterations: 25\n",
      "-6.87101220463418\n",
      "num of iterations: 30\n",
      "-3.7576445200983364\n",
      "num of iterations: 35\n",
      "-2.0546813230785577\n",
      "num of iterations: 40\n",
      "-1.1229467563562525\n",
      "num of iterations: 45\n",
      "-0.613114808387636\n",
      "num of iterations: 50\n",
      "-0.33412750777314226\n",
      "num of iterations: 55\n",
      "-0.18145762564277645\n",
      "num of iterations: 60\n",
      "-0.09791106552548369\n",
      "num of iterations: 65\n",
      "-0.052190966416676046\n",
      "num of iterations: 70\n",
      "-0.027170973846921954\n",
      "num of iterations: 75\n",
      "-0.013478979508210755\n",
      "num of iterations: 80\n",
      "-0.005986196105463268\n",
      "num of iterations: 85\n",
      "-0.0018859273307016279\n",
      "num of iterations: 90\n",
      "0.0003577822455270243\n"
     ]
    },
    {
     "ename": "KeyboardInterrupt",
     "evalue": "",
     "output_type": "error",
     "traceback": [
      "\u001b[0;31m---------------------------------------------------------------------------\u001b[0m",
      "\u001b[0;31mKeyboardInterrupt\u001b[0m                         Traceback (most recent call last)",
      "\u001b[0;32m<ipython-input-42-9318be4d318f>\u001b[0m in \u001b[0;36m<module>\u001b[0;34m\u001b[0m\n\u001b[1;32m     23\u001b[0m \u001b[0me_mat2\u001b[0m \u001b[0;34m=\u001b[0m \u001b[0mnp\u001b[0m\u001b[0;34m.\u001b[0m\u001b[0mzeros\u001b[0m\u001b[0;34m(\u001b[0m\u001b[0;34m(\u001b[0m\u001b[0mrows\u001b[0m\u001b[0;34m,\u001b[0m\u001b[0mcols\u001b[0m\u001b[0;34m)\u001b[0m\u001b[0;34m)\u001b[0m\u001b[0;34m\u001b[0m\u001b[0;34m\u001b[0m\u001b[0m\n\u001b[1;32m     24\u001b[0m \u001b[0;32mfor\u001b[0m \u001b[0mi\u001b[0m \u001b[0;32min\u001b[0m \u001b[0mrange\u001b[0m\u001b[0;34m(\u001b[0m\u001b[0miterations\u001b[0m\u001b[0;34m)\u001b[0m\u001b[0;34m:\u001b[0m\u001b[0;34m\u001b[0m\u001b[0;34m\u001b[0m\u001b[0m\n\u001b[0;32m---> 25\u001b[0;31m     \u001b[0me_mat2\u001b[0m \u001b[0;34m=\u001b[0m \u001b[0mr_m2\u001b[0m \u001b[0;34m-\u001b[0m \u001b[0mnp\u001b[0m\u001b[0;34m.\u001b[0m\u001b[0mdot\u001b[0m\u001b[0;34m(\u001b[0m\u001b[0mu_mat2\u001b[0m\u001b[0;34m,\u001b[0m\u001b[0mnp\u001b[0m\u001b[0;34m.\u001b[0m\u001b[0mtranspose\u001b[0m\u001b[0;34m(\u001b[0m\u001b[0mv_mat2\u001b[0m\u001b[0;34m)\u001b[0m\u001b[0;34m)\u001b[0m\u001b[0;34m\u001b[0m\u001b[0;34m\u001b[0m\u001b[0m\n\u001b[0m\u001b[1;32m     26\u001b[0m     \u001b[0;32mif\u001b[0m \u001b[0mi\u001b[0m\u001b[0;34m%\u001b[0m\u001b[0;36m5\u001b[0m\u001b[0;34m==\u001b[0m\u001b[0;36m0\u001b[0m\u001b[0;34m:\u001b[0m\u001b[0;34m\u001b[0m\u001b[0;34m\u001b[0m\u001b[0m\n\u001b[1;32m     27\u001b[0m         \u001b[0mprint\u001b[0m\u001b[0;34m(\u001b[0m\u001b[0;34m\"num of iterations: \"\u001b[0m\u001b[0;34m+\u001b[0m\u001b[0mstr\u001b[0m\u001b[0;34m(\u001b[0m\u001b[0mi\u001b[0m\u001b[0;34m)\u001b[0m\u001b[0;34m)\u001b[0m\u001b[0;34m\u001b[0m\u001b[0;34m\u001b[0m\u001b[0m\n",
      "\u001b[0;31mKeyboardInterrupt\u001b[0m: "
     ]
    }
   ],
   "source": [
    "#case4: %5=3 is the test set\n",
    "r_m2=np.zeros((rows,cols))\n",
    "for i in range(rows):\n",
    "    for j in range(cols):\n",
    "        if j%5!=3:\n",
    "            r_m2[i][j]=r_m[i][j]\n",
    "for i in range(rows):\n",
    "    s=0\n",
    "    cnt=0\n",
    "    for j in range(cols):\n",
    "        s += r_m2[i][j]\n",
    "        if r_m2[i][j]>0:\n",
    "            cnt=cnt+1\n",
    "    if cnt==0:\n",
    "        print(\"user\"+str(i)+\" hasn't rated any movie\")\n",
    "    else:\n",
    "        s = s/cnt\n",
    "    for j in range(cols):\n",
    "        if r_m2[i][j]==0:\n",
    "            r_m2[i][j]=s\n",
    "u_mat2 = np.random.rand(rows,k)\n",
    "v_mat2 = np.random.rand(cols,k)\n",
    "e_mat2 = np.zeros((rows,cols))\n",
    "for i in range(iterations):\n",
    "    e_mat2 = r_m2 - np.dot(u_mat2,np.transpose(v_mat2))\n",
    "    if i%5==0:\n",
    "        print(\"num of iterations: \"+str(i))\n",
    "        print(np.sum(e_mat2)/(0.8*rows*cols))\n",
    "    u_mat2 = u_mat2*(1-alpha*_lambda) + alpha*(np.dot(e_mat2,v_mat2))\n",
    "    v_mat2 = v_mat2*(1-alpha*_lambda) + alpha*(np.dot(np.transpose(e_mat2),u_mat2))"
   ]
  },
  {
   "cell_type": "code",
   "execution_count": 43,
   "metadata": {},
   "outputs": [
    {
     "name": "stdout",
     "output_type": "stream",
     "text": [
      "1.8429115284967217\n"
     ]
    }
   ],
   "source": [
    "#finding the error in case4\n",
    "import math\n",
    "cnt=0\n",
    "s=0\n",
    "for i in range(rows):\n",
    "    for j in range(cols):\n",
    "        if j%5==3:\n",
    "            x = np.dot(u_mat2[i],np.transpose(v_mat2[j]))\n",
    "            y = x-r_m[i][j]\n",
    "            y = y*y\n",
    "            s=s+y\n",
    "            cnt=cnt+1\n",
    "error4 = math.sqrt(s/cnt)\n",
    "print(error4)"
   ]
  },
  {
   "cell_type": "code",
   "execution_count": 44,
   "metadata": {},
   "outputs": [
    {
     "name": "stdout",
     "output_type": "stream",
     "text": [
      "user0 hasn't rated any movie\n",
      "num of iterations: 0\n",
      "-150.4776994760011\n",
      "num of iterations: 5\n",
      "-78.47057503859085\n",
      "num of iterations: 10\n",
      "-42.30622685828795\n",
      "num of iterations: 15\n",
      "-23.035666084858587\n",
      "num of iterations: 20\n",
      "-12.58188618603692\n",
      "num of iterations: 25\n",
      "-6.878816453560874\n",
      "num of iterations: 30\n",
      "-3.7616475224932047\n",
      "num of iterations: 35\n",
      "-2.056735480930283\n",
      "num of iterations: 40\n",
      "-1.124005592626266\n",
      "num of iterations: 45\n",
      "-0.61366775780447\n",
      "num of iterations: 50\n",
      "-0.3344248095091857\n",
      "num of iterations: 55\n",
      "-0.18162661597691476\n",
      "num of iterations: 60\n",
      "-0.09801617858677723\n",
      "num of iterations: 65\n",
      "-0.052264592325839694\n",
      "num of iterations: 70\n",
      "-0.027229267322353586\n",
      "num of iterations: 75\n",
      "-0.0135299218386738\n",
      "num of iterations: 80\n",
      "-0.0060336848448056665\n",
      "num of iterations: 85\n",
      "-0.0019318381334653336\n",
      "num of iterations: 90\n",
      "0.0003125637073174237\n"
     ]
    },
    {
     "ename": "KeyboardInterrupt",
     "evalue": "",
     "output_type": "error",
     "traceback": [
      "\u001b[0;31m---------------------------------------------------------------------------\u001b[0m",
      "\u001b[0;31mKeyboardInterrupt\u001b[0m                         Traceback (most recent call last)",
      "\u001b[0;32m<ipython-input-44-0e5a07e95955>\u001b[0m in \u001b[0;36m<module>\u001b[0;34m\u001b[0m\n\u001b[1;32m     27\u001b[0m         \u001b[0mprint\u001b[0m\u001b[0;34m(\u001b[0m\u001b[0;34m\"num of iterations: \"\u001b[0m\u001b[0;34m+\u001b[0m\u001b[0mstr\u001b[0m\u001b[0;34m(\u001b[0m\u001b[0mi\u001b[0m\u001b[0;34m)\u001b[0m\u001b[0;34m)\u001b[0m\u001b[0;34m\u001b[0m\u001b[0;34m\u001b[0m\u001b[0m\n\u001b[1;32m     28\u001b[0m         \u001b[0mprint\u001b[0m\u001b[0;34m(\u001b[0m\u001b[0mnp\u001b[0m\u001b[0;34m.\u001b[0m\u001b[0msum\u001b[0m\u001b[0;34m(\u001b[0m\u001b[0me_mat2\u001b[0m\u001b[0;34m)\u001b[0m\u001b[0;34m/\u001b[0m\u001b[0;34m(\u001b[0m\u001b[0;36m0.8\u001b[0m\u001b[0;34m*\u001b[0m\u001b[0mrows\u001b[0m\u001b[0;34m*\u001b[0m\u001b[0mcols\u001b[0m\u001b[0;34m)\u001b[0m\u001b[0;34m)\u001b[0m\u001b[0;34m\u001b[0m\u001b[0;34m\u001b[0m\u001b[0m\n\u001b[0;32m---> 29\u001b[0;31m     \u001b[0mu_mat2\u001b[0m \u001b[0;34m=\u001b[0m \u001b[0mu_mat2\u001b[0m\u001b[0;34m*\u001b[0m\u001b[0;34m(\u001b[0m\u001b[0;36m1\u001b[0m\u001b[0;34m-\u001b[0m\u001b[0malpha\u001b[0m\u001b[0;34m*\u001b[0m\u001b[0m_lambda\u001b[0m\u001b[0;34m)\u001b[0m \u001b[0;34m+\u001b[0m \u001b[0malpha\u001b[0m\u001b[0;34m*\u001b[0m\u001b[0;34m(\u001b[0m\u001b[0mnp\u001b[0m\u001b[0;34m.\u001b[0m\u001b[0mdot\u001b[0m\u001b[0;34m(\u001b[0m\u001b[0me_mat2\u001b[0m\u001b[0;34m,\u001b[0m\u001b[0mv_mat2\u001b[0m\u001b[0;34m)\u001b[0m\u001b[0;34m)\u001b[0m\u001b[0;34m\u001b[0m\u001b[0;34m\u001b[0m\u001b[0m\n\u001b[0m\u001b[1;32m     30\u001b[0m     \u001b[0mv_mat2\u001b[0m \u001b[0;34m=\u001b[0m \u001b[0mv_mat2\u001b[0m\u001b[0;34m*\u001b[0m\u001b[0;34m(\u001b[0m\u001b[0;36m1\u001b[0m\u001b[0;34m-\u001b[0m\u001b[0malpha\u001b[0m\u001b[0;34m*\u001b[0m\u001b[0m_lambda\u001b[0m\u001b[0;34m)\u001b[0m \u001b[0;34m+\u001b[0m \u001b[0malpha\u001b[0m\u001b[0;34m*\u001b[0m\u001b[0;34m(\u001b[0m\u001b[0mnp\u001b[0m\u001b[0;34m.\u001b[0m\u001b[0mdot\u001b[0m\u001b[0;34m(\u001b[0m\u001b[0mnp\u001b[0m\u001b[0;34m.\u001b[0m\u001b[0mtranspose\u001b[0m\u001b[0;34m(\u001b[0m\u001b[0me_mat2\u001b[0m\u001b[0;34m)\u001b[0m\u001b[0;34m,\u001b[0m\u001b[0mu_mat2\u001b[0m\u001b[0;34m)\u001b[0m\u001b[0;34m)\u001b[0m\u001b[0;34m\u001b[0m\u001b[0;34m\u001b[0m\u001b[0m\n",
      "\u001b[0;31mKeyboardInterrupt\u001b[0m: "
     ]
    }
   ],
   "source": [
    "#case5: %5=4 is the test set\n",
    "r_m2=np.zeros((rows,cols))\n",
    "for i in range(rows):\n",
    "    for j in range(cols):\n",
    "        if j%5!=4:\n",
    "            r_m2[i][j]=r_m[i][j]\n",
    "for i in range(rows):\n",
    "    s=0\n",
    "    cnt=0\n",
    "    for j in range(cols):\n",
    "        s += r_m2[i][j]\n",
    "        if r_m2[i][j]>0:\n",
    "            cnt=cnt+1\n",
    "    if cnt==0:\n",
    "        print(\"user\"+str(i)+\" hasn't rated any movie\")\n",
    "    else:\n",
    "        s = s/cnt\n",
    "    for j in range(cols):\n",
    "        if r_m2[i][j]==0:\n",
    "            r_m2[i][j]=s\n",
    "u_mat2 = np.random.rand(rows,k)\n",
    "v_mat2 = np.random.rand(cols,k)\n",
    "e_mat2 = np.zeros((rows,cols))\n",
    "for i in range(iterations):\n",
    "    e_mat2 = r_m2 - np.dot(u_mat2,np.transpose(v_mat2))\n",
    "    if i%5==0:\n",
    "        print(\"num of iterations: \"+str(i))\n",
    "        print(np.sum(e_mat2)/(0.8*rows*cols))\n",
    "    u_mat2 = u_mat2*(1-alpha*_lambda) + alpha*(np.dot(e_mat2,v_mat2))\n",
    "    v_mat2 = v_mat2*(1-alpha*_lambda) + alpha*(np.dot(np.transpose(e_mat2),u_mat2))"
   ]
  },
  {
   "cell_type": "code",
   "execution_count": 45,
   "metadata": {},
   "outputs": [
    {
     "name": "stdout",
     "output_type": "stream",
     "text": [
      "1.8427013714066556\n"
     ]
    }
   ],
   "source": [
    "#finding the error in case5\n",
    "import math\n",
    "cnt=0\n",
    "s=0\n",
    "for i in range(rows):\n",
    "    for j in range(cols):\n",
    "        if j%5==4:\n",
    "            x = np.dot(u_mat2[i],np.transpose(v_mat2[j]))\n",
    "            y = x-r_m[i][j]\n",
    "            y = y*y\n",
    "            s=s+y\n",
    "            cnt=cnt+1\n",
    "error5 = math.sqrt(s/cnt)\n",
    "print(error5)"
   ]
  },
  {
   "cell_type": "code",
   "execution_count": 46,
   "metadata": {},
   "outputs": [],
   "source": [
    "avg_error = (error1+error2+error3+error4+error5)/5"
   ]
  },
  {
   "cell_type": "code",
   "execution_count": 47,
   "metadata": {},
   "outputs": [
    {
     "name": "stdout",
     "output_type": "stream",
     "text": [
      "1.8426032931588812\n"
     ]
    }
   ],
   "source": [
    "print(avg_error)"
   ]
  },
  {
   "cell_type": "raw",
   "metadata": {},
   "source": [
    "for lambda = 2:\n",
    "    average cross validation error = 1.8446260003391743\n",
    "for lambda = 5:\n",
    "    average cross validation error = 1.8426032931588812\n",
    "for lambda = 10:\n",
    "    average cross validation error ="
   ]
  }
 ],
 "metadata": {
  "kernelspec": {
   "display_name": "Python 3",
   "language": "python",
   "name": "python3"
  },
  "language_info": {
   "codemirror_mode": {
    "name": "ipython",
    "version": 3
   },
   "file_extension": ".py",
   "mimetype": "text/x-python",
   "name": "python",
   "nbconvert_exporter": "python",
   "pygments_lexer": "ipython3",
   "version": "3.6.8"
  }
 },
 "nbformat": 4,
 "nbformat_minor": 2
}

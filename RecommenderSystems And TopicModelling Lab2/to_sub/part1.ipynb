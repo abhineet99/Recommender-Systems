{
 "cells": [
  {
   "cell_type": "code",
   "execution_count": 0,
   "metadata": {
    "colab": {},
    "colab_type": "code",
    "id": "XlB4OCjEjHSE"
   },
   "outputs": [],
   "source": [
    "import matplotlib.pyplot as plt\n",
    "import csv\n",
    "import pandas as pd\n",
    "import operator\n",
    "from statistics import mean,pstdev\n",
    "import numpy as np\n",
    "import random\n",
    "import copy\n",
    "import math"
   ]
  },
  {
   "cell_type": "code",
   "execution_count": 0,
   "metadata": {
    "colab": {
     "base_uri": "https://localhost:8080/",
     "height": 124
    },
    "colab_type": "code",
    "id": "2jt8QFgcbQEN",
    "outputId": "f3eb4e33-5f3e-4054-8cb9-cdc2161b035a"
   },
   "outputs": [
    {
     "name": "stdout",
     "output_type": "stream",
     "text": [
      "Go to this URL in a browser: https://accounts.google.com/o/oauth2/auth?client_id=947318989803-6bn6qk8qdgf4n4g3pfee6491hc0brc4i.apps.googleusercontent.com&redirect_uri=urn%3Aietf%3Awg%3Aoauth%3A2.0%3Aoob&scope=email%20https%3A%2F%2Fwww.googleapis.com%2Fauth%2Fdocs.test%20https%3A%2F%2Fwww.googleapis.com%2Fauth%2Fdrive%20https%3A%2F%2Fwww.googleapis.com%2Fauth%2Fdrive.photos.readonly%20https%3A%2F%2Fwww.googleapis.com%2Fauth%2Fpeopleapi.readonly&response_type=code\n",
      "\n",
      "Enter your authorization code:\n",
      "··········\n",
      "Mounted at /content/drive\n"
     ]
    }
   ],
   "source": [
    "from google.colab import drive\n",
    "drive.mount('/content/drive')"
   ]
  },
  {
   "cell_type": "code",
   "execution_count": 0,
   "metadata": {
    "colab": {
     "base_uri": "https://localhost:8080/",
     "height": 34
    },
    "colab_type": "code",
    "id": "zdYg1VYhbj2w",
    "outputId": "e4ad1061-9e90-4646-cd96-60a907d70929"
   },
   "outputs": [
    {
     "name": "stdout",
     "output_type": "stream",
     "text": [
      "/content/drive/My Drive/RecommenderSystems And TopicModelling Lab2\n"
     ]
    }
   ],
   "source": [
    "cd drive/My Drive/RecommenderSystems And TopicModelling Lab2"
   ]
  },
  {
   "cell_type": "code",
   "execution_count": 0,
   "metadata": {
    "colab": {},
    "colab_type": "code",
    "id": "4opwjLNFjHSI"
   },
   "outputs": [],
   "source": [
    "path=\"data/ml-latest-small/\"\n",
    "ratings_path=path+\"ratings.csv\"\n",
    "movies_path=path+\"movies.csv\"\n",
    "path1=\"data/\""
   ]
  },
  {
   "cell_type": "code",
   "execution_count": 0,
   "metadata": {
    "colab": {
     "base_uri": "https://localhost:8080/",
     "height": 206
    },
    "colab_type": "code",
    "id": "0VVAmeZ2jHSK",
    "outputId": "4a41f96b-6e94-4d6a-fc7c-1214829ec60c"
   },
   "outputs": [
    {
     "data": {
      "text/html": [
       "<div>\n",
       "<style scoped>\n",
       "    .dataframe tbody tr th:only-of-type {\n",
       "        vertical-align: middle;\n",
       "    }\n",
       "\n",
       "    .dataframe tbody tr th {\n",
       "        vertical-align: top;\n",
       "    }\n",
       "\n",
       "    .dataframe thead th {\n",
       "        text-align: right;\n",
       "    }\n",
       "</style>\n",
       "<table border=\"1\" class=\"dataframe\">\n",
       "  <thead>\n",
       "    <tr style=\"text-align: right;\">\n",
       "      <th></th>\n",
       "      <th>userId</th>\n",
       "      <th>movieId</th>\n",
       "      <th>rating</th>\n",
       "      <th>timestamp</th>\n",
       "    </tr>\n",
       "  </thead>\n",
       "  <tbody>\n",
       "    <tr>\n",
       "      <th>0</th>\n",
       "      <td>1</td>\n",
       "      <td>1</td>\n",
       "      <td>4.0</td>\n",
       "      <td>964982703</td>\n",
       "    </tr>\n",
       "    <tr>\n",
       "      <th>1</th>\n",
       "      <td>1</td>\n",
       "      <td>3</td>\n",
       "      <td>4.0</td>\n",
       "      <td>964981247</td>\n",
       "    </tr>\n",
       "    <tr>\n",
       "      <th>2</th>\n",
       "      <td>1</td>\n",
       "      <td>6</td>\n",
       "      <td>4.0</td>\n",
       "      <td>964982224</td>\n",
       "    </tr>\n",
       "    <tr>\n",
       "      <th>3</th>\n",
       "      <td>1</td>\n",
       "      <td>47</td>\n",
       "      <td>5.0</td>\n",
       "      <td>964983815</td>\n",
       "    </tr>\n",
       "    <tr>\n",
       "      <th>4</th>\n",
       "      <td>1</td>\n",
       "      <td>50</td>\n",
       "      <td>5.0</td>\n",
       "      <td>964982931</td>\n",
       "    </tr>\n",
       "  </tbody>\n",
       "</table>\n",
       "</div>"
      ],
      "text/plain": [
       "   userId  movieId  rating  timestamp\n",
       "0       1        1     4.0  964982703\n",
       "1       1        3     4.0  964981247\n",
       "2       1        6     4.0  964982224\n",
       "3       1       47     5.0  964983815\n",
       "4       1       50     5.0  964982931"
      ]
     },
     "execution_count": 5,
     "metadata": {
      "tags": []
     },
     "output_type": "execute_result"
    }
   ],
   "source": [
    "ratings_df=pd.read_csv(ratings_path)\n",
    "ratings_df.head()"
   ]
  },
  {
   "cell_type": "code",
   "execution_count": 0,
   "metadata": {
    "colab": {
     "base_uri": "https://localhost:8080/",
     "height": 223
    },
    "colab_type": "code",
    "id": "mDgrYJrOjHSN",
    "outputId": "085df189-02bb-43ee-85ed-1d6274f70dd7"
   },
   "outputs": [
    {
     "data": {
      "text/html": [
       "<div>\n",
       "<style scoped>\n",
       "    .dataframe tbody tr th:only-of-type {\n",
       "        vertical-align: middle;\n",
       "    }\n",
       "\n",
       "    .dataframe tbody tr th {\n",
       "        vertical-align: top;\n",
       "    }\n",
       "\n",
       "    .dataframe thead th {\n",
       "        text-align: right;\n",
       "    }\n",
       "</style>\n",
       "<table border=\"1\" class=\"dataframe\">\n",
       "  <thead>\n",
       "    <tr style=\"text-align: right;\">\n",
       "      <th></th>\n",
       "      <th>movieId</th>\n",
       "      <th>title</th>\n",
       "      <th>genres</th>\n",
       "    </tr>\n",
       "  </thead>\n",
       "  <tbody>\n",
       "    <tr>\n",
       "      <th>0</th>\n",
       "      <td>1</td>\n",
       "      <td>Toy Story (1995)</td>\n",
       "      <td>Adventure|Animation|Children|Comedy|Fantasy</td>\n",
       "    </tr>\n",
       "    <tr>\n",
       "      <th>1</th>\n",
       "      <td>2</td>\n",
       "      <td>Jumanji (1995)</td>\n",
       "      <td>Adventure|Children|Fantasy</td>\n",
       "    </tr>\n",
       "    <tr>\n",
       "      <th>2</th>\n",
       "      <td>3</td>\n",
       "      <td>Grumpier Old Men (1995)</td>\n",
       "      <td>Comedy|Romance</td>\n",
       "    </tr>\n",
       "    <tr>\n",
       "      <th>3</th>\n",
       "      <td>4</td>\n",
       "      <td>Waiting to Exhale (1995)</td>\n",
       "      <td>Comedy|Drama|Romance</td>\n",
       "    </tr>\n",
       "    <tr>\n",
       "      <th>4</th>\n",
       "      <td>5</td>\n",
       "      <td>Father of the Bride Part II (1995)</td>\n",
       "      <td>Comedy</td>\n",
       "    </tr>\n",
       "  </tbody>\n",
       "</table>\n",
       "</div>"
      ],
      "text/plain": [
       "   movieId  ...                                       genres\n",
       "0        1  ...  Adventure|Animation|Children|Comedy|Fantasy\n",
       "1        2  ...                   Adventure|Children|Fantasy\n",
       "2        3  ...                               Comedy|Romance\n",
       "3        4  ...                         Comedy|Drama|Romance\n",
       "4        5  ...                                       Comedy\n",
       "\n",
       "[5 rows x 3 columns]"
      ]
     },
     "execution_count": 6,
     "metadata": {
      "tags": []
     },
     "output_type": "execute_result"
    }
   ],
   "source": [
    "movie_indices=[]\n",
    "inverse_movie_map={}\n",
    "movies_df=pd.read_csv(movies_path)\n",
    "movies_df.head()"
   ]
  },
  {
   "cell_type": "code",
   "execution_count": 0,
   "metadata": {
    "colab": {
     "base_uri": "https://localhost:8080/",
     "height": 34
    },
    "colab_type": "code",
    "id": "BG7nU_AsO42h",
    "outputId": "df8132ac-2c1d-45c2-9ee8-93b1fee1b549"
   },
   "outputs": [
    {
     "data": {
      "text/plain": [
       "array([nan, nan, nan, ..., nan, nan, nan])"
      ]
     },
     "execution_count": 16,
     "metadata": {
      "tags": []
     },
     "output_type": "execute_result"
    }
   ],
   "source": [
    "ratings_matrix_train[1]"
   ]
  },
  {
   "cell_type": "code",
   "execution_count": 0,
   "metadata": {
    "colab": {},
    "colab_type": "code",
    "id": "2N8gVfDkjHSQ"
   },
   "outputs": [],
   "source": [
    "ratings_matrix_train=np.load(path1+'ratings_matrix_train.npy')\n",
    "train_nos=np.load(path1+'train_nos.npy')\n",
    "test_nos=np.load(path1+'test_nos.npy')"
   ]
  },
  {
   "cell_type": "code",
   "execution_count": 0,
   "metadata": {
    "colab": {
     "base_uri": "https://localhost:8080/",
     "height": 34
    },
    "colab_type": "code",
    "id": "6unHkJDisHEV",
    "outputId": "424a578e-35c4-447e-f49b-72702bc809d2"
   },
   "outputs": [
    {
     "data": {
      "text/plain": [
       "nan"
      ]
     },
     "execution_count": 9,
     "metadata": {
      "tags": []
     },
     "output_type": "execute_result"
    }
   ],
   "source": [
    "ratings_matrix_train[0][3]"
   ]
  },
  {
   "cell_type": "code",
   "execution_count": 0,
   "metadata": {
    "colab": {},
    "colab_type": "code",
    "id": "Q0N9gyJAjHSS"
   },
   "outputs": [],
   "source": [
    "correct_predictions=[]\n",
    "for i in test_nos:\n",
    "    correct_predictions.append(ratings_df['rating'][i])"
   ]
  },
  {
   "cell_type": "code",
   "execution_count": 0,
   "metadata": {
    "colab": {},
    "colab_type": "code",
    "id": "cY88Sk2ljHSV"
   },
   "outputs": [],
   "source": [
    "def mean_with_nan(list_a):\n",
    "    count=0\n",
    "    sum=0.0\n",
    "    for i in list_a:\n",
    "        if not np.isnan(i):\n",
    "            #print(i)\n",
    "            count+=1\n",
    "            sum+=i\n",
    "    #print(sum) \n",
    "    if(count==0):\n",
    "        return 0\n",
    "    return sum/count     "
   ]
  },
  {
   "cell_type": "code",
   "execution_count": 0,
   "metadata": {
    "colab": {},
    "colab_type": "code",
    "id": "QwNKa3GsjHSY"
   },
   "outputs": [],
   "source": [
    "for i in range(len(movies_df)):\n",
    "    movie_indices.append(movies_df['movieId'][i])\n",
    "    inverse_movie_map[movies_df['movieId'][i]]=i\n",
    "number_of_items=len(movie_indices)"
   ]
  },
  {
   "cell_type": "code",
   "execution_count": 0,
   "metadata": {
    "colab": {},
    "colab_type": "code",
    "id": "dtvCVEmdjHSb"
   },
   "outputs": [],
   "source": [
    "number_of_users={}\n",
    "for i in range(len(ratings_df)):\n",
    "    number_of_users[ratings_df['userId'][i]]=1\n",
    "number_of_users=len(number_of_users)"
   ]
  },
  {
   "cell_type": "code",
   "execution_count": 0,
   "metadata": {
    "colab": {},
    "colab_type": "code",
    "id": "Vz_UzXUsX3rX"
   },
   "outputs": [],
   "source": [
    "obs_entries =[]\n",
    "for i in range(number_of_users):\n",
    "    for j in range(number_of_items):\n",
    "        if np.isnan(ratings_matrix_train[i][j])==False:\n",
    "            obs_entries.append((i,j))"
   ]
  },
  {
   "cell_type": "code",
   "execution_count": 0,
   "metadata": {
    "colab": {
     "base_uri": "https://localhost:8080/",
     "height": 34
    },
    "colab_type": "code",
    "id": "scIRRYZZX5Hs",
    "outputId": "3d3015ac-0508-4fb0-d740-670400518c46"
   },
   "outputs": [
    {
     "data": {
      "text/plain": [
       "70585"
      ]
     },
     "execution_count": 41,
     "metadata": {
      "tags": []
     },
     "output_type": "execute_result"
    }
   ],
   "source": [
    "len(obs_entries)\n"
   ]
  },
  {
   "cell_type": "code",
   "execution_count": 0,
   "metadata": {
    "colab": {
     "base_uri": "https://localhost:8080/",
     "height": 34
    },
    "colab_type": "code",
    "id": "O0YUvfiUZBSo",
    "outputId": "c1cc6c56-a496-4251-df01-a9ea998b9b1f"
   },
   "outputs": [
    {
     "data": {
      "text/plain": [
       "(46, 7976)"
      ]
     },
     "execution_count": 51,
     "metadata": {
      "tags": []
     },
     "output_type": "execute_result"
    }
   ],
   "source": [
    "obs_entries[0]"
   ]
  },
  {
   "cell_type": "code",
   "execution_count": 0,
   "metadata": {
    "colab": {},
    "colab_type": "code",
    "id": "lOWVmeyLjHSd"
   },
   "outputs": [],
   "source": [
    "ratings_matrix = np.zeros((number_of_users,number_of_items))\n",
    "ratings_matrix = copy.deepcopy(ratings_matrix_train)\n",
    "cnt=0\n",
    "for i in range(number_of_users):\n",
    "    mean = mean_with_nan(ratings_matrix_train[i])\n",
    "    for j in range(number_of_items):\n",
    "        if np.isnan(ratings_matrix[i][j]):\n",
    "            ratings_matrix[i][j]=mean"
   ]
  },
  {
   "cell_type": "code",
   "execution_count": 0,
   "metadata": {
    "colab": {},
    "colab_type": "code",
    "id": "NcRPZNdGjHSg"
   },
   "outputs": [],
   "source": [
    "#obtaining eigen values with the help of svd\n",
    "u,sigma,v = np.linalg.svd(ratings_matrix,full_matrices=True)"
   ]
  },
  {
   "cell_type": "code",
   "execution_count": 0,
   "metadata": {
    "colab": {},
    "colab_type": "code",
    "id": "2fA-vXOdjHSi",
    "outputId": "aebfb10c-06cd-46de-fd59-d9fd4e065735"
   },
   "outputs": [
    {
     "data": {
      "text/plain": [
       "[<matplotlib.lines.Line2D at 0x7f0e532589b0>]"
      ]
     },
     "execution_count": 25,
     "metadata": {
      "tags": []
     },
     "output_type": "execute_result"
    },
    {
     "data": {
      "image/png": "[encoded data removed]",
      "text/plain": [
       "<Figure size 432x288 with 1 Axes>"
      ]
     },
     "metadata": {
      "needs_background": "light",
      "tags": []
     },
     "output_type": "display_data"
    }
   ],
   "source": [
    "sigma.sort()\n",
    "plt.plot(sigma)"
   ]
  },
  {
   "cell_type": "code",
   "execution_count": 0,
   "metadata": {
    "colab": {},
    "colab_type": "code",
    "id": "6t0O_7J5jHSl",
    "outputId": "91dc0f5a-e442-4209-c8a6-a5536f02e5b7"
   },
   "outputs": [
    {
     "name": "stdout",
     "output_type": "stream",
     "text": [
      "22.47786993225202\n",
      "346\n"
     ]
    }
   ],
   "source": [
    "print(np.mean(sigma))\n",
    "x = np.mean(sigma)\n",
    "cnt=0\n",
    "for i in range(len(sigma)):\n",
    "    if sigma[i]>5:\n",
    "        cnt+=1\n",
    "print(cnt)"
   ]
  },
  {
   "cell_type": "code",
   "execution_count": 0,
   "metadata": {
    "colab": {},
    "colab_type": "code",
    "id": "XTPv56fdjHSn"
   },
   "outputs": [],
   "source": [
    "k=346"
   ]
  },
  {
   "cell_type": "code",
   "execution_count": 0,
   "metadata": {
    "colab": {},
    "colab_type": "code",
    "id": "rQP8iw7HjHSq"
   },
   "outputs": [],
   "source": [
    "def rmse_error(a,b):# a and b are lists\n",
    "    error_sum=0.0\n",
    "    for i in range(len(a)):\n",
    "        error_sum+=(a[i]-b[i])*(a[i]-b[i])\n",
    "    error_sum/=len(a)\n",
    "    return np.sqrt(error_sum)  "
   ]
  },
  {
   "cell_type": "code",
   "execution_count": 0,
   "metadata": {
    "colab": {},
    "colab_type": "code",
    "id": "ncG47bacjHSs"
   },
   "outputs": [],
   "source": [
    "def GradientDescent(R,k,lr,epochs):\n",
    "    number_of_items=len(R[0])\n",
    "    number_of_users=len(R[:,0])\n",
    "    U=np.random.rand(number_of_users,k)\n",
    "    V=np.random.rand(number_of_items,k)\n",
    "    error_mat=np.zeros(shape=(number_of_users,number_of_items))\n",
    "    num_iters=0\n",
    "    while(num_iters<epochs):\n",
    "        num_iters+=1\n",
    "        \n",
    "        predicted_matrix=np.dot(U,np.transpose(V))\n",
    "\n",
    "\n",
    "        predicted_matrix=np.dot(U,np.transpose(V))\n",
    "        error_mat=R-predicted_matrix\n",
    "        error=0\n",
    "        for tups in obs_entries:\n",
    "            x=tups[0]\n",
    "            y=tups[1]\n",
    "            error+=(R[x][y]-predicted_matrix[x][y])*(R[x][y]-predicted_matrix[x][y])\n",
    "        error=sqrt(error) \n",
    "        if(num_iters%100==0):\n",
    "            error=0\n",
    "            for tups in obs_entries:\n",
    "                x=tups[0]\n",
    "                y=tups[1]\n",
    "                error+=(R[x][y]-predicted_matrix[x][y])*(R[x][y]-predicted_matrix[x][y])\n",
    "            error=sqrt(error)            \n",
    "            result_gd_batch=[]\n",
    "            for i in test_nos:\n",
    "\n",
    "\n",
    "                movie_no=inverse_movie_map[ratings_df['movieId'][i]]\n",
    "                user_no=ratings_df['userId'][i]-1\n",
    "                result_gd_batch.append(predicted_matrix[user_no][movie_no])\n",
    "            print(\"Number of iterations: \"+str(num_iters)+\" Frob Error: \"+str(error)+\" RMS Error: \"+str(rmse_error(correct_predictions,result_gd_batch)))\n",
    "        #      print(\"Error is \" +str(error) )\n",
    "        U_add=np.zeros(shape=(number_of_users,k))\n",
    "        V_add=np.zeros(shape=(number_of_items,k))\n",
    "        for tups in obs_entries:\n",
    "            x=tups[0]\n",
    "            y=tups[1]\n",
    "            for q_ind in range(k):\n",
    "                U_add[x][q_ind]+=error_mat[x][y]*V[y][q_ind]\n",
    "                V_add[y][q_ind]+=error_mat[x][y]*U[x][q_ind]\n",
    "                 \n",
    "        U=U+lr*(U_add)\n",
    "        V=V+lr*(V_add)\n",
    "#   predicted_matrix=np.dot(U,np.transpose(V))\n",
    "#   return predicted_matrix\n",
    "    return U,V\n",
    "  "
   ]
  },
  {
   "cell_type": "code",
   "execution_count": 0,
   "metadata": {
    "colab": {},
    "colab_type": "code",
    "id": "ByES4qR7jHSv",
    "scrolled": true
   },
   "outputs": [],
   "source": [
    "u_bgd,v_bgd = batch_gradient_descent(ratings_matrix,346,10000000,5e-6)"
   ]
  },
  {
   "cell_type": "code",
   "execution_count": 0,
   "metadata": {
    "colab": {},
    "colab_type": "code",
    "id": "P5_fXT77jHS0"
   },
   "outputs": [],
   "source": [
    "def stochastic_gradient_descent(r_m,rows,cols,iterations,alpha,obs_entries):\n",
    "    u = np.random.rand(rows,k)\n",
    "    v = np.random.rand(cols,k)\n",
    "    e = np.zeros((rows,cols))\n",
    "    print(len(obs_entries))\n",
    "    random.shuffle(obs_entries)\n",
    "\n",
    "    for i1 in range(iterations):\n",
    "      for tups in obs_entries:\n",
    "        i=tups[0]\n",
    "        j=tups[1]\n",
    "\n",
    "        e[i][j]=r_m[i][j]-np.dot(u[i],np.transpose(v[j]))\n",
    "        for q in range(k):\n",
    "            u_temp[i][q]=u[i][q]+alpha*e[i][j]*v[j][q]\n",
    "        for q in range(k):\n",
    "            v_temp[j][q]=v[j][q]+alpha*e[i][j]*u[i][q]\n",
    "        for q in range(k):\n",
    "            u[i][q]=u_temp[i][q]\n",
    "            v[j][q]=v_temp[j][q]\n",
    "      if i1%5==0:\n",
    "          print(\"i1: \"+str(i1)+' '+str(np.linalg.norm(e,ord='fro')))\n",
    "     "
   ]
  },
  {
   "cell_type": "code",
   "execution_count": 57,
   "metadata": {
    "colab": {
     "base_uri": "https://localhost:8080/",
     "height": 428
    },
    "colab_type": "code",
    "id": "3T78wNUfXIh5",
    "outputId": "5e8cceaa-7adc-433a-a72f-f86a3a528119"
   },
   "outputs": [
    {
     "name": "stdout",
     "output_type": "stream",
     "text": [
      "70585\n",
      "i1: 0 21464.034555460465\n",
      "i1: 5 17188.27141881975\n",
      "i1: 10 14769.26733242688\n",
      "i1: 15 13127.120277858476\n",
      "i1: 20 11908.290482108654\n",
      "i1: 25 10954.35139246498\n",
      "i1: 30 10180.110859669698\n"
     ]
    },
    {
     "ename": "KeyboardInterrupt",
     "evalue": "ignored",
     "output_type": "error",
     "traceback": [
      "\u001b[0;31m---------------------------------------------------------------------------\u001b[0m",
      "\u001b[0;31mKeyboardInterrupt\u001b[0m                         Traceback (most recent call last)",
      "\u001b[0;32m<ipython-input-57-5a32e26b036c>\u001b[0m in \u001b[0;36m<module>\u001b[0;34m()\u001b[0m\n\u001b[0;32m----> 1\u001b[0;31m \u001b[0mstochastic_gradient_descent\u001b[0m\u001b[0;34m(\u001b[0m\u001b[0mratings_matrix_train\u001b[0m\u001b[0;34m,\u001b[0m\u001b[0mnumber_of_users\u001b[0m\u001b[0;34m,\u001b[0m\u001b[0mnumber_of_items\u001b[0m\u001b[0;34m,\u001b[0m\u001b[0;36m1000\u001b[0m\u001b[0;34m,\u001b[0m\u001b[0;36m1.5e-6\u001b[0m\u001b[0;34m,\u001b[0m\u001b[0mobs_entries\u001b[0m\u001b[0;34m)\u001b[0m\u001b[0;34m\u001b[0m\u001b[0;34m\u001b[0m\u001b[0m\n\u001b[0m",
      "\u001b[0;32m<ipython-input-56-490b2c9bdf76>\u001b[0m in \u001b[0;36mstochastic_gradient_descent\u001b[0;34m(r_m, rows, cols, iterations, alpha, obs_entries)\u001b[0m\n\u001b[1;32m     13\u001b[0m         \u001b[0me\u001b[0m\u001b[0;34m[\u001b[0m\u001b[0mi\u001b[0m\u001b[0;34m]\u001b[0m\u001b[0;34m[\u001b[0m\u001b[0mj\u001b[0m\u001b[0;34m]\u001b[0m\u001b[0;34m=\u001b[0m\u001b[0mr_m\u001b[0m\u001b[0;34m[\u001b[0m\u001b[0mi\u001b[0m\u001b[0;34m]\u001b[0m\u001b[0;34m[\u001b[0m\u001b[0mj\u001b[0m\u001b[0;34m]\u001b[0m\u001b[0;34m-\u001b[0m\u001b[0mnp\u001b[0m\u001b[0;34m.\u001b[0m\u001b[0mdot\u001b[0m\u001b[0;34m(\u001b[0m\u001b[0mu\u001b[0m\u001b[0;34m[\u001b[0m\u001b[0mi\u001b[0m\u001b[0;34m]\u001b[0m\u001b[0;34m,\u001b[0m\u001b[0mnp\u001b[0m\u001b[0;34m.\u001b[0m\u001b[0mtranspose\u001b[0m\u001b[0;34m(\u001b[0m\u001b[0mv\u001b[0m\u001b[0;34m[\u001b[0m\u001b[0mj\u001b[0m\u001b[0;34m]\u001b[0m\u001b[0;34m)\u001b[0m\u001b[0;34m)\u001b[0m\u001b[0;34m\u001b[0m\u001b[0;34m\u001b[0m\u001b[0m\n\u001b[1;32m     14\u001b[0m         \u001b[0;32mfor\u001b[0m \u001b[0mq\u001b[0m \u001b[0;32min\u001b[0m \u001b[0mrange\u001b[0m\u001b[0;34m(\u001b[0m\u001b[0mk\u001b[0m\u001b[0;34m)\u001b[0m\u001b[0;34m:\u001b[0m\u001b[0;34m\u001b[0m\u001b[0;34m\u001b[0m\u001b[0m\n\u001b[0;32m---> 15\u001b[0;31m             \u001b[0mu_temp\u001b[0m\u001b[0;34m[\u001b[0m\u001b[0mi\u001b[0m\u001b[0;34m]\u001b[0m\u001b[0;34m[\u001b[0m\u001b[0mq\u001b[0m\u001b[0;34m]\u001b[0m\u001b[0;34m=\u001b[0m\u001b[0mu\u001b[0m\u001b[0;34m[\u001b[0m\u001b[0mi\u001b[0m\u001b[0;34m]\u001b[0m\u001b[0;34m[\u001b[0m\u001b[0mq\u001b[0m\u001b[0;34m]\u001b[0m\u001b[0;34m+\u001b[0m\u001b[0malpha\u001b[0m\u001b[0;34m*\u001b[0m\u001b[0me\u001b[0m\u001b[0;34m[\u001b[0m\u001b[0mi\u001b[0m\u001b[0;34m]\u001b[0m\u001b[0;34m[\u001b[0m\u001b[0mj\u001b[0m\u001b[0;34m]\u001b[0m\u001b[0;34m*\u001b[0m\u001b[0mv\u001b[0m\u001b[0;34m[\u001b[0m\u001b[0mj\u001b[0m\u001b[0;34m]\u001b[0m\u001b[0;34m[\u001b[0m\u001b[0mq\u001b[0m\u001b[0;34m]\u001b[0m\u001b[0;34m\u001b[0m\u001b[0;34m\u001b[0m\u001b[0m\n\u001b[0m\u001b[1;32m     16\u001b[0m         \u001b[0;32mfor\u001b[0m \u001b[0mq\u001b[0m \u001b[0;32min\u001b[0m \u001b[0mrange\u001b[0m\u001b[0;34m(\u001b[0m\u001b[0mk\u001b[0m\u001b[0;34m)\u001b[0m\u001b[0;34m:\u001b[0m\u001b[0;34m\u001b[0m\u001b[0;34m\u001b[0m\u001b[0m\n\u001b[1;32m     17\u001b[0m             \u001b[0mv_temp\u001b[0m\u001b[0;34m[\u001b[0m\u001b[0mj\u001b[0m\u001b[0;34m]\u001b[0m\u001b[0;34m[\u001b[0m\u001b[0mq\u001b[0m\u001b[0;34m]\u001b[0m\u001b[0;34m=\u001b[0m\u001b[0mv\u001b[0m\u001b[0;34m[\u001b[0m\u001b[0mj\u001b[0m\u001b[0;34m]\u001b[0m\u001b[0;34m[\u001b[0m\u001b[0mq\u001b[0m\u001b[0;34m]\u001b[0m\u001b[0;34m+\u001b[0m\u001b[0malpha\u001b[0m\u001b[0;34m*\u001b[0m\u001b[0me\u001b[0m\u001b[0;34m[\u001b[0m\u001b[0mi\u001b[0m\u001b[0;34m]\u001b[0m\u001b[0;34m[\u001b[0m\u001b[0mj\u001b[0m\u001b[0;34m]\u001b[0m\u001b[0;34m*\u001b[0m\u001b[0mu\u001b[0m\u001b[0;34m[\u001b[0m\u001b[0mi\u001b[0m\u001b[0;34m]\u001b[0m\u001b[0;34m[\u001b[0m\u001b[0mq\u001b[0m\u001b[0;34m]\u001b[0m\u001b[0;34m\u001b[0m\u001b[0;34m\u001b[0m\u001b[0m\n",
      "\u001b[0;31mKeyboardInterrupt\u001b[0m: "
     ]
    }
   ],
   "source": [
    "stochastic_gradient_descent(ratings_matrix_train,number_of_users,number_of_items,1000,1.5e-6,obs_entries)"
   ]
  },
  {
   "cell_type": "code",
   "execution_count": 0,
   "metadata": {
    "colab": {
     "base_uri": "https://localhost:8080/",
     "height": 34
    },
    "colab_type": "code",
    "id": "82C36RH9jHS2",
    "outputId": "fe4987bc-a065-40b2-c07a-34f0ce74cf56"
   },
   "outputs": [
    {
     "name": "stdout",
     "output_type": "stream",
     "text": [
      "0\n"
     ]
    }
   ],
   "source": [
    "rows=number_of_users\n",
    "cols=number_of_items\n",
    "print(test_nos[0])"
   ]
  },
  {
   "cell_type": "code",
   "execution_count": 0,
   "metadata": {
    "colab": {},
    "colab_type": "code",
    "id": "dPVCZ-QCjHS9"
   },
   "outputs": [],
   "source": [
    "#gd with regularization\n",
    "# def gd_regularized(r_m,rows,cols,iterations,alpha,reg_param):\n",
    "#     u = np.random.rand(rows,k)\n",
    "#     v = np.random.rand(cols,k)\n",
    "#     e = np.zeros((rows,cols))\n",
    "#     for i in range(iterations):\n",
    "#         e_mat4 = r_m - np.dot(u_mat4,np.transpose(v_mat4))\n",
    "#         if i%5==0:\n",
    "#             print('i: '+str(i)+' '+np.linalg.norm(e,ord='fro'))\n",
    "#         u = u*(1-alpha*reg_param) + alpha*(np.dot(e,v))\n",
    "#         v = v*(1-alpha*reg_param) + alpha*(np.dot(np.transpose(e),u))"
   ]
  },
  {
   "cell_type": "code",
   "execution_count": 0,
   "metadata": {
    "colab": {},
    "colab_type": "code",
    "id": "y9JctUaxjHTB"
   },
   "outputs": [],
   "source": [
    "#gradient descent with user and item biases and regularization\n",
    "def gd_reg_bias(r_m,rows,cols,iterations,alpha,reg_param):\n",
    "    u = np.random.rand(rows,k+2)\n",
    "    v = np.random.rand(cols,k+2)\n",
    "    for i in range(rows):\n",
    "        u[i][k]=1\n",
    "    for i in range(cols):\n",
    "        v[i][k]=1\n",
    "    e = np.zeros((rows,cols))\n",
    "    for _iter in range(1000):\n",
    "        e = r_m - np.dot(u,np.transpose(v))\n",
    "        if _iter%10==0:\n",
    "            print(\"num of iterations: \"+str(_iter))\n",
    "            print(np.linalg.norm(e,ord='fro'))\n",
    "        u = u*(1-alpha*_lambda) + alpha*(np.dot(e,v))\n",
    "        for i in range(rows):\n",
    "            u[i][k]=1\n",
    "        v = v*(1-alpha*_lambda) + alpha*(np.dot(np.transpose(e),u))\n",
    "        for i in range(cols):\n",
    "            v[i][k]=1"
   ]
  },
  {
   "cell_type": "code",
   "execution_count": 0,
   "metadata": {
    "colab": {},
    "colab_type": "code",
    "id": "I5fnHN72jHTE"
   },
   "outputs": [],
   "source": [
    "random.shuffle(train_nos)"
   ]
  },
  {
   "cell_type": "code",
   "execution_count": 0,
   "metadata": {
    "colab": {},
    "colab_type": "code",
    "id": "6AHEMb9LjHTH"
   },
   "outputs": [],
   "source": [
    "length = len(train_nos)\n",
    "p1 = copy.deepcopy(ratings_matrix)\n",
    "p2 = copy.deepcopy(ratings_matrix)\n",
    "p3 = copy.deepcopy(ratings_matrix)\n",
    "p4 = copy.deepcopy(ratings_matrix)\n",
    "p5 = copy.deepcopy(ratings_matrix)\n",
    "for i in  range(0,length//5):#first 1/5 is the test set\n",
    "    p1[ratings_df['userId'][i]][inverse_movie_map[ratings_df['movieId'][i]]]=0\n",
    "for i in range(length//5,(2*length)//5):#second 1/5 is the test set\n",
    "    p2[ratings_df['userId'][i]][inverse_movie_map[ratings_df['movieId'][i]]]=0\n",
    "for i in range((2*length)//5,(3*length)//5):#third 1/5 is the test set\n",
    "    p3[ratings_df['userId'][i]][inverse_movie_map[ratings_df['movieId'][i]]]=0\n",
    "for i in range((3*length)//5,(4*length)//5):#fourth 1/5 is the test set\n",
    "    p4[ratings_df['userId'][i]][inverse_movie_map[ratings_df['movieId'][i]]]=0\n",
    "for i in range((4*length)//5,(5*length)//5):#fifth 1/5 is the test set\n",
    "    p5[ratings_df['userId'][i]][inverse_movie_map[ratings_df['movieId'][i]]]=0"
   ]
  },
  {
   "cell_type": "code",
   "execution_count": 0,
   "metadata": {
    "colab": {},
    "colab_type": "code",
    "id": "COMcKaFKjHTK"
   },
   "outputs": [],
   "source": [
    "reg_param = 35"
   ]
  },
  {
   "cell_type": "code",
   "execution_count": 0,
   "metadata": {
    "colab": {},
    "colab_type": "code",
    "id": "C3hbaozUjHTN"
   },
   "outputs": [],
   "source": [
    "alpha = 1e-7"
   ]
  },
  {
   "cell_type": "code",
   "execution_count": 0,
   "metadata": {
    "colab": {},
    "colab_type": "code",
    "id": "fFGckhzEjHTQ",
    "outputId": "2f10d2bc-d151-4109-9d10-6111d47b6f17",
    "scrolled": false
   },
   "outputs": [
    {
     "name": "stdout",
     "output_type": "stream",
     "text": [
      "num of iterations: 0\n",
      "103.4972807869632\n",
      "num of iterations: 10\n",
      "42.840490729594556\n",
      "num of iterations: 20\n",
      "18.521554161816145\n",
      "num of iterations: 30\n",
      "8.077696185014593\n",
      "num of iterations: 40\n",
      "3.5843530982360554\n",
      "num of iterations: 50\n",
      "2.0166843872861504\n",
      "num of iterations: 60\n",
      "1.6432017241616554\n",
      "num of iterations: 70\n",
      "1.5673964166673275\n",
      "num of iterations: 80\n",
      "1.5517317148632097\n",
      "num of iterations: 90\n",
      "1.547613347396802\n"
     ]
    }
   ],
   "source": [
    "#case1:\n",
    "u2 = np.random.rand(number_of_users,k)\n",
    "v2 = np.random.rand(number_of_items,k)\n",
    "e2 = np.zeros((number_of_users,number_of_items))\n",
    "for i in range(100):\n",
    "    e2 = p1 - np.dot(u2,np.transpose(v2))\n",
    "    if i%10==0:\n",
    "        print(\"num of iterations: \"+str(i))\n",
    "        print(np.sum(np.absolute(e2))/(0.8*number_of_users*number_of_items))\n",
    "    u2 = u2*(1-alpha*reg_param) + alpha*(np.dot(e2,v2))\n",
    "    v2 = v2*(1-alpha*reg_param) + alpha*(np.dot(np.transpose(e2),u2))"
   ]
  },
  {
   "cell_type": "code",
   "execution_count": 0,
   "metadata": {
    "colab": {},
    "colab_type": "code",
    "id": "RXFHS_nvjHTT",
    "outputId": "c3687715-3d3d-45c5-aad6-96c9ce4169e4"
   },
   "outputs": [
    {
     "name": "stdout",
     "output_type": "stream",
     "text": [
      "1.7952242662097118\n"
     ]
    }
   ],
   "source": [
    "#case1 error:\n",
    "err1=0\n",
    "n=0\n",
    "for i in range(0,length//5):\n",
    "    x = ratings_df['userId'][i]\n",
    "    y = inverse_movie_map[ratings_df['movieId'][i]]\n",
    "    actual = ratings_matrix_train[x][y]\n",
    "    if np.isnan(actual)==False:\n",
    "        pred = np.dot(u2[x],np.transpose(v2[y]))\n",
    "        diff = pred-actual\n",
    "        diff = diff*diff\n",
    "        err1 += diff\n",
    "        n += 1\n",
    "if n==0:\n",
    "    err1=0\n",
    "else:\n",
    "    err1=math.sqrt(err1/n)\n",
    "print(err1)"
   ]
  },
  {
   "cell_type": "code",
   "execution_count": 0,
   "metadata": {
    "colab": {},
    "colab_type": "code",
    "id": "v_K80CxKjHTV",
    "outputId": "1edd4fb0-486a-4f24-ee62-ff259c47946d"
   },
   "outputs": [
    {
     "name": "stdout",
     "output_type": "stream",
     "text": [
      "num of iterations: 0\n",
      "103.43410967111451\n",
      "num of iterations: 10\n",
      "42.84307748883951\n",
      "num of iterations: 20\n",
      "18.534845121341046\n",
      "num of iterations: 30\n",
      "8.088867484641266\n",
      "num of iterations: 40\n",
      "3.5905658417591058\n",
      "num of iterations: 50\n",
      "2.0171694341152984\n",
      "num of iterations: 60\n",
      "1.6411797584048817\n",
      "num of iterations: 70\n",
      "1.5645718249411342\n",
      "num of iterations: 80\n",
      "1.5486548152591912\n",
      "num of iterations: 90\n",
      "1.54445421215528\n"
     ]
    }
   ],
   "source": [
    "#case2:\n",
    "u2 = np.random.rand(number_of_users,k)\n",
    "v2 = np.random.rand(number_of_items,k)\n",
    "e2 = np.zeros((number_of_users,number_of_items))\n",
    "for i in range(100):\n",
    "    e2 = p2 - np.dot(u2,np.transpose(v2))\n",
    "    if i%10==0:\n",
    "        print(\"num of iterations: \"+str(i))\n",
    "        print(np.sum(np.absolute(e2))/(0.8*number_of_users*number_of_items))\n",
    "    u2 = u2*(1-alpha*reg_param) + alpha*(np.dot(e2,v2))\n",
    "    v2 = v2*(1-alpha*reg_param) + alpha*(np.dot(np.transpose(e2),u2))"
   ]
  },
  {
   "cell_type": "code",
   "execution_count": 0,
   "metadata": {
    "colab": {},
    "colab_type": "code",
    "id": "27mKmWcZjHTX",
    "outputId": "9b226cbe-95f3-4e05-e5f9-8869b36d87fb"
   },
   "outputs": [
    {
     "name": "stdout",
     "output_type": "stream",
     "text": [
      "0.04831657990421836\n"
     ]
    }
   ],
   "source": [
    "#case2 error:\n",
    "err2=0\n",
    "n=0\n",
    "for i in range(length//5,(2*length)//5):\n",
    "    x = ratings_df['userId'][i]\n",
    "    y = inverse_movie_map[ratings_df['movieId'][i]]\n",
    "    actual = ratings_matrix_train[x][y]\n",
    "    if np.isnan(actual)==False:\n",
    "        pred = np.dot(u2[x],np.transpose(v2[y]))\n",
    "        diff = pred-actual\n",
    "        diff = diff*diff\n",
    "        err2 += diff\n",
    "        n += 1\n",
    "if n==0:\n",
    "    err2=0\n",
    "else:\n",
    "    err2=math.sqrt(err1/n)\n",
    "print(err2)"
   ]
  },
  {
   "cell_type": "code",
   "execution_count": 0,
   "metadata": {
    "colab": {},
    "colab_type": "code",
    "id": "GgZ1aSJzjHTZ",
    "outputId": "c3919861-b2a1-4f76-f171-600814d8eccb"
   },
   "outputs": [
    {
     "name": "stdout",
     "output_type": "stream",
     "text": [
      "num of iterations: 0\n",
      "103.57277336913533\n",
      "num of iterations: 10\n",
      "42.89351628265257\n",
      "num of iterations: 20\n",
      "18.55554071431159\n",
      "num of iterations: 30\n",
      "8.097559343718986\n",
      "num of iterations: 40\n",
      "3.59412835435279\n",
      "num of iterations: 50\n",
      "2.0178905290640325\n",
      "num of iterations: 60\n",
      "1.6411181266997905\n",
      "num of iterations: 70\n",
      "1.5644231537464208\n",
      "num of iterations: 80\n",
      "1.5485414085162585\n",
      "num of iterations: 90\n",
      "1.5443731490131611\n",
      "0.03984080019331883\n"
     ]
    }
   ],
   "source": [
    "#case3:\n",
    "u2 = np.random.rand(number_of_users,k)\n",
    "v2 = np.random.rand(number_of_items,k)\n",
    "e2 = np.zeros((number_of_users,number_of_items))\n",
    "for i in range(100):\n",
    "    e2 = p3 - np.dot(u2,np.transpose(v2))\n",
    "    if i%10==0:\n",
    "        print(\"num of iterations: \"+str(i))\n",
    "        print(np.sum(np.absolute(e2))/(0.8*number_of_users*number_of_items))\n",
    "    u2 = u2*(1-alpha*reg_param) + alpha*(np.dot(e2,v2))\n",
    "    v2 = v2*(1-alpha*reg_param) + alpha*(np.dot(np.transpose(e2),u2))\n",
    "#case2 error:\n",
    "err3=0\n",
    "n=0\n",
    "for i in range((2*length)//5,(3*length)//5):\n",
    "    x = ratings_df['userId'][i]\n",
    "    y = inverse_movie_map[ratings_df['movieId'][i]]\n",
    "    actual = ratings_matrix_train[x][y]\n",
    "    if np.isnan(actual)==False:\n",
    "        pred = np.dot(u2[x],np.transpose(v2[y]))\n",
    "        diff = pred-actual\n",
    "        diff = diff*diff\n",
    "        err3 += diff\n",
    "        n += 1\n",
    "if n==0:\n",
    "    err3=0\n",
    "else:\n",
    "    err3=math.sqrt(err1/n)\n",
    "print(err3)"
   ]
  },
  {
   "cell_type": "code",
   "execution_count": 0,
   "metadata": {
    "colab": {},
    "colab_type": "code",
    "id": "-a6b4lvljHTd",
    "outputId": "3eab1bbf-a718-4f1a-a8de-652d44156d97"
   },
   "outputs": [
    {
     "name": "stdout",
     "output_type": "stream",
     "text": [
      "num of iterations: 0\n",
      "103.428323574191\n",
      "num of iterations: 10\n",
      "42.84652013925748\n",
      "num of iterations: 20\n",
      "18.538963973807345\n",
      "num of iterations: 30\n",
      "8.091833352550156\n",
      "num of iterations: 40\n",
      "3.592409500765455\n",
      "num of iterations: 50\n",
      "2.0182006193970454\n",
      "num of iterations: 60\n",
      "1.6420608418447404\n",
      "num of iterations: 70\n",
      "1.5655038308642089\n",
      "num of iterations: 80\n",
      "1.549696252768648\n",
      "num of iterations: 90\n",
      "1.5455479393509854\n",
      "0.04524385046390424\n"
     ]
    }
   ],
   "source": [
    "#case4:\n",
    "u2 = np.random.rand(number_of_users,k)\n",
    "v2 = np.random.rand(number_of_items,k)\n",
    "e2 = np.zeros((number_of_users,number_of_items))\n",
    "for i in range(100):\n",
    "    e2 = p4 - np.dot(u2,np.transpose(v2))\n",
    "    if i%10==0:\n",
    "        print(\"num of iterations: \"+str(i))\n",
    "        print(np.sum(np.absolute(e2))/(0.8*number_of_users*number_of_items))\n",
    "    u2 = u2*(1-alpha*reg_param) + alpha*(np.dot(e2,v2))\n",
    "    v2 = v2*(1-alpha*reg_param) + alpha*(np.dot(np.transpose(e2),u2))\n",
    "#case4 error:\n",
    "err4=0\n",
    "n=0\n",
    "for i in range((3*length)//5,(4*length)//5):\n",
    "    x = ratings_df['userId'][i]\n",
    "    y = inverse_movie_map[ratings_df['movieId'][i]]\n",
    "    actual = ratings_matrix_train[x][y]\n",
    "    if np.isnan(actual)==False:\n",
    "        pred = np.dot(u2[x],np.transpose(v2[y]))\n",
    "        diff = pred-actual\n",
    "        diff = diff*diff\n",
    "        err4 += diff\n",
    "        n += 1\n",
    "if n==0:\n",
    "    err4=0\n",
    "else:\n",
    "    err4=math.sqrt(err1/n)\n",
    "print(err4)"
   ]
  },
  {
   "cell_type": "code",
   "execution_count": 0,
   "metadata": {
    "colab": {},
    "colab_type": "code",
    "id": "FForp_gnjHTg",
    "outputId": "a9bdc28c-e072-4d5a-fe5e-d1bd52b2f4de"
   },
   "outputs": [
    {
     "name": "stdout",
     "output_type": "stream",
     "text": [
      "num of iterations: 0\n",
      "103.53809348083115\n",
      "num of iterations: 10\n",
      "42.8320176013058\n",
      "num of iterations: 20\n",
      "18.506975172541097\n",
      "num of iterations: 30\n",
      "8.066452119921667\n",
      "num of iterations: 40\n",
      "3.5776364788764314\n",
      "num of iterations: 50\n",
      "2.013538850629031\n",
      "num of iterations: 60\n",
      "1.6410225392596482\n",
      "num of iterations: 70\n",
      "1.5653079802188163\n",
      "num of iterations: 80\n",
      "1.5496269524672182\n",
      "num of iterations: 90\n",
      "1.5454820250461418\n",
      "0.04524385046390424\n"
     ]
    }
   ],
   "source": [
    "#case5:\n",
    "u2 = np.random.rand(number_of_users,k)\n",
    "v2 = np.random.rand(number_of_items,k)\n",
    "e2 = np.zeros((number_of_users,number_of_items))\n",
    "for i in range(100):\n",
    "    e2 = p5 - np.dot(u2,np.transpose(v2))\n",
    "    if i%10==0:\n",
    "        print(\"num of iterations: \"+str(i))\n",
    "        print(np.sum(np.absolute(e2))/(0.8*number_of_users*number_of_items))\n",
    "    u2 = u2*(1-alpha*reg_param) + alpha*(np.dot(e2,v2))\n",
    "    v2 = v2*(1-alpha*reg_param) + alpha*(np.dot(np.transpose(e2),u2))\n",
    "#case4 error:\n",
    "err5=0\n",
    "n=0\n",
    "for i in range((4*length)//5,(5*length)//5):\n",
    "    x = ratings_df['userId'][i]\n",
    "    y = inverse_movie_map[ratings_df['movieId'][i]]\n",
    "    actual = ratings_matrix_train[x][y]\n",
    "    if np.isnan(actual)==False:\n",
    "        pred = np.dot(u2[x],np.transpose(v2[y]))\n",
    "        diff = pred-actual\n",
    "        diff = diff*diff\n",
    "        err5 += diff\n",
    "        n += 1\n",
    "if n==0:\n",
    "    err5=0\n",
    "else:\n",
    "    err5=math.sqrt(err1/n)\n",
    "print(err5)"
   ]
  },
  {
   "cell_type": "code",
   "execution_count": 0,
   "metadata": {
    "colab": {},
    "colab_type": "code",
    "id": "nBL7reuajHTj",
    "outputId": "d7f01b99-d4a7-42dc-995b-883038099541"
   },
   "outputs": [
    {
     "name": "stdout",
     "output_type": "stream",
     "text": [
      "0.39477386944701154\n"
     ]
    }
   ],
   "source": [
    "avg = (err1+err2+err3+err4+err5)/5\n",
    "print(avg)"
   ]
  },
  {
   "cell_type": "code",
   "execution_count": 0,
   "metadata": {
    "colab": {},
    "colab_type": "code",
    "id": "9v9i-oePjHTl"
   },
   "outputs": [],
   "source": [
    "reg_param avg\n",
    "2 0.40193155365284633\n",
    "5 0.3987769015126784\n",
    "10 0.39639918551247166\n",
    "25 0.3941284325416964\n",
    "35 0.39477386944701154\n",
    "50 0.4077619971468356\n",
    "100 0.40115566745508746\n",
    "200 0.39375657175193746\n",
    "chosen value of reg_param = 25"
   ]
  },
  {
   "cell_type": "code",
   "execution_count": 0,
   "metadata": {
    "colab": {},
    "colab_type": "code",
    "id": "kCxpnswFjHTo"
   },
   "outputs": [],
   "source": [
    "iterations = 4250\n",
    "reg_param=25\n",
    "alpha=1.5e-6"
   ]
  },
  {
   "cell_type": "code",
   "execution_count": 0,
   "metadata": {
    "colab": {
     "base_uri": "https://localhost:8080/",
     "height": 1000
    },
    "colab_type": "code",
    "id": "8tlmhmHBjHTq",
    "outputId": "b7f71ea7-8aee-4f3b-bd08-c1b8ea38c6db",
    "scrolled": true
   },
   "outputs": [
    {
     "name": "stdout",
     "output_type": "stream",
     "text": [
      "i: 0 7299.526173201101\n",
      "i: 10 6524.749245193811\n",
      "i: 20 5779.405325170705\n",
      "i: 30 5069.689417812014\n",
      "i: 40 4407.685743552395\n",
      "i: 50 3805.98347338926\n",
      "i: 60 3273.802533023494\n",
      "i: 70 2815.007669649706\n",
      "i: 80 2427.938090625012\n",
      "i: 90 2106.540107588648\n",
      "i: 100 1842.1066516413123\n",
      "i: 110 1625.0067668342913\n",
      "i: 120 1446.014620769864\n",
      "i: 130 1297.0990601711255\n",
      "i: 140 1171.7271289625294\n",
      "i: 150 1064.8314156572524\n",
      "i: 160 972.6010115070904\n",
      "i: 170 892.2166316090837\n",
      "i: 180 821.5998876559868\n",
      "i: 190 759.2064897494697\n",
      "i: 200 703.8688571606043\n",
      "i: 210 654.6822316062159\n",
      "i: 220 610.924873143136\n",
      "i: 230 572.0032396388324\n",
      "i: 240 537.4147666306079\n",
      "i: 250 506.7227697917761\n",
      "i: 260 479.53961143473873\n",
      "i: 270 455.5154911521502\n",
      "i: 280 434.33107439061234\n",
      "i: 290 415.6927430826403\n",
      "i: 300 399.3296228017356\n",
      "i: 310 384.9917805519586\n",
      "i: 320 372.44914770468483\n",
      "i: 330 361.4908382358739\n",
      "i: 340 351.92462358458465\n",
      "i: 350 343.57640186136183\n",
      "i: 360 336.2895637861565\n",
      "i: 370 329.92421040549425\n",
      "i: 380 324.35621745917564\n",
      "i: 390 319.47616817813895\n",
      "i: 400 315.18819148117854\n",
      "i: 410 311.4087481839455\n",
      "i: 420 308.0654065941677\n",
      "i: 430 305.0956433442176\n",
      "i: 440 302.44569769780736\n",
      "i: 450 300.0694994822509\n",
      "i: 460 297.9276832883752\n",
      "i: 470 295.9866952108518\n",
      "i: 480 294.2179933810207\n",
      "i: 490 292.5973398492943\n",
      "i: 500 291.10417885305685\n",
      "i: 510 289.7210949506223\n",
      "i: 520 288.4333436962394\n",
      "i: 530 287.2284472772597\n",
      "i: 540 286.09584766524614\n",
      "i: 550 285.02661021438774\n",
      "i: 560 284.01317117150865\n",
      "i: 570 283.04912316784\n",
      "i: 580 282.1290333917075\n",
      "i: 590 281.2482897585328\n",
      "i: 600 280.4029709784403\n",
      "i: 610 279.5897369598294\n",
      "i: 620 278.8057364736684\n",
      "i: 630 278.048529436687\n",
      "i: 640 277.3160215533548\n",
      "i: 650 276.6064093898374\n",
      "i: 660 275.9181342419441\n",
      "i: 670 275.24984340803496\n",
      "i: 680 274.6003576912946\n",
      "i: 690 273.96864413815825\n",
      "i: 700 273.3537931749693\n",
      "i: 710 272.7549994368012\n",
      "i: 720 272.1715456941363\n",
      "i: 730 271.60278937758466\n",
      "i: 740 271.04815128062444\n",
      "i: 750 270.50710608764683\n",
      "i: 760 269.9791744312497\n",
      "i: 770 269.4639162304321\n",
      "i: 780 268.96092510144746\n",
      "i: 790 268.4698236667475\n",
      "i: 800 267.99025961575984\n",
      "i: 810 267.52190239498077\n",
      "i: 820 267.06444042477204\n",
      "i: 830 266.6175787569624\n",
      "i: 840 266.18103710133875\n",
      "i: 850 265.75454816086113\n",
      "i: 860 265.3378562252309\n",
      "i: 870 264.930715980706\n",
      "i: 880 264.53289150089955\n",
      "i: 890 264.144155389117\n",
      "i: 900 263.764288047568\n",
      "i: 910 263.39307705284665\n",
      "i: 920 263.0303166204634\n",
      "i: 930 262.6758071440029\n",
      "i: 940 262.3293547968834\n",
      "i: 950 261.9907711866439\n",
      "i: 960 261.65987305335074\n",
      "i: 970 261.33648200508173\n",
      "i: 980 261.0204242846242\n",
      "i: 990 260.7115305624622\n",
      "i: 1000 260.4096357519439\n",
      "i: 1010 260.1145788432206\n",
      "i: 1020 259.82620275304583\n",
      "i: 1030 259.54435418807685\n",
      "i: 1040 259.26888351964135\n",
      "i: 1050 258.999644668308\n",
      "i: 1060 258.7364949968461\n",
      "i: 1070 258.4792952104021\n",
      "i: 1080 258.2279092629121\n",
      "i: 1090 257.9822042689135\n",
      "i: 1100 257.7420504200777\n",
      "i: 1110 257.50732090587366\n",
      "i: 1120 257.2778918378707\n",
      "i: 1130 257.0536421772906\n",
      "i: 1140 256.83445366543526\n",
      "i: 1150 256.6202107567154\n",
      "i: 1160 256.4108005540379\n",
      "i: 1170 256.2061127463233\n",
      "i: 1180 256.0060395479979\n",
      "i: 1190 255.8104756402985\n",
      "i: 1200 255.61931811425427\n",
      "i: 1210 255.43246641525272\n",
      "i: 1220 255.24982228908124\n",
      "i: 1230 255.07128972936067\n",
      "i: 1240 254.89677492630958\n",
      "i: 1250 254.72618621676733\n",
      "i: 1260 254.55943403542233\n",
      "i: 1270 254.39643086720116\n",
      "i: 1280 254.23709120077223\n",
      "i: 1290 254.08133148311558\n",
      "i: 1300 253.9290700751443\n",
      "i: 1310 253.78022720832607\n",
      "i: 1320 253.63472494228034\n",
      "i: 1330 253.4924871233328\n",
      "i: 1340 253.3534393439887\n",
      "i: 1350 253.21750890330534\n",
      "i: 1360 253.08462476815586\n",
      "i: 1370 252.95471753533383\n",
      "i: 1380 252.82771939450583\n",
      "i: 1390 252.70356409198098\n",
      "i: 1400 252.58218689527862\n",
      "i: 1410 252.46352455847935\n",
      "i: 1420 252.3475152883418\n",
      "i: 1430 252.23409871116553\n",
      "i: 1440 252.12321584039043\n",
      "i: 1450 252.01480904490975\n",
      "i: 1460 251.9088220180895\n",
      "i: 1470 251.8051997474699\n",
      "i: 1480 251.7038884851443\n",
      "i: 1490 251.604835718794\n",
      "i: 1500 251.50799014336874\n",
      "i: 1510 251.41330163340058\n",
      "i: 1520 251.32072121593268\n",
      "i: 1530 251.2302010440558\n",
      "i: 1540 251.1416943710361\n",
      "i: 1550 251.0551555250264\n",
      "i: 1560 250.97053988434078\n",
      "i: 1570 250.88780385328624\n",
      "i: 1580 250.80690483854536\n",
      "i: 1590 250.7278012260785\n",
      "i: 1600 250.6504523585615\n",
      "i: 1610 250.57481851332355\n",
      "i: 1620 250.50086088079215\n",
      "i: 1630 250.42854154341825\n",
      "i: 1640 250.35782345508986\n",
      "i: 1650 250.28867042100367\n",
      "i: 1660 250.22104707800204\n",
      "i: 1670 250.15491887535546\n",
      "i: 1680 250.09025205598275\n",
      "i: 1690 250.02701363809783\n",
      "i: 1700 249.96517139728343\n",
      "i: 1710 249.9046938489676\n",
      "i: 1720 249.84555023130383\n",
      "i: 1730 249.7877104884445\n",
      "i: 1740 249.73114525419868\n",
      "i: 1750 249.675825836063\n",
      "i: 1760 249.6217241996225\n",
      "i: 1770 249.56881295330726\n",
      "i: 1780 249.5170653335023\n",
      "i: 1790 249.4664551900016\n",
      "i: 1800 249.41695697179537\n",
      "i: 1810 249.36854571318364\n",
      "i: 1820 249.3211970202162\n",
      "i: 1830 249.27488705744298\n",
      "i: 1840 249.22959253496856\n",
      "i: 1850 249.18529069581024\n",
      "i: 1860 249.1419593035463\n",
      "i: 1870 249.09957663025259\n",
      "i: 1880 249.0581214447156\n",
      "i: 1890 249.01757300092336\n",
      "i: 1900 248.97791102681947\n",
      "i: 1910 248.93911571331856\n",
      "i: 1920 248.90116770358355\n",
      "i: 1930 248.8640480825401\n",
      "i: 1940 248.82773836664563\n",
      "i: 1950 248.79222049389148\n",
      "i: 1960 248.75747681403882\n",
      "i: 1970 248.72349007907968\n",
      "i: 1980 248.6902434339248\n",
      "i: 1990 248.6577204073031\n",
      "i: 2000 248.62590490287658\n",
      "i: 2010 248.5947811905642\n",
      "i: 2020 248.5643338980575\n",
      "i: 2030 248.53454800255045\n",
      "i: 2040 248.50540882264892\n",
      "i: 2050 248.47690201047288\n",
      "i: 2060 248.4490135439465\n",
      "i: 2070 248.42172971926257\n",
      "i: 2080 248.3950371435259\n",
      "i: 2090 248.368922727569\n",
      "i: 2100 248.34337367893193\n",
      "i: 2110 248.31837749501167\n",
      "i: 2120 248.29392195636552\n",
      "i: 2130 248.269995120176\n",
      "i: 2140 248.24658531386254\n",
      "i: 2150 248.22368112884945\n",
      "i: 2160 248.2012714144744\n",
      "i: 2170 248.17934527204048\n",
      "i: 2180 248.15789204900702\n",
      "i: 2190 248.13690133331718\n",
      "i: 2200 248.1163629478545\n",
      "i: 2210 248.09626694503635\n",
      "i: 2220 248.07660360152465\n",
      "i: 2230 248.05736341306599\n",
      "i: 2240 248.03853708945078\n",
      "i: 2250 248.02011554958978\n",
      "i: 2260 248.00208991670482\n",
      "i: 2270 247.98445151363347\n",
      "i: 2280 247.96719185824102\n",
      "i: 2290 247.95030265894448\n",
      "i: 2300 247.93377581033394\n",
      "i: 2310 247.9176033889002\n",
      "i: 2320 247.90177764886212\n",
      "i: 2330 247.88629101809306\n",
      "i: 2340 247.8711360941342\n",
      "i: 2350 247.8563056403139\n",
      "i: 2360 247.84179258194288\n",
      "i: 2370 247.82759000260995\n",
      "i: 2380 247.81369114055917\n",
      "i: 2390 247.80008938514942\n",
      "i: 2400 247.78677827340093\n",
      "i: 2410 247.77375148661872\n",
      "i: 2420 247.76100284709685\n",
      "i: 2430 247.74852631489753\n",
      "i: 2440 247.73631598470533\n",
      "i: 2450 247.7243660827592\n",
      "i: 2460 247.71267096384736\n",
      "i: 2470 247.7012251083777\n",
      "i: 2480 247.69002311951834\n",
      "i: 2490 247.6790597203972\n",
      "i: 2500 247.66832975137368\n",
      "i: 2510 247.6578281673704\n",
      "i: 2520 247.6475500352662\n",
      "i: 2530 247.6374905313521\n",
      "i: 2540 247.62764493884418\n",
      "i: 2550 247.61800864545717\n",
      "i: 2560 247.608577141028\n",
      "i: 2570 247.59934601520334\n",
      "i: 2580 247.59031095516954\n",
      "i: 2590 247.5814677434498\n",
      "i: 2600 247.57281225573647\n",
      "i: 2610 247.56434045878427\n",
      "i: 2620 247.55604840835053\n",
      "i: 2630 247.54793224717838\n",
      "i: 2640 247.53998820303133\n",
      "i: 2650 247.5322125867718\n",
      "i: 2660 247.52460179048316\n",
      "i: 2670 247.51715228563796\n",
      "i: 2680 247.50986062130204\n",
      "i: 2690 247.50272342238864\n",
      "i: 2700 247.49573738794672\n",
      "i: 2710 247.48889928948978\n",
      "i: 2720 247.48220596936568\n",
      "i: 2730 247.47565433916108\n",
      "i: 2740 247.46924137814406\n",
      "i: 2750 247.46296413173962\n",
      "i: 2760 247.45681971005013\n",
      "i: 2770 247.45080528639474\n",
      "i: 2780 247.44491809589294\n",
      "i: 2790 247.4391554340808\n",
      "i: 2800 247.43351465555125\n",
      "i: 2810 247.42799317263442\n",
      "i: 2820 247.42258845409967\n",
      "i: 2830 247.4172980238995\n",
      "i: 2840 247.4121194599254\n",
      "i: 2850 247.40705039280854\n",
      "i: 2860 247.4020885047384\n",
      "i: 2870 247.397231528309\n",
      "i: 2880 247.3924772453978\n",
      "i: 2890 247.38782348606202\n",
      "i: 2900 247.38326812746496\n",
      "i: 2910 247.3788090928285\n",
      "i: 2920 247.37444435040257\n",
      "i: 2930 247.37017191246503\n",
      "i: 2940 247.36598983434416\n",
      "i: 2950 247.36189621345457\n",
      "i: 2960 247.35788918836758\n",
      "i: 2970 247.35396693789517\n",
      "i: 2980 247.35012768019607\n",
      "i: 2990 247.34636967190104\n",
      "i: 3000 247.34269120726216\n",
      "i: 3010 247.33909061731782\n",
      "i: 3020 247.33556626907728\n",
      "i: 3030 247.33211656472443\n",
      "i: 3040 247.32873994083903\n",
      "i: 3050 247.32543486763842\n",
      "i: 3060 247.32219984822908\n",
      "i: 3070 247.31903341788455\n",
      "i: 3080 247.31593414333355\n",
      "i: 3090 247.31290062206517\n",
      "i: 3100 247.3099314816514\n",
      "i: 3110 247.3070253790832\n",
      "i: 3120 247.30418100012406\n",
      "i: 3130 247.30139705867475\n",
      "i: 3140 247.29867229615408\n",
      "i: 3150 247.29600548089644\n",
      "i: 3160 247.29339540755672\n",
      "i: 3170 247.29084089653404\n",
      "i: 3180 247.28834079340746\n",
      "i: 3190 247.28589396838035\n",
      "i: 3200 247.28349931574368\n",
      "i: 3210 247.28115575334667\n",
      "i: 3220 247.27886222208164\n",
      "i: 3230 247.27661768537726\n",
      "i: 3240 247.274421128709\n",
      "i: 3250 247.27227155911493\n",
      "i: 3260 247.2701680047242\n",
      "i: 3270 247.2681095142983\n",
      "i: 3280 247.266095156779\n",
      "i: 3290 247.26412402084844\n",
      "i: 3300 247.26219521450057\n",
      "i: 3310 247.26030786461703\n",
      "i: 3320 247.2584611165594\n",
      "i: 3330 247.25665413376535\n",
      "i: 3340 247.2548860973548\n",
      "i: 3350 247.2531562057462\n",
      "i: 3360 247.25146367428164\n",
      "i: 3370 247.2498077348597\n",
      "i: 3380 247.24818763557275\n",
      "i: 3390 247.24660264035984\n",
      "i: 3400 247.2450520286625\n",
      "i: 3410 247.24353509508597\n",
      "i: 3420 247.24205114907414\n",
      "i: 3430 247.24059951458838\n",
      "i: 3440 247.239179529792\n",
      "i: 3450 247.23779054674398\n",
      "i: 3460 247.2364319310994\n",
      "i: 3470 247.23510306181544\n",
      "i: 3480 247.23380333086538\n",
      "i: 3490 247.2325321429571\n",
      "i: 3500 247.23128891525715\n",
      "i: 3510 247.23007307712683\n",
      "i: 3520 247.2288840698554\n",
      "i: 3530 247.2277213464074\n",
      "i: 3540 247.22658437116854\n",
      "i: 3550 247.2254726197004\n",
      "i: 3560 247.22438557850361\n",
      "i: 3570 247.2233227447797\n",
      "i: 3580 247.2222836262051\n",
      "i: 3590 247.2212677407018\n",
      "i: 3600 247.22027461622275\n",
      "i: 3610 247.21930379053566\n",
      "i: 3620 247.21835481101257\n",
      "i: 3630 247.21742723442307\n",
      "i: 3640 247.21652062673576\n",
      "i: 3650 247.2156345629222\n",
      "i: 3660 247.2147686267626\n",
      "i: 3670 247.2139224106601\n",
      "i: 3680 247.21309551545426\n",
      "i: 3690 247.2122875502452\n",
      "i: 3700 247.21149813221348\n",
      "i: 3710 247.21072688645316\n",
      "i: 3720 247.2099734457968\n",
      "i: 3730 247.20923745065784\n",
      "i: 3740 247.2085185488666\n",
      "i: 3750 247.20781639551092\n",
      "i: 3760 247.20713065278684\n",
      "i: 3770 247.20646098984255\n",
      "i: 3780 247.20580708263668\n",
      "i: 3790 247.20516861378772\n",
      "i: 3800 247.20454527244078\n",
      "i: 3810 247.2039367541221\n",
      "i: 3820 247.20334276060993\n",
      "i: 3830 247.2027629997972\n",
      "i: 3840 247.2021971855674\n",
      "i: 3850 247.2016450376656\n",
      "i: 3860 247.20110628157607\n",
      "i: 3870 247.2005806483981\n",
      "i: 3880 247.20006787473363\n",
      "i: 3890 247.19956770256513\n",
      "i: 3900 247.19907987914686\n",
      "i: 3910 247.19860415689226\n",
      "i: 3920 247.19814029326506\n",
      "i: 3930 247.19768805067613\n",
      "i: 3940 247.19724719637475\n",
      "i: 3950 247.1968175023518\n",
      "i: 3960 247.1963987452382\n",
      "i: 3970 247.19599070620805\n",
      "i: 3980 247.19559317088377\n",
      "i: 3990 247.1952059292412\n",
      "i: 4000 247.19482877552213\n",
      "i: 4010 247.1944615081421\n",
      "i: 4020 247.19410392960614\n",
      "i: 4030 247.1937558464178\n",
      "i: 4040 247.19341706900477\n",
      "i: 4050 247.19308741162715\n",
      "i: 4060 247.192766692305\n",
      "i: 4070 247.19245473273614\n",
      "i: 4080 247.1921513582229\n",
      "i: 4090 247.19185639759337\n",
      "i: 4100 247.19156968312967\n",
      "i: 4110 247.19129105049757\n",
      "i: 4120 247.191020338675\n",
      "i: 4130 247.19075738988303\n",
      "i: 4140 247.19050204951924\n",
      "i: 4150 247.19025416609216\n",
      "i: 4160 247.19001359115518\n",
      "i: 4170 247.18978017924715\n",
      "i: 4180 247.1895537878254\n",
      "i: 4190 247.18933427721143\n",
      "i: 4200 247.18912151052635\n",
      "i: 4210 247.18891535363565\n",
      "i: 4220 247.18871567509274\n",
      "i: 4230 247.18852234608352\n",
      "i: 4240 247.18833524037052\n"
     ]
    }
   ],
   "source": [
    "u_reg = np.random.rand(number_of_users,k)\n",
    "v_reg = np.random.rand(number_of_items,k)\n",
    "e_reg = np.zeros((number_of_users,number_of_items))\n",
    "for i in range(iterations):\n",
    "    e_reg = ratings_matrix - np.dot(u_reg,np.transpose(v_reg))\n",
    "    if i%10==0:\n",
    "        print(\"i: \"+str(i)+' '+str(np.linalg.norm(e_reg,ord='fro')))\n",
    "    u_reg = u_reg*(1-alpha*reg_param) + alpha*(np.dot(e_reg,v_reg))\n",
    "    v_reg = v_reg*(1-alpha*reg_param) + alpha*(np.dot(np.transpose(e_reg),u_reg))"
   ]
  },
  {
   "cell_type": "code",
   "execution_count": 0,
   "metadata": {
    "colab": {},
    "colab_type": "code",
    "id": "Jv65ThYSjHTu"
   },
   "outputs": [],
   "source": [
    "#finding rmse error after regularized gd:\n",
    "\n",
    "np.save('u_reg',u_reg)\n",
    "np.save('v_reg',v_reg)"
   ]
  },
  {
   "cell_type": "code",
   "execution_count": 0,
   "metadata": {
    "colab": {},
    "colab_type": "code",
    "id": "Al4iPUJlnCG7"
   },
   "outputs": [],
   "source": [
    "reg_result=[]\n",
    "final_matrix=np.dot(u_reg,(np.transpose(v_reg)))\n",
    "for i in test_nos:\n",
    "    user_no=ratings_df['userId'][i]-1\n",
    "    movie_no=ratings_df['movieId'][i]\n",
    "    movie_no=inverse_movie_map[movie_no]\n",
    "    reg_result.append(final_matrix[user_no][movie_no])"
   ]
  },
  {
   "cell_type": "code",
   "execution_count": 0,
   "metadata": {
    "colab": {
     "base_uri": "https://localhost:8080/",
     "height": 34
    },
    "colab_type": "code",
    "id": "inpJ9SHsnSnL",
    "outputId": "e76afe7a-a2a7-469f-cff8-2d307d0d2a85"
   },
   "outputs": [
    {
     "data": {
      "text/plain": [
       "0.938462140687939"
      ]
     },
     "execution_count": 61,
     "metadata": {
      "tags": []
     },
     "output_type": "execute_result"
    }
   ],
   "source": [
    "rmse_error(reg_result,correct_predictions)"
   ]
  },
  {
   "cell_type": "code",
   "execution_count": 0,
   "metadata": {
    "colab": {},
    "colab_type": "code",
    "id": "-eboU7I0jHTw"
   },
   "outputs": [],
   "source": [
    "missing_entries =[]\n",
    "for i in range(number_of_users):\n",
    "    for j in range(number_of_items):\n",
    "        if np.isnan(ratings_matrix_train[i][j])==True:\n",
    "            missing_entries.append((i,j))"
   ]
  },
  {
   "cell_type": "code",
   "execution_count": 0,
   "metadata": {
    "colab": {},
    "colab_type": "code",
    "id": "9hR9A4aOWAY8"
   },
   "outputs": [],
   "source": []
  },
  {
   "cell_type": "code",
   "execution_count": 0,
   "metadata": {
    "colab": {
     "base_uri": "https://localhost:8080/",
     "height": 34
    },
    "colab_type": "code",
    "id": "4au5tiFvoJCM",
    "outputId": "89332a4e-c9f9-4161-a059-4bd075acf757"
   },
   "outputs": [
    {
     "data": {
      "text/plain": [
       "5872035"
      ]
     },
     "execution_count": 35,
     "metadata": {
      "tags": []
     },
     "output_type": "execute_result"
    }
   ],
   "source": [
    "len(missing_entries)"
   ]
  },
  {
   "cell_type": "code",
   "execution_count": 0,
   "metadata": {
    "colab": {
     "base_uri": "https://localhost:8080/",
     "height": 295
    },
    "colab_type": "code",
    "id": "1g_eZqp5jHT0",
    "outputId": "47fa660e-15fc-497e-afc1-e527d25fcd6a"
   },
   "outputs": [
    {
     "name": "stdout",
     "output_type": "stream",
     "text": [
      "i: 0 44.421804482111526\n",
      "i: 5 19.911240527039677\n",
      "i: 10 14.391934763941867\n",
      "i: 15 11.86230233606994\n",
      "i: 20 10.227152833098126\n",
      "i: 25 9.041091654082091\n",
      "i: 30 8.147644670723729\n",
      "i: 35 7.4515833329460985\n",
      "i: 40 6.892618863971486\n",
      "i: 45 6.432370126318942\n",
      "i: 50 6.0451862030903305\n",
      "i: 55 5.7132794587051166\n",
      "i: 60 5.42413105881032\n",
      "i: 65 5.168861617912406\n",
      "i: 70 4.941095431662545\n",
      "i: 75 4.736160084941204\n"
     ]
    }
   ],
   "source": [
    "#svd\n",
    "iterations=80\n",
    "prev = copy.deepcopy(ratings_matrix)\n",
    "curr = copy.deepcopy(ratings_matrix)\n",
    "for i in range(iterations):\n",
    "    q,sigma,p_t = np.linalg.svd(curr)\n",
    "    q = q[:,:k]\n",
    "    sigma = np.diag(sigma)\n",
    "    sigma = sigma[:k,:k]\n",
    "    p_t = p_t[:k,:]\n",
    "    prev = copy.deepcopy(curr)\n",
    "    n=0\n",
    "    temp = np.dot(np.dot(q,sigma),p_t)\n",
    "    for j in range(len(missing_entries)):\n",
    "        x1 = missing_entries[j][0]\n",
    "        y1 = missing_entries[j][1]\n",
    "        curr[x1][y1]=temp[x1][y1]\n",
    "    e_svd = prev-curr\n",
    "    if i%5==0:\n",
    "        print('i: '+str(i)+' '+str(np.linalg.norm(e_svd,ord='fro')))"
   ]
  },
  {
   "cell_type": "code",
   "execution_count": 0,
   "metadata": {
    "colab": {
     "base_uri": "https://localhost:8080/",
     "height": 34
    },
    "colab_type": "code",
    "id": "SQVa5SQPjHT3",
    "outputId": "9d2363c0-1233-4c7c-d9d5-7f53008b4173"
   },
   "outputs": [
    {
     "name": "stdout",
     "output_type": "stream",
     "text": [
      "0.8924848387583938\n"
     ]
    }
   ],
   "source": [
    "#finding the error\n",
    "\n",
    "\n",
    "svd_result=[]\n",
    "final_matrix=np.dot(np.dot(q,sigma),p_t)\n",
    "for i in test_nos:\n",
    "    user_no=ratings_df['userId'][i]-1\n",
    "    movie_no=ratings_df['movieId'][i]\n",
    "    movie_no=inverse_movie_map[movie_no]\n",
    "    svd_result.append(final_matrix[user_no][movie_no])\n",
    "print(rmse_error(correct_predictions,svd_result))   "
   ]
  },
  {
   "cell_type": "code",
   "execution_count": 0,
   "metadata": {
    "colab": {},
    "colab_type": "code",
    "id": "8OGTW517jHT5"
   },
   "outputs": [],
   "source": [
    "np.save('q',q)\n",
    "np.save('sigma',sigma)\n",
    "np.save('p_t',p_t)"
   ]
  },
  {
   "cell_type": "code",
   "execution_count": 0,
   "metadata": {
    "colab": {},
    "colab_type": "code",
    "id": "raF1cTuBjHT8"
   },
   "outputs": [],
   "source": [
    "#case1:\n",
    "u2 = np.random.rand(number_of_users,k)\n",
    "v2 = np.random.rand(number_of_items,k)\n",
    "w_mat=np.dot(ratings_matrix,ratings_matrix)\n",
    "e2 = np.zeros((number_of_users,number_of_items))\n",
    "for i in range(100):\n",
    "    e2 = p1 - np.dot(u2,np.transpose(v2))\n",
    "    if i%10==0:\n",
    "        print(\"num of iterations: \"+str(i))\n",
    "        print(np.sum(np.absolute(e2))/(0.8*number_of_users*number_of_items))\n",
    "    u2 = u2*(1-alpha*reg_param) + alpha*(np.dot(e2,v2))\n",
    "    v2 = v2*(1-alpha*reg_param) + alpha*(np.dot(np.transpose(e2),u2))"
   ]
  },
  {
   "cell_type": "code",
   "execution_count": 0,
   "metadata": {
    "colab": {},
    "colab_type": "code",
    "id": "kJUbHtXvmIAq"
   },
   "outputs": [],
   "source": [
    "for iters in range(iterations):\n",
    "  error_mat=ratings_matrix-np.dot(u2,np.transpose(v2))\n",
    "  if (iters%5==0):\n",
    "    print(\"num of iterations: \"+str(i))\n",
    "    print(np.linalg.norm(error_mat,ird='fro')\n",
    "    \n",
    "    \n",
    "      "
   ]
  },
  {
   "cell_type": "code",
   "execution_count": 0,
   "metadata": {
    "colab": {},
    "colab_type": "code",
    "id": "T0qIAqPV0KwF"
   },
   "outputs": [],
   "source": [
    "#NMF"
   ]
  },
  {
   "cell_type": "code",
   "execution_count": 0,
   "metadata": {
    "colab": {},
    "colab_type": "code",
    "id": "hbs3s7ECbFBL"
   },
   "outputs": [],
   "source": [
    "k=346"
   ]
  },
  {
   "cell_type": "code",
   "execution_count": 0,
   "metadata": {
    "colab": {},
    "colab_type": "code",
    "id": "wXe-6L6X0ZlE"
   },
   "outputs": [],
   "source": [
    "u=np.random.rand(number_of_users,k)\n",
    "v=np.random.rand(number_of_items,k)\n",
    "w=np.dot(np.transpose(ratings_matrix),ratings_matrix)\n",
    "l_list=[]\n",
    "for i in range(number_of_items):\n",
    "  sum=0\n",
    "  for j in range(number_of_items):\n",
    "    sum+=w[i][j]\n",
    "  l_list.append(sum)\n",
    " "
   ]
  },
  {
   "cell_type": "code",
   "execution_count": 0,
   "metadata": {
    "colab": {},
    "colab_type": "code",
    "id": "VqzCemkvbFBP"
   },
   "outputs": [],
   "source": [
    "diag=np.diag(l_list)"
   ]
  },
  {
   "cell_type": "code",
   "execution_count": 0,
   "metadata": {
    "colab": {},
    "colab_type": "code",
    "id": "Inmj9l9m6m_D"
   },
   "outputs": [],
   "source": [
    "iterations=10\n",
    "_lambda=25"
   ]
  },
  {
   "cell_type": "code",
   "execution_count": 0,
   "metadata": {
    "colab": {
     "base_uri": "https://localhost:8080/",
     "height": 191
    },
    "colab_type": "code",
    "id": "BvJBYe516rnD",
    "outputId": "91e08a03-b1cd-47d8-ebb1-1845ea5f5674"
   },
   "outputs": [
    {
     "name": "stdout",
     "output_type": "stream",
     "text": [
      "Iteration : 1 Error is : 201963.7118215931\n",
      "Iteration : 2 Error is : 247.6931845407991\n",
      "Iteration : 3 Error is : 247.42068545849875\n",
      "Iteration : 4 Error is : 247.4206854574586\n",
      "Iteration : 5 Error is : 247.42068545745852\n",
      "Iteration : 6 Error is : 247.42068545745852\n",
      "Iteration : 7 Error is : 247.4206854574585\n",
      "Iteration : 8 Error is : 247.42068545745852\n",
      "Iteration : 9 Error is : 247.42068545745852\n",
      "Iteration : 10 Error is : 247.42068545745852\n"
     ]
    }
   ],
   "source": [
    "for iter in range(iterations):\n",
    "  error_mat=ratings_matrix-np.dot(u,np.transpose(v))\n",
    "#   if(iter%10==0):\n",
    "  print(\"Iteration : \"+str(iter+1)+\" Error is : \"+str(np.linalg.norm(error_mat,ord='fro')))\n",
    "  denom1=np.dot(np.dot(u,np.transpose(v)),v)\n",
    "  denom1=denom1+1e-11\n",
    "  u_temp=u*((np.dot(ratings_matrix,v))/denom1)\n",
    "  u=copy.deepcopy(u_temp)\n",
    "  denom2=np.dot(np.dot(np.transpose(u),u),np.transpose(v))+_lambda*np.dot(np.transpose(v),diag)\n",
    "  denom2=denom2+1e-11\n",
    "  v_temp=np.transpose(v)*((np.dot(np.transpose(u),ratings_matrix)+_lambda*np.dot(np.transpose(v),w))/denom2)\n",
    "  v_temp=np.transpose(v_temp)\n",
    "  v=copy.deepcopy(v_temp)\n",
    "  "
   ]
  },
  {
   "cell_type": "code",
   "execution_count": 0,
   "metadata": {
    "colab": {},
    "colab_type": "code",
    "id": "FCzEdsXgbFBX"
   },
   "outputs": [],
   "source": [
    "nmf_result=[]\n",
    "final_matrix=np.dot(u,(np.transpose(v)))\n",
    "for i in test_nos:\n",
    "    user_no=ratings_df['userId'][i]-1\n",
    "    movie_no=ratings_df['movieId'][i]\n",
    "    movie_no=inverse_movie_map[movie_no]\n",
    "    nmf_result.append(final_matrix[user_no][movie_no])\n",
    "    "
   ]
  },
  {
   "cell_type": "code",
   "execution_count": 0,
   "metadata": {
    "colab": {},
    "colab_type": "code",
    "id": "jcW4UPozTttB"
   },
   "outputs": [],
   "source": []
  },
  {
   "cell_type": "code",
   "execution_count": 0,
   "metadata": {
    "colab": {
     "base_uri": "https://localhost:8080/",
     "height": 34
    },
    "colab_type": "code",
    "id": "N3WYaiAPbFBZ",
    "outputId": "1e7ed1e0-ecc4-48cc-fd6e-b5fc70700b88"
   },
   "outputs": [
    {
     "data": {
      "text/plain": [
       "0.9468013393608824"
      ]
     },
     "execution_count": 27,
     "metadata": {
      "tags": []
     },
     "output_type": "execute_result"
    }
   ],
   "source": [
    "rmse_error(nmf_result,correct_predictions)"
   ]
  },
  {
   "cell_type": "code",
   "execution_count": 0,
   "metadata": {
    "colab": {},
    "colab_type": "code",
    "id": "xkttXcXfbFBb"
   },
   "outputs": [],
   "source": [
    "def bgd_bias(r_m,rows,cols,iterations,alpha,reg_param):\n",
    "    u = np.random.rand(rows,k+1)\n",
    "    u=np.c_[u,np.ones(rows)]\n",
    "    \n",
    "    v = np.random.rand(cols,k)\n",
    "    v=np.c_[v,np.ones(cols)]\n",
    "    v=np.c_[v,np.random.rand(cols)]\n",
    "    \n",
    "    \n",
    "    \n",
    "    e = np.zeros((rows,cols))\n",
    "    for i in range(iterations):\n",
    "        e = r_m - np.dot(u,np.transpose(v))\n",
    "        if i%100==0:\n",
    "            print(\"i: \"+str(i)+' '+str(np.linalg.norm(e,ord='fro')))\n",
    "        u = u*(1-alpha*reg_param) + alpha*(np.dot(e,v))\n",
    "        v= v*(1-alpha*reg_param) + alpha*(np.dot(np.transpose(e),u))\n",
    "        u[:,k+1]=np.ones(rows)\n",
    "        v[:,k]=np.ones(cols)\n",
    "        \n",
    "    return u,v"
   ]
  },
  {
   "cell_type": "code",
   "execution_count": 0,
   "metadata": {
    "colab": {
     "base_uri": "https://localhost:8080/",
     "height": 1000
    },
    "colab_type": "code",
    "id": "8T6Yt40eUctU",
    "outputId": "7ee06955-7c59-4dbc-cb08-e5c1670e2181"
   },
   "outputs": [
    {
     "name": "stdout",
     "output_type": "stream",
     "text": [
      "i: 0 5025.521123323623\n",
      "i: 100 1126.8499059996918\n",
      "i: 200 801.3373471245886\n",
      "i: 300 609.705227446017\n",
      "i: 400 484.7817669674795\n",
      "i: 500 403.93207295016896\n",
      "i: 600 352.5886544216913\n",
      "i: 700 320.5227584790579\n",
      "i: 800 300.5864868097326\n",
      "i: 900 288.0373651787721\n",
      "i: 1000 279.9083352265118\n",
      "i: 1100 274.42395367908847\n",
      "i: 1200 270.5480517169442\n",
      "i: 1300 267.6800636613103\n",
      "i: 1400 265.46894094845845\n",
      "i: 1500 263.70504486989955\n",
      "i: 1600 262.2591167446296\n",
      "i: 1700 261.0482517408828\n",
      "i: 1800 260.01694397286593\n",
      "i: 1900 259.12643411513903\n",
      "i: 2000 258.348615450005\n",
      "i: 2100 257.66245389497703\n",
      "i: 2200 257.05181111022375\n",
      "i: 2300 256.5040662474722\n",
      "i: 2400 256.009205068495\n",
      "i: 2500 255.55919237268785\n",
      "i: 2600 255.1475233078748\n",
      "i: 2700 254.7688926008254\n",
      "i: 2800 254.4189448191958\n",
      "i: 2900 254.09408240644288\n",
      "i: 3000 253.79131617734535\n",
      "i: 3100 253.508147765987\n",
      "i: 3200 253.24247654581694\n",
      "i: 3300 252.99252553416986\n",
      "i: 3400 252.7567821605394\n",
      "i: 3500 252.5339507503193\n",
      "i: 3600 252.3229142882778\n",
      "i: 3700 252.12270356037484\n",
      "i: 3800 251.93247218002116\n",
      "i: 3900 251.75147631952981\n",
      "i: 4000 251.57905821254596\n",
      "i: 4100 251.4146326852984\n",
      "i: 4200 251.25767612573443\n",
      "i: 4300 251.10771741901965\n",
      "i: 4400 250.96433047251102\n",
      "i: 4500 250.82712802840663\n",
      "i: 4600 250.69575652199165\n",
      "i: 4700 250.56989179096288\n",
      "i: 4800 250.44923547929866\n",
      "i: 4900 250.33351200941783\n",
      "i: 5000 250.2224660206901\n",
      "i: 5100 250.11586019176323\n",
      "i: 5200 250.01347337979865\n",
      "i: 5300 249.9150990222545\n",
      "i: 5400 249.82054375694005\n",
      "i: 5500 249.72962622420746\n",
      "i: 5600 249.6421760217371\n"
     ]
    }
   ],
   "source": [
    "u_b,v_b=bgd_bias(ratings_matrix,number_of_users,number_of_items,5700,1.5e-6,25)"
   ]
  },
  {
   "cell_type": "code",
   "execution_count": 0,
   "metadata": {
    "colab": {
     "base_uri": "https://localhost:8080/",
     "height": 34
    },
    "colab_type": "code",
    "id": "Qa-InlhJUoLi",
    "outputId": "ef314cdc-7618-4969-9690-c1b908a5b052"
   },
   "outputs": [
    {
     "name": "stdout",
     "output_type": "stream",
     "text": [
      "0.9379407378990257\n"
     ]
    }
   ],
   "source": [
    "bias_result=[]\n",
    "final_matrix=np.dot(u_b,(np.transpose(v_b)))\n",
    "for i in test_nos:\n",
    "    user_no=ratings_df['userId'][i]-1\n",
    "    movie_no=ratings_df['movieId'][i]\n",
    "    movie_no=inverse_movie_map[movie_no]\n",
    "    bias_result.append(final_matrix[user_no][movie_no])\n",
    "print(rmse_error(correct_predictions,bias_result))    "
   ]
  },
  {
   "cell_type": "code",
   "execution_count": 0,
   "metadata": {
    "colab": {},
    "colab_type": "code",
    "id": "f4-Ad_TxZA_Z"
   },
   "outputs": [],
   "source": [
    "print"
   ]
  }
 ],
 "metadata": {
  "accelerator": "GPU",
  "colab": {
   "collapsed_sections": [],
   "name": "part1.ipynb",
   "provenance": []
  },
  "kernelspec": {
   "display_name": "Python 3",
   "language": "python",
   "name": "python3"
  },
  "language_info": {
   "codemirror_mode": {
    "name": "ipython",
    "version": 3
   },
   "file_extension": ".py",
   "mimetype": "text/x-python",
   "name": "python",
   "nbconvert_exporter": "python",
   "pygments_lexer": "ipython3",
   "version": "3.6.8"
  }
 },
 "nbformat": 4,
 "nbformat_minor": 1
}

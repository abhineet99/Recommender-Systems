{
 "cells": [
  {
   "cell_type": "code",
   "execution_count": 1,
   "metadata": {},
   "outputs": [],
   "source": [
    "import matplotlib.pyplot as plt\n",
    "import csv\n",
    "import pandas as pd\n",
    "import operator\n",
    "from statistics import mean,pstdev\n",
    "import numpy as np\n",
    "import random\n",
    "import copy"
   ]
  },
  {
   "cell_type": "code",
   "execution_count": 2,
   "metadata": {},
   "outputs": [],
   "source": [
    "path=\"ml-latest-small/\"\n",
    "ratings_path=path+\"ratings.csv\"\n",
    "movies_path=path+\"movies.csv\""
   ]
  },
  {
   "cell_type": "code",
   "execution_count": 3,
   "metadata": {},
   "outputs": [
    {
     "data": {
      "text/html": [
       "<div>\n",
       "<style scoped>\n",
       "    .dataframe tbody tr th:only-of-type {\n",
       "        vertical-align: middle;\n",
       "    }\n",
       "\n",
       "    .dataframe tbody tr th {\n",
       "        vertical-align: top;\n",
       "    }\n",
       "\n",
       "    .dataframe thead th {\n",
       "        text-align: right;\n",
       "    }\n",
       "</style>\n",
       "<table border=\"1\" class=\"dataframe\">\n",
       "  <thead>\n",
       "    <tr style=\"text-align: right;\">\n",
       "      <th></th>\n",
       "      <th>userId</th>\n",
       "      <th>movieId</th>\n",
       "      <th>rating</th>\n",
       "      <th>timestamp</th>\n",
       "    </tr>\n",
       "  </thead>\n",
       "  <tbody>\n",
       "    <tr>\n",
       "      <th>0</th>\n",
       "      <td>1</td>\n",
       "      <td>1</td>\n",
       "      <td>4.0</td>\n",
       "      <td>964982703</td>\n",
       "    </tr>\n",
       "    <tr>\n",
       "      <th>1</th>\n",
       "      <td>1</td>\n",
       "      <td>3</td>\n",
       "      <td>4.0</td>\n",
       "      <td>964981247</td>\n",
       "    </tr>\n",
       "    <tr>\n",
       "      <th>2</th>\n",
       "      <td>1</td>\n",
       "      <td>6</td>\n",
       "      <td>4.0</td>\n",
       "      <td>964982224</td>\n",
       "    </tr>\n",
       "    <tr>\n",
       "      <th>3</th>\n",
       "      <td>1</td>\n",
       "      <td>47</td>\n",
       "      <td>5.0</td>\n",
       "      <td>964983815</td>\n",
       "    </tr>\n",
       "    <tr>\n",
       "      <th>4</th>\n",
       "      <td>1</td>\n",
       "      <td>50</td>\n",
       "      <td>5.0</td>\n",
       "      <td>964982931</td>\n",
       "    </tr>\n",
       "  </tbody>\n",
       "</table>\n",
       "</div>"
      ],
      "text/plain": [
       "   userId  movieId  rating  timestamp\n",
       "0       1        1     4.0  964982703\n",
       "1       1        3     4.0  964981247\n",
       "2       1        6     4.0  964982224\n",
       "3       1       47     5.0  964983815\n",
       "4       1       50     5.0  964982931"
      ]
     },
     "execution_count": 3,
     "metadata": {},
     "output_type": "execute_result"
    }
   ],
   "source": [
    "ratings_df=pd.read_csv(ratings_path)\n",
    "ratings_df.head()\n"
   ]
  },
  {
   "cell_type": "code",
   "execution_count": 4,
   "metadata": {},
   "outputs": [
    {
     "data": {
      "text/html": [
       "<div>\n",
       "<style scoped>\n",
       "    .dataframe tbody tr th:only-of-type {\n",
       "        vertical-align: middle;\n",
       "    }\n",
       "\n",
       "    .dataframe tbody tr th {\n",
       "        vertical-align: top;\n",
       "    }\n",
       "\n",
       "    .dataframe thead th {\n",
       "        text-align: right;\n",
       "    }\n",
       "</style>\n",
       "<table border=\"1\" class=\"dataframe\">\n",
       "  <thead>\n",
       "    <tr style=\"text-align: right;\">\n",
       "      <th></th>\n",
       "      <th>movieId</th>\n",
       "      <th>title</th>\n",
       "      <th>genres</th>\n",
       "    </tr>\n",
       "  </thead>\n",
       "  <tbody>\n",
       "    <tr>\n",
       "      <th>0</th>\n",
       "      <td>1</td>\n",
       "      <td>Toy Story (1995)</td>\n",
       "      <td>Adventure|Animation|Children|Comedy|Fantasy</td>\n",
       "    </tr>\n",
       "    <tr>\n",
       "      <th>1</th>\n",
       "      <td>2</td>\n",
       "      <td>Jumanji (1995)</td>\n",
       "      <td>Adventure|Children|Fantasy</td>\n",
       "    </tr>\n",
       "    <tr>\n",
       "      <th>2</th>\n",
       "      <td>3</td>\n",
       "      <td>Grumpier Old Men (1995)</td>\n",
       "      <td>Comedy|Romance</td>\n",
       "    </tr>\n",
       "    <tr>\n",
       "      <th>3</th>\n",
       "      <td>4</td>\n",
       "      <td>Waiting to Exhale (1995)</td>\n",
       "      <td>Comedy|Drama|Romance</td>\n",
       "    </tr>\n",
       "    <tr>\n",
       "      <th>4</th>\n",
       "      <td>5</td>\n",
       "      <td>Father of the Bride Part II (1995)</td>\n",
       "      <td>Comedy</td>\n",
       "    </tr>\n",
       "  </tbody>\n",
       "</table>\n",
       "</div>"
      ],
      "text/plain": [
       "   movieId                               title  \\\n",
       "0        1                    Toy Story (1995)   \n",
       "1        2                      Jumanji (1995)   \n",
       "2        3             Grumpier Old Men (1995)   \n",
       "3        4            Waiting to Exhale (1995)   \n",
       "4        5  Father of the Bride Part II (1995)   \n",
       "\n",
       "                                        genres  \n",
       "0  Adventure|Animation|Children|Comedy|Fantasy  \n",
       "1                   Adventure|Children|Fantasy  \n",
       "2                               Comedy|Romance  \n",
       "3                         Comedy|Drama|Romance  \n",
       "4                                       Comedy  "
      ]
     },
     "execution_count": 4,
     "metadata": {},
     "output_type": "execute_result"
    }
   ],
   "source": [
    "movie_indices=[]\n",
    "inverse_movie_map={}\n",
    "movies_df=pd.read_csv(movies_path)\n",
    "movies_df.head()"
   ]
  },
  {
   "cell_type": "code",
   "execution_count": 5,
   "metadata": {},
   "outputs": [],
   "source": [
    "for i in range(len(movies_df)):\n",
    "    movie_indices.append(movies_df['movieId'][i])\n",
    "    inverse_movie_map[movies_df['movieId'][i]]=i"
   ]
  },
  {
   "cell_type": "code",
   "execution_count": 6,
   "metadata": {},
   "outputs": [],
   "source": [
    "number_of_items=len(movie_indices)\n",
    "number_of_users={}\n",
    "for i in range(len(ratings_df)):\n",
    "    number_of_users[ratings_df['userId'][i]]=1"
   ]
  },
  {
   "cell_type": "code",
   "execution_count": 7,
   "metadata": {},
   "outputs": [],
   "source": [
    "number_of_users=len(number_of_users)\n",
    "user_sim_matrix_cosine=np.load(path+'user_sim_matrix_cosine.npy')\n",
    "user_sim_matrix_pearson=np.load(path+'user_sim_matrix_pearson.npy')\n",
    "ratings_matrix_train=np.load(path+'ratings_matrix_train.npy')\n",
    "train_nos=np.load(path+'train_nos.npy')\n",
    "test_nos=np.load(path+'test_nos.npy')\n",
    "ratings_matrix_train_mean_centred=np.load(path+'ratings_matrix_train_mean_centred.npy')"
   ]
  },
  {
   "cell_type": "code",
   "execution_count": 8,
   "metadata": {},
   "outputs": [],
   "source": [
    "correct_predictions=[]\n",
    "for i in test_nos:\n",
    "    correct_predictions.append(ratings_df['rating'][i])"
   ]
  },
  {
   "cell_type": "code",
   "execution_count": null,
   "metadata": {},
   "outputs": [],
   "source": []
  },
  {
   "cell_type": "code",
   "execution_count": 9,
   "metadata": {},
   "outputs": [],
   "source": [
    "def cosine_sim(a,b):\n",
    "    mean_a=mean_with_nan(a)\n",
    "    mean_b=mean_with_nan(b)\n",
    "    #print(mean_a)\n",
    "    #print(mean_b)\n",
    "    num=0.0\n",
    "    den_left=0.0\n",
    "    den_right=0.0\n",
    "    for i in range(len(a)):\n",
    "        if (not np.isnan(a[i])) and (not np.isnan(b[i])):\n",
    "            num+=(a[i])*(b[i])\n",
    "            den_left+=(a[i])*(a[i])\n",
    "            den_right+=(b[i])*(b[i])\n",
    "    den_left=np.sqrt(den_left)\n",
    "    #print(den_left)\n",
    "    den_right=np.sqrt(den_right)\n",
    "    #print(den_right)\n",
    "    if (den_right==0 or den_left==0):\n",
    "        return -1\n",
    "    return num/((den_left)*(den_right))"
   ]
  },
  {
   "cell_type": "code",
   "execution_count": 10,
   "metadata": {},
   "outputs": [],
   "source": [
    "def mean_absolute_error(a,b):\n",
    "    error_sum=0.0\n",
    "    for i in range(len(a)):\n",
    "        error_sum+=abs(a[i]-b[i])\n",
    "    error_sum/=len(a)\n",
    "    return error_sum     "
   ]
  },
  {
   "cell_type": "code",
   "execution_count": 11,
   "metadata": {},
   "outputs": [],
   "source": [
    "def rmse_error(a,b):\n",
    "    error_sum=0.0\n",
    "    for i in range(len(a)):\n",
    "        error_sum+=(a[i]-b[i])*(a[i]-b[i])\n",
    "    error_sum/=len(a)\n",
    "    return np.sqrt(error_sum) "
   ]
  },
  {
   "cell_type": "code",
   "execution_count": 12,
   "metadata": {},
   "outputs": [],
   "source": [
    "def mean_with_nan(list_a):\n",
    "    count=0\n",
    "    sum=0.0\n",
    "    for i in list_a:\n",
    "        if not np.isnan(i):\n",
    "            #print(i)\n",
    "            count+=1\n",
    "            sum+=i\n",
    "    #print(sum) \n",
    "    if(count==0):\n",
    "        return 0\n",
    "    return sum/count        \n",
    "    "
   ]
  },
  {
   "cell_type": "code",
   "execution_count": 13,
   "metadata": {},
   "outputs": [],
   "source": [
    "mean_of_users=[]\n",
    "for i in range(number_of_users):\n",
    "    mean_of_users.append(mean_with_nan(ratings_matrix_train[i]))\n",
    "mean_of_items=[]\n",
    "for i in range(number_of_items):\n",
    "    mean_of_items.append(mean_with_nan(ratings_matrix_train[:,i]))    \n",
    "    "
   ]
  },
  {
   "cell_type": "code",
   "execution_count": 14,
   "metadata": {},
   "outputs": [],
   "source": [
    "def pearson_coff(a,b):\n",
    "    mean_a=mean_with_nan(a)\n",
    "    mean_b=mean_with_nan(b)\n",
    "    #print(mean_a)\n",
    "    #print(mean_b)\n",
    "    num=0.0\n",
    "    den_left=0.0\n",
    "    den_right=0.0\n",
    "    for i in range(len(a)):\n",
    "        if (not np.isnan(a[i])) and (not np.isnan(b[i])):\n",
    "            num+=(a[i]-mean_a)*(b[i]-mean_b)\n",
    "            den_left+=(a[i]-mean_a)*(a[i]-mean_a)\n",
    "            den_right+=(b[i]-mean_b)*(b[i]-mean_b)\n",
    "    den_left=np.sqrt(den_left)\n",
    "    #print(den_left)\n",
    "    den_right=np.sqrt(den_right)\n",
    "    #print(den_right)\n",
    "    if (den_right==0 or den_left==0):\n",
    "        return -1\n",
    "    return num/((den_left)*(den_right))"
   ]
  },
  {
   "cell_type": "code",
   "execution_count": 15,
   "metadata": {},
   "outputs": [],
   "source": [
    "def mean_list(a,b):\n",
    "    c=[]\n",
    "    for i in range(len(a)):\n",
    "        c.append((a[i]+b[i])/2)\n",
    "    return c    "
   ]
  },
  {
   "cell_type": "code",
   "execution_count": 38,
   "metadata": {},
   "outputs": [],
   "source": [
    "k=10\n",
    "cosine_result=[]\n",
    "for i in test_nos:\n",
    "    movie_no=inverse_movie_map[ratings_df['movieId'][i]]\n",
    "    user_no=ratings_df['userId'][i]-1\n",
    "    \n",
    "    top_k_similar_users_same_item_rated=[]\n",
    "    for j in range(0,number_of_users):\n",
    "        if(j!=user_no):\n",
    "            if(not np.isnan(ratings_matrix_train[j][movie_no])):\n",
    "                top_k_similar_users_same_item_rated.append((user_sim_matrix_cosine[user_no][j],ratings_matrix_train[j][movie_no]-mean_of_users[j]))\n",
    "    #print(len(top_k_similar_users_same_item_rated))\n",
    "    #print(top_k_similar_users_same_item_rated)            \n",
    "    top_k_similar_users_same_item_rated=sorted(top_k_similar_users_same_item_rated,key=lambda x: x[0],reverse=True)  \n",
    "    num=0.0\n",
    "    den=0.0\n",
    "    if(not len(top_k_similar_users_same_item_rated)<k):\n",
    "        for p in range(0,k):\n",
    "            num+=top_k_similar_users_same_item_rated[p][0]*top_k_similar_users_same_item_rated[p][1]\n",
    "            den+=abs(top_k_similar_users_same_item_rated[p][0])\n",
    "        cosine_result.append(mean_of_users[user_no]+(num/den)) \n",
    "    elif(len(top_k_similar_users_same_item_rated)>0):\n",
    "        for p in range(0,len(top_k_similar_users_same_item_rated)):\n",
    "            num+=top_k_similar_users_same_item_rated[p][0]*top_k_similar_users_same_item_rated[p][1]\n",
    "            den+=abs(top_k_similar_users_same_item_rated[p][0])\n",
    "            \n",
    "        cosine_result.append(mean_of_users[user_no]+(num/den)) \n",
    "    else:\n",
    "        cosine_result.append(mean_with_nan(ratings_matrix_train[user_no]))\n"
   ]
  },
  {
   "cell_type": "code",
   "execution_count": 17,
   "metadata": {},
   "outputs": [],
   "source": [
    "k=10\n",
    "cosine_item_result=[]\n",
    "for i in test_nos:\n",
    "    movie_no=inverse_movie_map[ratings_df['movieId'][i]]\n",
    "    user_no=ratings_df['userId'][i]-1\n",
    "    \n",
    "    top_k_similar_items_same_users_rated=[]\n",
    "    for j in range(0,number_of_items):\n",
    "        if(j!=movie_no):\n",
    "            if(not np.isnan(ratings_matrix_train[user_no][j])):\n",
    "                top_k_similar_items_same_users_rated.append((item_sim_matrix_cosine[movie_no][j],ratings_matrix_train[user_no][j]-mean_of_items[j]))\n",
    "    #print(len(top_k_similar_users_same_item_rated))\n",
    "    #print(top_k_similar_users_same_item_rated)            \n",
    "    top_k_similar_items_same_users_rated=sorted(top_k_similar_items_same_users_rated,key=lambda x: x[0],reverse=True)  \n",
    "    num=0.0\n",
    "    den=0.0\n",
    "    if(not len(top_k_similar_items_same_users_rated)<k):\n",
    "        for p in range(0,k):\n",
    "            num+=top_k_similar_items_same_users_rated[p][0]*top_k_similar_items_same_users_rated[p][1]\n",
    "            den+=abs(top_k_similar_items_same_users_rated[p][0])\n",
    "        cosine_item_result.append(mean_of_items[movie_no]+(num/den)) \n",
    "    elif(len(top_k_similar_items_same_users_rated)>0):\n",
    "        for p in range(0,len(top_k_similar_items_same_users_rated)):\n",
    "            num+=top_k_similar_items_same_users_rated[p][0]*top_k_similar_items_same_users_rated[p][1]\n",
    "            den+=abs(top_k_similar_items_same_users_rated[p][0])\n",
    "            \n",
    "        cosine_item_result.append(mean_of_items[item_no]+(num/den)) \n",
    "    else:\n",
    "        cosine_item_result.append(mean_with_nan(ratings_matrix_train[:,movie_no]))\n"
   ]
  },
  {
   "cell_type": "code",
   "execution_count": null,
   "metadata": {},
   "outputs": [],
   "source": [
    "k=10\n",
    "cosine_item_raw_result=[]\n",
    "for i in test_nos:\n",
    "    movie_no=inverse_movie_map[ratings_df['movieId'][i]]\n",
    "    user_no=ratings_df['userId'][i]-1\n",
    "    \n",
    "    top_k_similar_items_same_users_rated=[]\n",
    "    for j in range(0,number_of_items):\n",
    "        if(j!=movie_no):\n",
    "            if(not np.isnan(ratings_matrix_train[user_no][j])):\n",
    "                top_k_similar_items_same_users_rated.append((item_sim_matrix_cosine[movie_no][j],ratings_matrix_train[user_no][j]))\n",
    "    #print(len(top_k_similar_users_same_item_rated))\n",
    "    #print(top_k_similar_users_same_item_rated)            \n",
    "    top_k_similar_items_same_users_rated=sorted(top_k_similar_items_same_users_rated,key=lambda x: x[0],reverse=True)  \n",
    "    num=0.0\n",
    "    den=0.0\n",
    "    if(not len(top_k_similar_items_same_users_rated)<k):\n",
    "        for p in range(0,k):\n",
    "            num+=top_k_similar_items_same_users_rated[p][0]*top_k_similar_items_same_users_rated[p][1]\n",
    "            den+=abs(top_k_similar_items_same_users_rated[p][0])\n",
    "        cosine_item_raw_result.append((num/den)) \n",
    "    elif(len(top_k_similar_items_same_users_rated)>0):\n",
    "        for p in range(0,len(top_k_similar_items_same_users_rated)):\n",
    "            num+=top_k_similar_items_same_users_rated[p][0]*top_k_similar_items_same_users_rated[p][1]\n",
    "            den+=abs(top_k_similar_items_same_users_rated[p][0])\n",
    "            \n",
    "        cosine_item_raw_result.append((num/den)) \n",
    "    else:\n",
    "        cosine_item_raw_result.append(mean_with_nan(ratings_matrix_train[:,movie_no]))\n"
   ]
  },
  {
   "cell_type": "code",
   "execution_count": 37,
   "metadata": {},
   "outputs": [],
   "source": [
    "k=10\n",
    "pearson_result=[]\n",
    "for i in test_nos:\n",
    "    movie_no=inverse_movie_map[ratings_df['movieId'][i]]\n",
    "    user_no=ratings_df['userId'][i]-1\n",
    "    \n",
    "    top_k_similar_users_same_item_rated=[]\n",
    "    for j in range(0,number_of_users):\n",
    "        if(j!=user_no):\n",
    "            if(not np.isnan(ratings_matrix_train[j][movie_no])):\n",
    "                top_k_similar_users_same_item_rated.append((user_sim_matrix_pearson[user_no][j],ratings_matrix_train[j][movie_no]-mean_of_users[j]))\n",
    "    #print(len(top_k_similar_users_same_item_rated))\n",
    "    #print(top_k_similar_users_same_item_rated)            \n",
    "    top_k_similar_users_same_item_rated=sorted(top_k_similar_users_same_item_rated,key=lambda x: x[0],reverse=True)  \n",
    "    num=0.0\n",
    "    den=0.0\n",
    "    if(not len(top_k_similar_users_same_item_rated)<k):\n",
    "        for p in range(0,k):\n",
    "            num+=top_k_similar_users_same_item_rated[p][0]*top_k_similar_users_same_item_rated[p][1]\n",
    "            den+=abs(top_k_similar_users_same_item_rated[p][0])\n",
    "        pearson_result.append(mean_of_users[user_no]+(num/den)) \n",
    "    elif(len(top_k_similar_users_same_item_rated)>0):\n",
    "        for p in range(0,len(top_k_similar_users_same_item_rated)):\n",
    "            num+=top_k_similar_users_same_item_rated[p][0]*top_k_similar_users_same_item_rated[p][1]\n",
    "            den+=abs(top_k_similar_users_same_item_rated[p][0])\n",
    "            \n",
    "        pearson_result.append(mean_of_users[user_no]+(num/den)) \n",
    "    else:\n",
    "        pearson_result.append(mean_with_nan(ratings_matrix_train[user_no]))\n"
   ]
  },
  {
   "cell_type": "code",
   "execution_count": 19,
   "metadata": {},
   "outputs": [],
   "source": [
    "k=10\n",
    "pearson_item_result=[]\n",
    "for i in test_nos:\n",
    "    movie_no=inverse_movie_map[ratings_df['movieId'][i]]\n",
    "    user_no=ratings_df['userId'][i]-1\n",
    "    \n",
    "    top_k_similar_items_same_users_rated=[]\n",
    "    for j in range(0,number_of_items):\n",
    "        if(j!=movie_no):\n",
    "            if(not np.isnan(ratings_matrix_train[user_no][j])):\n",
    "                top_k_similar_items_same_users_rated.append((item_sim_matrix_pearson[movie_no][j],ratings_matrix_train[user_no][j]-mean_of_items[j]))\n",
    "    #print(len(top_k_similar_users_same_item_rated))\n",
    "    #print(top_k_similar_users_same_item_rated)            \n",
    "    top_k_similar_items_same_users_rated=sorted(top_k_similar_items_same_users_rated,key=lambda x: x[0],reverse=True)  \n",
    "    num=0.0\n",
    "    den=0.0\n",
    "    if(not len(top_k_similar_items_same_users_rated)<k):\n",
    "        for p in range(0,k):\n",
    "            num+=top_k_similar_items_same_users_rated[p][0]*top_k_similar_items_same_users_rated[p][1]\n",
    "            den+=abs(top_k_similar_items_same_users_rated[p][0])\n",
    "        pearson_item_result.append(mean_of_items[movie_no]+(num/den)) \n",
    "    elif(len(top_k_similar_items_same_users_rated)>0):\n",
    "        for p in range(0,len(top_k_similar_items_same_users_rated)):\n",
    "            num+=top_k_similar_items_same_users_rated[p][0]*top_k_similar_items_same_users_rated[p][1]\n",
    "            den+=abs(top_k_similar_items_same_users_rated[p][0])\n",
    "            \n",
    "        pearson_item_result.append(mean_of_items[item_no]+(num/den)) \n",
    "    else:\n",
    "        pearson_item_result.append(mean_with_nan(ratings_matrix_train[:,movie_no]))\n"
   ]
  },
  {
   "cell_type": "code",
   "execution_count": null,
   "metadata": {},
   "outputs": [],
   "source": [
    "# k=10\n",
    "# pearson_item_raw_result=[]\n",
    "# for i in test_nos:\n",
    "#     movie_no=inverse_movie_map[ratings_df['movieId'][i]]\n",
    "#     user_no=ratings_df['userId'][i]-1\n",
    "    \n",
    "#     top_k_similar_items_same_users_rated=[]\n",
    "#     for j in range(0,number_of_items):\n",
    "#         if(j!=movie_no):\n",
    "#             if(not np.isnan(ratings_matrix_train[user_no][j])):\n",
    "#                 top_k_similar_items_same_users_rated.append((item_sim_matrix_pearson[movie_no][j],ratings_matrix_train[user_no][j]))\n",
    "#     #print(len(top_k_similar_users_same_item_rated))\n",
    "#     #print(top_k_similar_users_same_item_rated)            \n",
    "#     top_k_similar_items_same_users_rated=sorted(top_k_similar_items_same_users_rated,key=lambda x: x[0],reverse=True)  \n",
    "#     num=0.0\n",
    "#     den=0.0\n",
    "#     if(not len(top_k_similar_items_same_users_rated)<k):\n",
    "#         for p in range(0,k):\n",
    "#             num+=top_k_similar_items_same_users_rated[p][0]*top_k_similar_items_same_users_rated[p][1]\n",
    "#             den+=abs(top_k_similar_items_same_users_rated[p][0])\n",
    "#         pearson_item_raw_result.append((num/den)) \n",
    "#     elif(len(top_k_similar_items_same_users_rated)>0):\n",
    "#         for p in range(0,len(top_k_similar_items_same_users_rated)):\n",
    "#             num+=top_k_similar_items_same_users_rated[p][0]*top_k_similar_items_same_users_rated[p][1]\n",
    "#             den+=abs(top_k_similar_items_same_users_rated[p][0])\n",
    "            \n",
    "#         pearson_item_raw_result.append((num/den)) \n",
    "#     else:\n",
    "#         pearson_item_raw_result.append(mean_with_nan(ratings_matrix_train[:,movie_no]))\n"
   ]
  },
  {
   "cell_type": "code",
   "execution_count": 16,
   "metadata": {},
   "outputs": [],
   "source": [
    "k=10\n",
    "pearson_raw_result=[]\n",
    "for i in test_nos:\n",
    "    movie_no=inverse_movie_map[ratings_df['movieId'][i]]\n",
    "    user_no=ratings_df['userId'][i]-1\n",
    "    \n",
    "    top_k_similar_users_same_item_rated=[]\n",
    "    for j in range(0,number_of_users):\n",
    "        if(j!=user_no):\n",
    "            if(not np.isnan(ratings_matrix_train[j][movie_no])):\n",
    "                top_k_similar_users_same_item_rated.append((user_sim_matrix_pearson[user_no][j],ratings_matrix_train[j][movie_no]))\n",
    "    #print(len(top_k_similar_users_same_item_rated))\n",
    "    #print(top_k_similar_users_same_item_rated)            \n",
    "    top_k_similar_users_same_item_rated=sorted(top_k_similar_users_same_item_rated,key=lambda x: x[0],reverse=True)  \n",
    "    num=0.0\n",
    "    den=0.0\n",
    "    if(not len(top_k_similar_users_same_item_rated)<k):\n",
    "        for p in range(0,k):\n",
    "            num+=top_k_similar_users_same_item_rated[p][0]*top_k_similar_users_same_item_rated[p][1]\n",
    "            den+=abs(top_k_similar_users_same_item_rated[p][0])\n",
    "        pearson_raw_result.append(num/den) \n",
    "    elif(len(top_k_similar_users_same_item_rated)>0):\n",
    "        for p in range(0,len(top_k_similar_users_same_item_rated)):\n",
    "            num+=top_k_similar_users_same_item_rated[p][0]*top_k_similar_users_same_item_rated[p][1]\n",
    "            den+=abs(top_k_similar_users_same_item_rated[p][0])\n",
    "        pearson_raw_result.append(num/den) \n",
    "    else:\n",
    "        pearson_raw_result.append(mean_with_nan(ratings_matrix_train[user_no]))\n"
   ]
  },
  {
   "cell_type": "code",
   "execution_count": 17,
   "metadata": {},
   "outputs": [],
   "source": [
    "k=10\n",
    "cosine_raw_result=[]\n",
    "for i in test_nos:\n",
    "    movie_no=inverse_movie_map[ratings_df['movieId'][i]]\n",
    "    user_no=ratings_df['userId'][i]-1\n",
    "    \n",
    "    top_k_similar_users_same_item_rated=[]\n",
    "    for j in range(0,number_of_users):\n",
    "        if(j!=user_no):\n",
    "            if(not np.isnan(ratings_matrix_train[j][movie_no])):\n",
    "                top_k_similar_users_same_item_rated.append((user_sim_matrix_cosine[user_no][j],ratings_matrix_train[j][movie_no]))\n",
    "    #print(len(top_k_similar_users_same_item_rated))\n",
    "    #print(top_k_similar_users_same_item_rated)            \n",
    "    top_k_similar_users_same_item_rated=sorted(top_k_similar_users_same_item_rated,key=lambda x: x[0],reverse=True)  \n",
    "    num=0.0\n",
    "    den=0.0\n",
    "    if(not len(top_k_similar_users_same_item_rated)<k):\n",
    "        for p in range(0,k):\n",
    "            num+=top_k_similar_users_same_item_rated[p][0]*top_k_similar_users_same_item_rated[p][1]\n",
    "            den+=abs(top_k_similar_users_same_item_rated[p][0])\n",
    "        cosine_raw_result.append(num/den) \n",
    "    elif(len(top_k_similar_users_same_item_rated)>0):\n",
    "        for p in range(0,len(top_k_similar_users_same_item_rated)):\n",
    "            num+=top_k_similar_users_same_item_rated[p][0]*top_k_similar_users_same_item_rated[p][1]\n",
    "            den+=abs(top_k_similar_users_same_item_rated[p][0])\n",
    "        cosine_raw_result.append(num/den) \n",
    "    else:\n",
    "        cosine_raw_result.append(mean_with_nan(ratings_matrix_train[user_no]))\n"
   ]
  },
  {
   "cell_type": "code",
   "execution_count": 43,
   "metadata": {},
   "outputs": [
    {
     "data": {
      "text/plain": [
       "0.9564611034081687"
      ]
     },
     "execution_count": 43,
     "metadata": {},
     "output_type": "execute_result"
    }
   ],
   "source": [
    "rmse_error(correct_predictions,hybrid_cosine)"
   ]
  },
  {
   "cell_type": "code",
   "execution_count": 44,
   "metadata": {},
   "outputs": [
    {
     "data": {
      "text/plain": [
       "0.7277524270318928"
      ]
     },
     "execution_count": 44,
     "metadata": {},
     "output_type": "execute_result"
    }
   ],
   "source": [
    "mean_absolute_error(correct_predictions,hybrid_cosine)"
   ]
  },
  {
   "cell_type": "code",
   "execution_count": 39,
   "metadata": {},
   "outputs": [],
   "source": [
    "hybrid_pearson=mean_list(pearson_result,pearson_item_result)\n",
    "hybrid_cosine=mean_list(cosine_result,cosine_item_result)"
   ]
  },
  {
   "cell_type": "code",
   "execution_count": null,
   "metadata": {},
   "outputs": [
    {
     "name": "stdout",
     "output_type": "stream",
     "text": [
      "0\n",
      "50\n",
      "100\n",
      "150\n",
      "200\n",
      "250\n",
      "300\n",
      "350\n",
      "400\n",
      "450\n",
      "500\n",
      "550\n",
      "600\n",
      "650\n",
      "700\n",
      "750\n"
     ]
    }
   ],
   "source": [
    "item_sim_matrix_pearson=np.zeros(shape=(number_of_items,number_of_items))\n",
    "item_sim_matrix_pearson.fill(np.nan)\n",
    "for i in range(0,number_of_items):\n",
    "    if(i%50==0):\n",
    "        print(i)\n",
    "    for j in range(i,number_of_items):\n",
    "        item_sim_matrix_pearson[i][j]=pearson_coff(ratings_matrix_train[:,i],ratings_matrix_train[:,j])\n",
    "        item_sim_matrix_pearson[j][i]=item_sim_matrix_pearson[i][j]"
   ]
  },
  {
   "cell_type": "code",
   "execution_count": null,
   "metadata": {},
   "outputs": [],
   "source": [
    "#np.save(path+'item_sim_matrix_pearson',item_sim_matrix_pearson)"
   ]
  },
  {
   "cell_type": "code",
   "execution_count": 32,
   "metadata": {},
   "outputs": [],
   "source": [
    "#del item_sim_matrix_pearson,item_sim_matrix_cosine"
   ]
  },
  {
   "cell_type": "code",
   "execution_count": 25,
   "metadata": {},
   "outputs": [
    {
     "ename": "KeyboardInterrupt",
     "evalue": "",
     "output_type": "error",
     "traceback": [
      "\u001b[0;31m---------------------------------------------------------------------------\u001b[0m",
      "\u001b[0;31mKeyboardInterrupt\u001b[0m                         Traceback (most recent call last)",
      "\u001b[0;32m<ipython-input-25-158c26482242>\u001b[0m in \u001b[0;36m<module>\u001b[0;34m\u001b[0m\n\u001b[1;32m      2\u001b[0m \u001b[0;32mfor\u001b[0m \u001b[0mi\u001b[0m \u001b[0;32min\u001b[0m \u001b[0mrange\u001b[0m\u001b[0;34m(\u001b[0m\u001b[0mnumber_of_items\u001b[0m\u001b[0;34m)\u001b[0m\u001b[0;34m:\u001b[0m\u001b[0;34m\u001b[0m\u001b[0;34m\u001b[0m\u001b[0m\n\u001b[1;32m      3\u001b[0m     \u001b[0;32mfor\u001b[0m \u001b[0mj\u001b[0m \u001b[0;32min\u001b[0m \u001b[0mrange\u001b[0m\u001b[0;34m(\u001b[0m\u001b[0mnumber_of_users\u001b[0m\u001b[0;34m)\u001b[0m\u001b[0;34m:\u001b[0m\u001b[0;34m\u001b[0m\u001b[0;34m\u001b[0m\u001b[0m\n\u001b[0;32m----> 4\u001b[0;31m         \u001b[0;32mif\u001b[0m\u001b[0;34m(\u001b[0m\u001b[0;32mnot\u001b[0m \u001b[0mnp\u001b[0m\u001b[0;34m.\u001b[0m\u001b[0misnan\u001b[0m\u001b[0;34m(\u001b[0m\u001b[0mratings_matrix_train\u001b[0m\u001b[0;34m[\u001b[0m\u001b[0mj\u001b[0m\u001b[0;34m]\u001b[0m\u001b[0;34m[\u001b[0m\u001b[0mi\u001b[0m\u001b[0;34m]\u001b[0m\u001b[0;34m)\u001b[0m\u001b[0;34m)\u001b[0m\u001b[0;34m:\u001b[0m\u001b[0;34m\u001b[0m\u001b[0;34m\u001b[0m\u001b[0m\n\u001b[0m\u001b[1;32m      5\u001b[0m             \u001b[0;32mif\u001b[0m \u001b[0mi\u001b[0m \u001b[0;32min\u001b[0m \u001b[0mitem_map\u001b[0m\u001b[0;34m:\u001b[0m\u001b[0;34m\u001b[0m\u001b[0;34m\u001b[0m\u001b[0m\n\u001b[1;32m      6\u001b[0m                 \u001b[0mitem_map\u001b[0m\u001b[0;34m[\u001b[0m\u001b[0mi\u001b[0m\u001b[0;34m]\u001b[0m\u001b[0;34m.\u001b[0m\u001b[0mappend\u001b[0m\u001b[0;34m(\u001b[0m\u001b[0mj\u001b[0m\u001b[0;34m)\u001b[0m\u001b[0;34m\u001b[0m\u001b[0;34m\u001b[0m\u001b[0m\n",
      "\u001b[0;31mKeyboardInterrupt\u001b[0m: "
     ]
    }
   ],
   "source": [
    "item_map={}\n",
    "for i in range(number_of_items):\n",
    "    for j in range(number_of_users):\n",
    "        if(not np.isnan(ratings_matrix_train[j][i])):\n",
    "            if i in item_map:\n",
    "                item_map[i].append(j)\n",
    "            else:\n",
    "                item_map[i]=[]\n",
    "                item_map[i].append(j)\n",
    "        "
   ]
  },
  {
   "cell_type": "code",
   "execution_count": null,
   "metadata": {},
   "outputs": [],
   "source": [
    "weight=0.4\n"
   ]
  },
  {
   "cell_type": "code",
   "execution_count": null,
   "metadata": {},
   "outputs": [],
   "source": [
    "item_sim_matrix_cosine=np.zeros(shape=(number_of_items,number_of_items))\n",
    "item_sim_matrix_cosine.fill(np.nan)\n",
    "for i in range(0,number_of_items):\n",
    "    if(i%50==0):\n",
    "        print(i)\n",
    "    for j in range(i,number_of_items):\n",
    "        item_sim_matrix_cosine[i][j]=cosine_sim(ratings_matrix_train[:,i],ratings_matrix_train[:,j])\n",
    "        item_sim_matrix_cosine[j][i]=item_sim_matrix_cosine[i][j]"
   ]
  },
  {
   "cell_type": "code",
   "execution_count": null,
   "metadata": {},
   "outputs": [],
   "source": [
    "#np.save(path+'item_sim_matrix_cosine',item_sim_matrix_cosine)"
   ]
  },
  {
   "cell_type": "code",
   "execution_count": 2,
   "metadata": {},
   "outputs": [],
   "source": [
    "a=[1,3,8,6]"
   ]
  },
  {
   "cell_type": "code",
   "execution_count": 3,
   "metadata": {},
   "outputs": [
    {
     "name": "stdout",
     "output_type": "stream",
     "text": [
      "yo\n"
     ]
    }
   ],
   "source": [
    "if 8 in a:\n",
    "    print(\"yo\")"
   ]
  },
  {
   "cell_type": "code",
   "execution_count": null,
   "metadata": {},
   "outputs": [],
   "source": []
  }
 ],
 "metadata": {
  "kernelspec": {
   "display_name": "Python 3",
   "language": "python",
   "name": "python3"
  },
  "language_info": {
   "codemirror_mode": {
    "name": "ipython",
    "version": 3
   },
   "file_extension": ".py",
   "mimetype": "text/x-python",
   "name": "python",
   "nbconvert_exporter": "python",
   "pygments_lexer": "ipython3",
   "version": "3.6.8"
  }
 },
 "nbformat": 4,
 "nbformat_minor": 2
}
